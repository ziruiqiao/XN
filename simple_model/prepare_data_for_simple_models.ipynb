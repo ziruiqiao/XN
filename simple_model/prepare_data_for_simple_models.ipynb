{
 "cells": [
  {
   "cell_type": "code",
   "execution_count": 1,
   "id": "initial_id",
   "metadata": {
    "collapsed": true,
    "ExecuteTime": {
     "end_time": "2024-05-08T16:26:22.485719800Z",
     "start_time": "2024-05-08T16:26:21.845791300Z"
    }
   },
   "outputs": [],
   "source": [
    "from ActivePyTools.grab_data import eval_object_columns\n",
    "from sklearn.preprocessing import StandardScaler, MinMaxScaler\n",
    "import cv2\n",
    "import pandas as pd\n",
    "import numpy as np\n",
    "import chardet\n",
    "\n",
    "crop_path = '../docs/crop_pics/google/'\n",
    "\n",
    "def grab_df_data(df_path):\n",
    "    with open(df_path, 'rb') as file:\n",
    "        encoding = chardet.detect(file.read())['encoding']\n",
    "\n",
    "    temp_df = pd.read_csv(df_path, encoding=encoding)\n",
    "    df = eval_object_columns(temp_df)\n",
    "    return df\n",
    "\n",
    "def normalize_row(row, img_shape):\n",
    "    img_height, img_width, _ = img_shape\n",
    "    text_len = len(row.txt)\n",
    "    slope1, slope2, slope3, slope4 = row.slopes\n",
    "    direction = 1 if row.direction == 'vertical' else 0\n",
    "    if direction:\n",
    "        slope = (slope1 + slope3) / 2\n",
    "    else:\n",
    "        slope = (slope2 + slope4) / 2\n",
    "    if slope == 0:\n",
    "        slope = 0.0001\n",
    "    angle = np.rad2deg(np.arctan2(abs(slope), 1))\n",
    "    font_h = row.font * np.sin(angle)\n",
    "    font_w = row.font * np.cos(angle)\n",
    "    word_len_h = row.word_len * np.sin(90 - angle)\n",
    "    word_len_w = row.word_len * np.cos(90 - angle)\n",
    "\n",
    "    font_h /= img_height\n",
    "    font_w /= img_width\n",
    "    word_len_h /= img_height\n",
    "    word_len_w /= img_width\n",
    "\n",
    "    font = np.sqrt(font_h**2 + font_w**2)\n",
    "    word_len = np.sqrt(word_len_h**2 + word_len_w**2)\n",
    "\n",
    "    center_x, center_y = row.center_point\n",
    "    center_x /= img_width\n",
    "    center_y /= img_height\n",
    "    label = row.Label\n",
    "\n",
    "    return pd.Series({\n",
    "        'idx': row.idx,\n",
    "        'txt_len': text_len,\n",
    "        'direction': direction,\n",
    "        'angle': angle,\n",
    "        'norm_font': font,\n",
    "        'norm_word_len': word_len,\n",
    "        'norm_center_x': center_x,\n",
    "        'norm_center_y': center_y,\n",
    "        'label': label\n",
    "    })\n",
    "\n",
    "def sqrt_sq_cbrt_cb(number):\n",
    "    sign = 1 if number >=0 else -1\n",
    "    number = abs(number)\n",
    "    # print(number)\n",
    "    return sign*np.sqrt(number), np.square(number), sign*np.cbrt(number), sign*np.power(number, 3)\n",
    "\n",
    "def row_feature_eng(row):\n",
    "    font_sqrt, font_square, font_cbrt, font_cube = sqrt_sq_cbrt_cb(row.norm_font)\n",
    "    word_len_sqrt, word_len_square, word_len_cbrt, word_len_cube = sqrt_sq_cbrt_cb(row.txt_len)\n",
    "    row['font_sqrt'] = font_sqrt\n",
    "    row['font_square'] = font_square\n",
    "    row['font_cbrt'] = font_cbrt\n",
    "    row['font_cube'] = font_cube\n",
    "    row['word_len_sqrt'] = word_len_sqrt\n",
    "    row['word_len_square'] = word_len_square\n",
    "    row['word_len_cbrt'] = word_len_cbrt\n",
    "    row['word_len_cube'] = word_len_cube\n",
    "    return row\n",
    "\n",
    "def normalize_df(df):\n",
    "\n",
    "    norm_data = []\n",
    "\n",
    "    for index, row in df.iterrows():\n",
    "        img_path = row.img_path\n",
    "        img = cv2.imread(img_path)\n",
    "        if img is not None:\n",
    "            new_row = normalize_row(row, img.shape)\n",
    "            norm_data.append(new_row)\n",
    "\n",
    "    return pd.DataFrame(norm_data, columns=['idx', 'txt_len', 'direction', 'angle', 'norm_font', 'norm_word_len', 'norm_center_x', 'norm_center_y', 'label'])\n",
    "\n",
    "def text_to_vector(text, model):\n",
    "    # Tokenize the text\n",
    "    words = text.split()\n",
    "    # Filter words to make sure they are in the model\n",
    "    words = [word for word in words if word in model.key_to_index]\n",
    "\n",
    "    # If no words in the model, return a zero vector\n",
    "    if len(words) == 0:\n",
    "        return np.zeros(model.vector_size)\n",
    "\n",
    "    # Compute average vector\n",
    "    word_vectors = np.array([model[word] for word in words])\n",
    "    average_vector = word_vectors.mean(axis=0)\n",
    "    return average_vector"
   ]
  },
  {
   "cell_type": "markdown",
   "source": [
    "## Combine Dataframes"
   ],
   "metadata": {
    "collapsed": false
   },
   "id": "c08d1871ed18c86d"
  },
  {
   "cell_type": "code",
   "execution_count": 2,
   "outputs": [],
   "source": [
    "df_path1 = '../data/Bookshelves_1_df.csv'\n",
    "df1 = grab_df_data(df_path1)\n",
    "df1['img_path'] = df1['crop_idx'].apply(lambda x: f\"{crop_path}Bookshelves_1.jpg_{x[0]}_{x[1]}.jpg\")\n",
    "df1['idx'] = df1.index\n",
    "\n",
    "df_path2 = '../data/Bookshelves_4_df.csv'\n",
    "df2 = grab_df_data(df_path2)\n",
    "df2['img_path'] = df2['crop_idx'].apply(lambda x: f\"{crop_path}Bookshelves_4.jpg_{x[0]}_{x[1]}.jpg\")\n",
    "df2['idx'] = df1['idx'].max() + df2.index\n",
    "\n",
    "df_path3 = '../data/IMG_7940_labelled_df.csv'\n",
    "df3 = grab_df_data(df_path3)\n",
    "df3['img_path'] = df3['crop_idx'].apply(lambda x: f\"{crop_path}IMG_7940.jpeg_{x[0]}_{x[1]}.jpg\")\n",
    "df3['idx'] = df2['idx'].max() + df3.index"
   ],
   "metadata": {
    "collapsed": false,
    "ExecuteTime": {
     "end_time": "2024-05-08T16:26:24.743674900Z",
     "start_time": "2024-05-08T16:26:22.487723700Z"
    }
   },
   "id": "1c340a7d67d07f"
  },
  {
   "cell_type": "code",
   "execution_count": 3,
   "outputs": [
    {
     "data": {
      "text/plain": "           txt                                           vertices  \\\n0          THE       [(83, 360), (85, 402), (69, 403), (67, 361)]   \n1      TIPPING       [(85, 412), (88, 501), (72, 502), (69, 413)]   \n2        POINT       [(89, 511), (92, 578), (76, 579), (73, 512)]   \n3      MALCOLM       [(90, 621), (95, 722), (80, 723), (75, 622)]   \n4     GLADWELL      [(96, 735), (102, 846), (87, 847), (81, 736)]   \n...        ...                                                ...   \n1415    POETRY  [(3870, 560), (3858, 639), (3839, 636), (3851,...   \n1416        OF  [(3877, 517), (3873, 544), (3853, 541), (3857,...   \n1417      BOOK  [(3887, 451), (3879, 504), (3860, 502), (3868,...   \n1418       THE  [(3896, 395), (3890, 436), (3870, 433), (3876,...   \n1419       Son  [(3962, 228), (4030, 228), (4030, 294), (3962,...   \n\n                                               boundBox  \\\n0     {'Width': 18, 'Height': 43, 'Left': 67, 'Top':...   \n1     {'Width': 19, 'Height': 90, 'Left': 69, 'Top':...   \n2     {'Width': 19, 'Height': 68, 'Left': 73, 'Top':...   \n3     {'Width': 20, 'Height': 102, 'Left': 75, 'Top'...   \n4     {'Width': 21, 'Height': 112, 'Left': 81, 'Top'...   \n...                                                 ...   \n1415  {'Width': 31, 'Height': 82, 'Left': 3839, 'Top...   \n1416  {'Width': 24, 'Height': 30, 'Left': 3853, 'Top...   \n1417  {'Width': 27, 'Height': 56, 'Left': 3860, 'Top...   \n1418  {'Width': 26, 'Height': 44, 'Left': 3870, 'Top...   \n1419  {'Width': 68, 'Height': 66, 'Left': 3962, 'Top...   \n\n                                slopes       font    word_len   direction  \\\n0         (-21.0, 0.062, -21.0, 0.062)  16.031220   42.047592    vertical   \n1     (-29.667, 0.062, -29.667, 0.062)  16.031220   89.050547    vertical   \n2     (-22.333, 0.062, -22.333, 0.062)  16.031220   67.067131    vertical   \n3         (-20.2, 0.067, -20.2, 0.067)  15.033296  101.123687    vertical   \n4         (-18.5, 0.067, -18.5, 0.067)  15.033296  111.162044    vertical   \n...                                ...        ...         ...         ...   \n1415    (6.583, -0.158, 6.583, -0.158)  19.235384   79.906195    vertical   \n1416        (6.75, -0.15, 6.75, -0.15)  20.223748   27.294688    vertical   \n1417     (6.625, -0.105, 6.75, -0.158)  19.170179   54.094875    vertical   \n1418      (6.833, -0.15, 6.833, -0.15)  20.223748   41.436699    vertical   \n1419       (-0.0, 1000.0, 0.0, 1000.0)  66.000000   68.000000  horizontal   \n\n          center_point  Label  \\\n0        (76.0, 381.5)      1   \n1        (78.5, 457.0)      1   \n2        (82.5, 545.0)      1   \n3        (85.0, 672.0)      1   \n4        (91.5, 791.0)      1   \n...                ...    ...   \n1415   (3854.5, 598.0)      1   \n1416   (3865.0, 529.0)      1   \n1417  (3873.5, 476.25)      1   \n1418   (3883.0, 414.0)      1   \n1419   (3996.0, 261.0)      0   \n\n                                               img_path   idx  \n0     ../docs/crop_pics/google/Bookshelves_1.jpg_0_0...     0  \n1     ../docs/crop_pics/google/Bookshelves_1.jpg_0_0...     1  \n2     ../docs/crop_pics/google/Bookshelves_1.jpg_0_0...     2  \n3     ../docs/crop_pics/google/Bookshelves_1.jpg_0_0...     3  \n4     ../docs/crop_pics/google/Bookshelves_1.jpg_0_0...     4  \n...                                                 ...   ...  \n1415     ../docs/crop_pics/google/IMG_7940.jpeg_0_0.jpg  1413  \n1416     ../docs/crop_pics/google/IMG_7940.jpeg_0_0.jpg  1414  \n1417     ../docs/crop_pics/google/IMG_7940.jpeg_0_0.jpg  1415  \n1418     ../docs/crop_pics/google/IMG_7940.jpeg_0_0.jpg  1416  \n1419     ../docs/crop_pics/google/IMG_7940.jpeg_0_0.jpg  1417  \n\n[1420 rows x 11 columns]",
      "text/html": "<div>\n<style scoped>\n    .dataframe tbody tr th:only-of-type {\n        vertical-align: middle;\n    }\n\n    .dataframe tbody tr th {\n        vertical-align: top;\n    }\n\n    .dataframe thead th {\n        text-align: right;\n    }\n</style>\n<table border=\"1\" class=\"dataframe\">\n  <thead>\n    <tr style=\"text-align: right;\">\n      <th></th>\n      <th>txt</th>\n      <th>vertices</th>\n      <th>boundBox</th>\n      <th>slopes</th>\n      <th>font</th>\n      <th>word_len</th>\n      <th>direction</th>\n      <th>center_point</th>\n      <th>Label</th>\n      <th>img_path</th>\n      <th>idx</th>\n    </tr>\n  </thead>\n  <tbody>\n    <tr>\n      <th>0</th>\n      <td>THE</td>\n      <td>[(83, 360), (85, 402), (69, 403), (67, 361)]</td>\n      <td>{'Width': 18, 'Height': 43, 'Left': 67, 'Top':...</td>\n      <td>(-21.0, 0.062, -21.0, 0.062)</td>\n      <td>16.031220</td>\n      <td>42.047592</td>\n      <td>vertical</td>\n      <td>(76.0, 381.5)</td>\n      <td>1</td>\n      <td>../docs/crop_pics/google/Bookshelves_1.jpg_0_0...</td>\n      <td>0</td>\n    </tr>\n    <tr>\n      <th>1</th>\n      <td>TIPPING</td>\n      <td>[(85, 412), (88, 501), (72, 502), (69, 413)]</td>\n      <td>{'Width': 19, 'Height': 90, 'Left': 69, 'Top':...</td>\n      <td>(-29.667, 0.062, -29.667, 0.062)</td>\n      <td>16.031220</td>\n      <td>89.050547</td>\n      <td>vertical</td>\n      <td>(78.5, 457.0)</td>\n      <td>1</td>\n      <td>../docs/crop_pics/google/Bookshelves_1.jpg_0_0...</td>\n      <td>1</td>\n    </tr>\n    <tr>\n      <th>2</th>\n      <td>POINT</td>\n      <td>[(89, 511), (92, 578), (76, 579), (73, 512)]</td>\n      <td>{'Width': 19, 'Height': 68, 'Left': 73, 'Top':...</td>\n      <td>(-22.333, 0.062, -22.333, 0.062)</td>\n      <td>16.031220</td>\n      <td>67.067131</td>\n      <td>vertical</td>\n      <td>(82.5, 545.0)</td>\n      <td>1</td>\n      <td>../docs/crop_pics/google/Bookshelves_1.jpg_0_0...</td>\n      <td>2</td>\n    </tr>\n    <tr>\n      <th>3</th>\n      <td>MALCOLM</td>\n      <td>[(90, 621), (95, 722), (80, 723), (75, 622)]</td>\n      <td>{'Width': 20, 'Height': 102, 'Left': 75, 'Top'...</td>\n      <td>(-20.2, 0.067, -20.2, 0.067)</td>\n      <td>15.033296</td>\n      <td>101.123687</td>\n      <td>vertical</td>\n      <td>(85.0, 672.0)</td>\n      <td>1</td>\n      <td>../docs/crop_pics/google/Bookshelves_1.jpg_0_0...</td>\n      <td>3</td>\n    </tr>\n    <tr>\n      <th>4</th>\n      <td>GLADWELL</td>\n      <td>[(96, 735), (102, 846), (87, 847), (81, 736)]</td>\n      <td>{'Width': 21, 'Height': 112, 'Left': 81, 'Top'...</td>\n      <td>(-18.5, 0.067, -18.5, 0.067)</td>\n      <td>15.033296</td>\n      <td>111.162044</td>\n      <td>vertical</td>\n      <td>(91.5, 791.0)</td>\n      <td>1</td>\n      <td>../docs/crop_pics/google/Bookshelves_1.jpg_0_0...</td>\n      <td>4</td>\n    </tr>\n    <tr>\n      <th>...</th>\n      <td>...</td>\n      <td>...</td>\n      <td>...</td>\n      <td>...</td>\n      <td>...</td>\n      <td>...</td>\n      <td>...</td>\n      <td>...</td>\n      <td>...</td>\n      <td>...</td>\n      <td>...</td>\n    </tr>\n    <tr>\n      <th>1415</th>\n      <td>POETRY</td>\n      <td>[(3870, 560), (3858, 639), (3839, 636), (3851,...</td>\n      <td>{'Width': 31, 'Height': 82, 'Left': 3839, 'Top...</td>\n      <td>(6.583, -0.158, 6.583, -0.158)</td>\n      <td>19.235384</td>\n      <td>79.906195</td>\n      <td>vertical</td>\n      <td>(3854.5, 598.0)</td>\n      <td>1</td>\n      <td>../docs/crop_pics/google/IMG_7940.jpeg_0_0.jpg</td>\n      <td>1413</td>\n    </tr>\n    <tr>\n      <th>1416</th>\n      <td>OF</td>\n      <td>[(3877, 517), (3873, 544), (3853, 541), (3857,...</td>\n      <td>{'Width': 24, 'Height': 30, 'Left': 3853, 'Top...</td>\n      <td>(6.75, -0.15, 6.75, -0.15)</td>\n      <td>20.223748</td>\n      <td>27.294688</td>\n      <td>vertical</td>\n      <td>(3865.0, 529.0)</td>\n      <td>1</td>\n      <td>../docs/crop_pics/google/IMG_7940.jpeg_0_0.jpg</td>\n      <td>1414</td>\n    </tr>\n    <tr>\n      <th>1417</th>\n      <td>BOOK</td>\n      <td>[(3887, 451), (3879, 504), (3860, 502), (3868,...</td>\n      <td>{'Width': 27, 'Height': 56, 'Left': 3860, 'Top...</td>\n      <td>(6.625, -0.105, 6.75, -0.158)</td>\n      <td>19.170179</td>\n      <td>54.094875</td>\n      <td>vertical</td>\n      <td>(3873.5, 476.25)</td>\n      <td>1</td>\n      <td>../docs/crop_pics/google/IMG_7940.jpeg_0_0.jpg</td>\n      <td>1415</td>\n    </tr>\n    <tr>\n      <th>1418</th>\n      <td>THE</td>\n      <td>[(3896, 395), (3890, 436), (3870, 433), (3876,...</td>\n      <td>{'Width': 26, 'Height': 44, 'Left': 3870, 'Top...</td>\n      <td>(6.833, -0.15, 6.833, -0.15)</td>\n      <td>20.223748</td>\n      <td>41.436699</td>\n      <td>vertical</td>\n      <td>(3883.0, 414.0)</td>\n      <td>1</td>\n      <td>../docs/crop_pics/google/IMG_7940.jpeg_0_0.jpg</td>\n      <td>1416</td>\n    </tr>\n    <tr>\n      <th>1419</th>\n      <td>Son</td>\n      <td>[(3962, 228), (4030, 228), (4030, 294), (3962,...</td>\n      <td>{'Width': 68, 'Height': 66, 'Left': 3962, 'Top...</td>\n      <td>(-0.0, 1000.0, 0.0, 1000.0)</td>\n      <td>66.000000</td>\n      <td>68.000000</td>\n      <td>horizontal</td>\n      <td>(3996.0, 261.0)</td>\n      <td>0</td>\n      <td>../docs/crop_pics/google/IMG_7940.jpeg_0_0.jpg</td>\n      <td>1417</td>\n    </tr>\n  </tbody>\n</table>\n<p>1420 rows × 11 columns</p>\n</div>"
     },
     "execution_count": 3,
     "metadata": {},
     "output_type": "execute_result"
    }
   ],
   "source": [
    "df = pd.concat([df1, df2, df3], ignore_index=True)\n",
    "df = df.drop(columns=['confidence', 'crop_idx', 'Left', 'Top'])\n",
    "df"
   ],
   "metadata": {
    "collapsed": false,
    "ExecuteTime": {
     "end_time": "2024-05-08T16:26:24.790553300Z",
     "start_time": "2024-05-08T16:26:24.744675Z"
    }
   },
   "id": "25d0bcd346e84274"
  },
  {
   "cell_type": "markdown",
   "source": [
    "## Prepare Train, Validation, Test Data"
   ],
   "metadata": {
    "collapsed": false
   },
   "id": "68e6ecbbde991c7e"
  },
  {
   "cell_type": "code",
   "execution_count": 4,
   "outputs": [],
   "source": [
    "one_df = df[df['Label'] == 1]\n",
    "zero_df = df[df['Label'] == 0]"
   ],
   "metadata": {
    "collapsed": false,
    "ExecuteTime": {
     "end_time": "2024-05-08T16:26:24.791553300Z",
     "start_time": "2024-05-08T16:26:24.782468900Z"
    }
   },
   "id": "27723d7e7617f220"
  },
  {
   "cell_type": "code",
   "execution_count": 5,
   "outputs": [],
   "source": [
    "from sklearn.model_selection import train_test_split\n",
    "\n",
    "train_one_df, temp_one_df = train_test_split(one_df, test_size=0.4, random_state=42)\n",
    "valid_one_df, test_one_df = train_test_split(temp_one_df, test_size=0.5, random_state=42)\n",
    "train_zero_df, temp_zero_df = train_test_split(zero_df, test_size=0.4, random_state=42)\n",
    "valid_zero_df, test_zero_df = train_test_split(temp_zero_df, test_size=0.5, random_state=42)"
   ],
   "metadata": {
    "collapsed": false,
    "ExecuteTime": {
     "end_time": "2024-05-08T16:26:24.853758800Z",
     "start_time": "2024-05-08T16:26:24.788553800Z"
    }
   },
   "id": "a3d3c79ed49b9313"
  },
  {
   "cell_type": "code",
   "execution_count": 6,
   "outputs": [],
   "source": [
    "rate = train_one_df.shape[0]/train_zero_df.shape[0]\n",
    "df_duplicated = train_zero_df.copy()\n",
    "for i in range(int(rate)-1):\n",
    "    df_duplicated = pd.concat([train_zero_df, df_duplicated], ignore_index=True)\n",
    "\n",
    "selected_rows = train_zero_df.sample(frac=rate % 1, random_state=42)\n",
    "resample_train_zero_df = pd.concat([df_duplicated, selected_rows], ignore_index=True)"
   ],
   "metadata": {
    "collapsed": false,
    "ExecuteTime": {
     "end_time": "2024-05-08T16:26:24.884210200Z",
     "start_time": "2024-05-08T16:26:24.831664500Z"
    }
   },
   "id": "167373f49ede408e"
  },
  {
   "cell_type": "code",
   "execution_count": 7,
   "outputs": [],
   "source": [
    "valid_concatenated = pd.concat([valid_one_df, valid_zero_df], ignore_index=True)\n",
    "valid_df = valid_concatenated.sample(frac=1, random_state=42).reset_index(drop=True)\n",
    "valid_df['type'] = 'valid'\n",
    "\n",
    "test_concatenated = pd.concat([test_one_df, test_zero_df], ignore_index=True)\n",
    "test_df = test_concatenated.sample(frac=1, random_state=42).reset_index(drop=True)\n",
    "test_df['type'] = 'test'\n",
    "\n",
    "train_concatenated = pd.concat([train_one_df, resample_train_zero_df], ignore_index=True)\n",
    "train_df = train_concatenated.sample(frac=1, random_state=42).reset_index(drop=True)\n",
    "train_df['type'] = 'train'"
   ],
   "metadata": {
    "collapsed": false,
    "ExecuteTime": {
     "end_time": "2024-05-08T16:26:24.907632900Z",
     "start_time": "2024-05-08T16:26:24.841214Z"
    }
   },
   "id": "b14746c81cad77dc"
  },
  {
   "cell_type": "code",
   "execution_count": 8,
   "outputs": [],
   "source": [
    "loc_df = pd.concat([train_df, test_df, valid_df], ignore_index=True)\n",
    "loc_df.to_csv(\"../data/split_df.csv\", index=False, encoding='utf-8')"
   ],
   "metadata": {
    "collapsed": false,
    "ExecuteTime": {
     "end_time": "2024-05-08T16:26:24.918633200Z",
     "start_time": "2024-05-08T16:26:24.851758500Z"
    }
   },
   "id": "bdd82f81a68ddaa7"
  },
  {
   "cell_type": "markdown",
   "source": [
    "## Prepare Location Normalized Data"
   ],
   "metadata": {
    "collapsed": false
   },
   "id": "7ff2b4108f6393a4"
  },
  {
   "cell_type": "code",
   "execution_count": 9,
   "outputs": [],
   "source": [
    "def preprocess_df(df, scaler):\n",
    "    norm_df = normalize_df(df)\n",
    "    norm_df['type'] = df['type']\n",
    "    norm_df['label'] = norm_df['label'].astype(int)\n",
    "    norm_df['idx'] = norm_df['idx'].astype(int)\n",
    "    norm_df['txt_len'] = scaler.fit_transform(norm_df[['txt_len']])\n",
    "    norm_df = norm_df.apply(row_feature_eng, axis=1)\n",
    "\n",
    "    return norm_df"
   ],
   "metadata": {
    "collapsed": false,
    "ExecuteTime": {
     "end_time": "2024-05-08T16:26:24.918633200Z",
     "start_time": "2024-05-08T16:26:24.888209600Z"
    }
   },
   "id": "f0581e1849a494e1"
  },
  {
   "cell_type": "code",
   "execution_count": 10,
   "outputs": [],
   "source": [
    "scaler = MinMaxScaler(feature_range=(0, 1))\n",
    "\n",
    "norm_loc_train_df = preprocess_df(train_df, scaler)\n",
    "norm_loc_test_df = preprocess_df(test_df, scaler)\n",
    "norm_loc_valid_df = preprocess_df(valid_df, scaler)"
   ],
   "metadata": {
    "collapsed": false,
    "ExecuteTime": {
     "end_time": "2024-05-08T16:27:33.054479100Z",
     "start_time": "2024-05-08T16:26:24.892638Z"
    }
   },
   "id": "58c94813667a57b1"
  },
  {
   "cell_type": "code",
   "execution_count": 11,
   "outputs": [],
   "source": [
    "loc_df = pd.concat([norm_loc_train_df, norm_loc_test_df, norm_loc_valid_df], ignore_index=True)\n",
    "loc_df.to_csv(\"../data/digit_data/loc_df.csv\", index=False, encoding='utf-8')"
   ],
   "metadata": {
    "collapsed": false,
    "ExecuteTime": {
     "end_time": "2024-05-08T16:27:33.103500800Z",
     "start_time": "2024-05-08T16:27:33.055478400Z"
    }
   },
   "id": "a361a6bfc17c2727"
  },
  {
   "cell_type": "code",
   "execution_count": 12,
   "outputs": [
    {
     "name": "stdout",
     "output_type": "stream",
     "text": [
      "                      idx   txt_len  direction     angle  norm_font  \\\n",
      "idx              1.000000  0.005398  -0.409938 -0.005305  -0.202448   \n",
      "txt_len          0.005398  1.000000   0.005465  0.013762  -0.060413   \n",
      "direction       -0.409938  0.005465   1.000000 -0.175400   0.333748   \n",
      "angle           -0.005305  0.013762  -0.175400  1.000000  -0.127930   \n",
      "norm_font       -0.202448 -0.060413   0.333748 -0.127930   1.000000   \n",
      "norm_word_len   -0.178081  0.448698   0.287666 -0.163740   0.579815   \n",
      "norm_center_x    0.141995 -0.035878  -0.084946 -0.066561  -0.010234   \n",
      "norm_center_y   -0.004483 -0.089177  -0.245288  0.085593  -0.198649   \n",
      "label           -0.132959  0.186947   0.545491 -0.023292   0.180366   \n",
      "font_sqrt       -0.252495 -0.052897   0.373860 -0.142056   0.985100   \n",
      "font_square     -0.124760 -0.064855   0.252881 -0.089199   0.954224   \n",
      "font_cbrt       -0.269688 -0.049648   0.385557 -0.145070   0.972863   \n",
      "font_cube       -0.078984 -0.057345   0.186355 -0.051613   0.842697   \n",
      "word_len_sqrt    0.044970  0.944369  -0.040253  0.024072  -0.086825   \n",
      "word_len_square -0.021051  0.940822   0.041545  0.010063  -0.046654   \n",
      "word_len_cbrt    0.065844  0.865171  -0.062925  0.030443  -0.101551   \n",
      "word_len_cube   -0.023385  0.841547   0.048217  0.009425  -0.044384   \n",
      "\n",
      "                 norm_word_len  norm_center_x  norm_center_y     label  \\\n",
      "idx                  -0.178081       0.141995      -0.004483 -0.132959   \n",
      "txt_len               0.448698      -0.035878      -0.089177  0.186947   \n",
      "direction             0.287666      -0.084946      -0.245288  0.545491   \n",
      "angle                -0.163740      -0.066561       0.085593 -0.023292   \n",
      "norm_font             0.579815      -0.010234      -0.198649  0.180366   \n",
      "norm_word_len         1.000000      -0.009447      -0.212000  0.222377   \n",
      "norm_center_x        -0.009447       1.000000      -0.059635 -0.101176   \n",
      "norm_center_y        -0.212000      -0.059635       1.000000 -0.260650   \n",
      "label                 0.222377      -0.101176      -0.260650  1.000000   \n",
      "font_sqrt             0.567038      -0.031342      -0.213281  0.216564   \n",
      "font_square           0.561836       0.024183      -0.167410  0.110996   \n",
      "font_cbrt             0.558389      -0.038453      -0.217321  0.227276   \n",
      "font_cube             0.509751       0.041771      -0.139195  0.062651   \n",
      "word_len_sqrt         0.436790      -0.042007      -0.120154  0.205099   \n",
      "word_len_square       0.402878      -0.023175      -0.047418  0.138790   \n",
      "word_len_cbrt         0.405311      -0.041639      -0.130721  0.202610   \n",
      "word_len_cube         0.347734      -0.015674      -0.018827  0.095421   \n",
      "\n",
      "                 font_sqrt  font_square  font_cbrt  font_cube  word_len_sqrt  \\\n",
      "idx              -0.252495    -0.124760  -0.269688  -0.078984       0.044970   \n",
      "txt_len          -0.052897    -0.064855  -0.049648  -0.057345       0.944369   \n",
      "direction         0.373860     0.252881   0.385557   0.186355      -0.040253   \n",
      "angle            -0.142056    -0.089199  -0.145070  -0.051613       0.024072   \n",
      "norm_font         0.985100     0.954224   0.972863   0.842697      -0.086825   \n",
      "norm_word_len     0.567038     0.561836   0.558389   0.509751       0.436790   \n",
      "norm_center_x    -0.031342     0.024183  -0.038453   0.041771      -0.042007   \n",
      "norm_center_y    -0.213281    -0.167410  -0.217321  -0.139195      -0.120154   \n",
      "label             0.216564     0.110996   0.227276   0.062651       0.205099   \n",
      "font_sqrt         1.000000     0.892602   0.998114   0.755417      -0.083299   \n",
      "font_square       0.892602     1.000000   0.865833   0.960020      -0.084650   \n",
      "font_cbrt         0.998114     0.865833   1.000000   0.722383      -0.081383   \n",
      "font_cube         0.755417     0.960020   0.722383   1.000000      -0.072217   \n",
      "word_len_sqrt    -0.083299    -0.084650  -0.081383  -0.072217       1.000000   \n",
      "word_len_square  -0.038008    -0.053637  -0.034438  -0.048910       0.797707   \n",
      "word_len_cbrt    -0.100700    -0.095197  -0.099702  -0.079934       0.980840   \n",
      "word_len_cube    -0.037001    -0.050335  -0.033938  -0.046380       0.671744   \n",
      "\n",
      "                 word_len_square  word_len_cbrt  word_len_cube  \n",
      "idx                    -0.021051       0.065844      -0.023385  \n",
      "txt_len                 0.940822       0.865171       0.841547  \n",
      "direction               0.041545      -0.062925       0.048217  \n",
      "angle                   0.010063       0.030443       0.009425  \n",
      "norm_font              -0.046654      -0.101551      -0.044384  \n",
      "norm_word_len           0.402878       0.405311       0.347734  \n",
      "norm_center_x          -0.023175      -0.041639      -0.015674  \n",
      "norm_center_y          -0.047418      -0.130721      -0.018827  \n",
      "label                   0.138790       0.202610       0.095421  \n",
      "font_sqrt              -0.038008      -0.100700      -0.037001  \n",
      "font_square            -0.053637      -0.095197      -0.050335  \n",
      "font_cbrt              -0.034438      -0.099702      -0.033938  \n",
      "font_cube              -0.048910      -0.079934      -0.046380  \n",
      "word_len_sqrt           0.797707       0.980840       0.671744  \n",
      "word_len_square         1.000000       0.687104       0.970264  \n",
      "word_len_cbrt           0.687104       1.000000       0.560961  \n",
      "word_len_cube           0.970264       0.560961       1.000000  \n"
     ]
    },
    {
     "data": {
      "text/plain": "<Figure size 1000x800 with 2 Axes>",
      "image/png": "[encoded data removed]"
     },
     "metadata": {},
     "output_type": "display_data"
    }
   ],
   "source": [
    "import seaborn as sns\n",
    "import matplotlib.pyplot as plt\n",
    "\n",
    "correlation_matrix = loc_df.drop(columns='type').corr()\n",
    "print(correlation_matrix)\n",
    "\n",
    "plt.figure(figsize=(10, 8))\n",
    "sns.heatmap(correlation_matrix, annot=True, fmt=\".2f\", cmap='coolwarm', square=True, linewidths=.5)\n",
    "\n",
    "plt.title('Correlation Matrix')\n",
    "plt.show()"
   ],
   "metadata": {
    "collapsed": false,
    "ExecuteTime": {
     "end_time": "2024-05-08T16:27:33.705873900Z",
     "start_time": "2024-05-08T16:27:33.101500500Z"
    }
   },
   "id": "c74283102d78585c"
  },
  {
   "cell_type": "markdown",
   "source": [
    "## Prepare Text Vector Normalized Data"
   ],
   "metadata": {
    "collapsed": false
   },
   "id": "1aa5c317d3ec02"
  },
  {
   "cell_type": "code",
   "execution_count": 13,
   "outputs": [],
   "source": [
    "from gensim.models import KeyedVectors\n",
    "\n",
    "model = KeyedVectors.load_word2vec_format('../GoogleNews-vectors-negative300.bin', binary=True)"
   ],
   "metadata": {
    "collapsed": false,
    "ExecuteTime": {
     "end_time": "2024-05-08T16:28:01.979423300Z",
     "start_time": "2024-05-08T16:27:33.706874300Z"
    }
   },
   "id": "bd2a3cc555e26584"
  },
  {
   "cell_type": "code",
   "execution_count": 14,
   "outputs": [],
   "source": [
    "def calc_text_vector(df):\n",
    "    vector_df = pd.DataFrame()\n",
    "    vector_df['type'] = df['type']\n",
    "    vector_df['txt_vector'] = df['txt'].apply(lambda x: text_to_vector(x, model))\n",
    "    vector_df['label'] = df['Label']\n",
    "    vector_df['idx'] = df['idx']\n",
    "    vectors = pd.DataFrame(vector_df['txt_vector'].tolist(), index=vector_df.index)\n",
    "    vectors.columns = [f'vector_{i}' for i in range(vectors.shape[1])]\n",
    "    vector_lst_df = pd.concat([vector_df.drop('txt_vector', axis=1), vectors], axis=1)\n",
    "    \n",
    "    return vector_lst_df"
   ],
   "metadata": {
    "collapsed": false,
    "ExecuteTime": {
     "end_time": "2024-05-08T16:28:02.026419300Z",
     "start_time": "2024-05-08T16:28:02.015420100Z"
    }
   },
   "id": "23b166e29ef805b2"
  },
  {
   "cell_type": "code",
   "execution_count": 15,
   "outputs": [],
   "source": [
    "norm_vec_train_df = calc_text_vector(train_df)\n",
    "norm_vec_test_df = calc_text_vector(test_df)\n",
    "norm_vec_valid_df = calc_text_vector(valid_df)"
   ],
   "metadata": {
    "collapsed": false,
    "ExecuteTime": {
     "end_time": "2024-05-08T16:28:02.193075200Z",
     "start_time": "2024-05-08T16:28:02.020421900Z"
    }
   },
   "id": "fb45eca24e04da6"
  },
  {
   "cell_type": "code",
   "execution_count": 16,
   "outputs": [],
   "source": [
    "vec_df = pd.concat([norm_vec_train_df, norm_vec_test_df, norm_vec_valid_df], ignore_index=True)\n",
    "vec_df.to_csv(\"../data/digit_data/vec_df.csv\", index=False, encoding='utf-8')"
   ],
   "metadata": {
    "collapsed": false,
    "ExecuteTime": {
     "end_time": "2024-05-08T16:28:02.685467400Z",
     "start_time": "2024-05-08T16:28:02.194070900Z"
    }
   },
   "id": "b8880b3fb3814cea"
  },
  {
   "cell_type": "code",
   "execution_count": 16,
   "outputs": [],
   "source": [],
   "metadata": {
    "collapsed": false,
    "ExecuteTime": {
     "end_time": "2024-05-08T16:28:02.696649100Z",
     "start_time": "2024-05-08T16:28:02.686468200Z"
    }
   },
   "id": "493567b66d9b352"
  },
  {
   "cell_type": "markdown",
   "source": [],
   "metadata": {
    "collapsed": false
   },
   "id": "e6112fb1d16af8a4"
  }
 ],
 "metadata": {
  "kernelspec": {
   "display_name": "Python 3",
   "language": "python",
   "name": "python3"
  },
  "language_info": {
   "codemirror_mode": {
    "name": "ipython",
    "version": 2
   },
   "file_extension": ".py",
   "mimetype": "text/x-python",
   "name": "python",
   "nbconvert_exporter": "python",
   "pygments_lexer": "ipython2",
   "version": "2.7.6"
  }
 },
 "nbformat": 4,
 "nbformat_minor": 5
}
