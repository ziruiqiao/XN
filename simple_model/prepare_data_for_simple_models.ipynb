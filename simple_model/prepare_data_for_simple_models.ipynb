{
 "cells": [
  {
   "cell_type": "code",
   "execution_count": 23,
   "id": "initial_id",
   "metadata": {
    "collapsed": true,
    "ExecuteTime": {
     "end_time": "2024-05-10T16:06:41.754360600Z",
     "start_time": "2024-05-10T16:06:41.737363300Z"
    }
   },
   "outputs": [],
   "source": [
    "from ActivePyTools.grab_data import eval_object_columns\n",
    "from sklearn.preprocessing import StandardScaler, MinMaxScaler\n",
    "import cv2\n",
    "import pandas as pd\n",
    "import numpy as np\n",
    "import chardet\n",
    "from joblib import dump, load\n",
    "\n",
    "crop_path = './docs/crop_pics/google/'\n",
    "\n",
    "project_root = '../'\n",
    "\n",
    "def grab_df_data(df_path):\n",
    "    with open(df_path, 'rb') as file:\n",
    "        encoding = chardet.detect(file.read())['encoding']\n",
    "\n",
    "    temp_df = pd.read_csv(df_path, encoding=encoding)\n",
    "    df = eval_object_columns(temp_df)\n",
    "    return df\n",
    "\n",
    "def normalize_row(row, img_shape):\n",
    "    img_height, img_width, _ = img_shape\n",
    "    text_len = len(row.txt)\n",
    "    slope1, slope2, slope3, slope4 = row.slopes\n",
    "    direction = 1 if row.direction == 'vertical' else 0\n",
    "    if direction:\n",
    "        slope = (slope1 + slope3) / 2\n",
    "    else:\n",
    "        slope = (slope2 + slope4) / 2\n",
    "    if slope == 0:\n",
    "        slope = 0.0001\n",
    "    angle = np.rad2deg(np.arctan2(abs(slope), 1))\n",
    "    font_h = row.font * np.sin(angle)\n",
    "    font_w = row.font * np.cos(angle)\n",
    "    word_len_h = row.word_len * np.sin(90 - angle)\n",
    "    word_len_w = row.word_len * np.cos(90 - angle)\n",
    "\n",
    "    font_h /= img_height\n",
    "    font_w /= img_width\n",
    "    word_len_h /= img_height\n",
    "    word_len_w /= img_width\n",
    "\n",
    "    font = np.sqrt(font_h**2 + font_w**2)\n",
    "    word_len = np.sqrt(word_len_h**2 + word_len_w**2)\n",
    "\n",
    "    center_x, center_y = row.center_point\n",
    "    center_x /= img_width\n",
    "    center_y /= img_height\n",
    "    \n",
    "\n",
    "    return pd.Series({\n",
    "        'idx': row.idx,\n",
    "        'txt_len': text_len,\n",
    "        'direction': direction,\n",
    "        'angle': angle,\n",
    "        'norm_font': font,\n",
    "        'norm_word_len': word_len,\n",
    "        'norm_center_x': center_x,\n",
    "        'norm_center_y': center_y\n",
    "    })\n",
    "\n",
    "def sqrt_sq_cbrt_cb(number):\n",
    "    sign = 1 if number >=0 else -1\n",
    "    number = abs(number)\n",
    "    # print(number)\n",
    "    return sign*np.sqrt(number), np.square(number), sign*np.cbrt(number), sign*np.power(number, 3)\n",
    "\n",
    "def row_feature_eng(row):\n",
    "    font_sqrt, font_square, font_cbrt, font_cube = sqrt_sq_cbrt_cb(row.norm_font)\n",
    "    word_len_sqrt, word_len_square, word_len_cbrt, word_len_cube = sqrt_sq_cbrt_cb(row.txt_len)\n",
    "    row['font_sqrt'] = font_sqrt\n",
    "    row['font_square'] = font_square\n",
    "    row['font_cbrt'] = font_cbrt\n",
    "    row['font_cube'] = font_cube\n",
    "    row['word_len_sqrt'] = word_len_sqrt\n",
    "    row['word_len_square'] = word_len_square\n",
    "    row['word_len_cbrt'] = word_len_cbrt\n",
    "    row['word_len_cube'] = word_len_cube\n",
    "    \n",
    "    return row\n",
    "\n",
    "def get_picture_path(relative_path):\n",
    "    return project_root + relative_path\n",
    "\n",
    "def normalize_df(df, is_cross_valid = False):\n",
    "\n",
    "    norm_data = []\n",
    "\n",
    "    for index, row in df.iterrows():\n",
    "        img_path = row.img_path\n",
    "        img = cv2.imread(get_picture_path(img_path))\n",
    "        if img is not None:\n",
    "            new_row = normalize_row(row, img.shape)\n",
    "            if not is_cross_valid:\n",
    "                label = row.Label\n",
    "                new_row['label'] = label\n",
    "            norm_data.append(new_row)\n",
    "    if is_cross_valid:\n",
    "        return pd.DataFrame(norm_data, columns=['idx', 'txt_len', 'direction', 'angle', 'norm_font', 'norm_word_len', 'norm_center_x', 'norm_center_y'])\n",
    "    else:\n",
    "        return pd.DataFrame(norm_data, columns=['idx', 'label', 'txt_len', 'direction', 'angle', 'norm_font', 'norm_word_len', 'norm_center_x', 'norm_center_y'])\n",
    "\n",
    "def text_to_vector(text, model):\n",
    "    # Tokenize the text\n",
    "    words = text.split()\n",
    "    # Filter words to make sure they are in the model\n",
    "    words = [word for word in words if word in model.key_to_index]\n",
    "\n",
    "    # If no words in the model, return a zero vector\n",
    "    if len(words) == 0:\n",
    "        return np.zeros(model.vector_size)\n",
    "\n",
    "    # Compute average vector\n",
    "    word_vectors = np.array([model[word] for word in words])\n",
    "    average_vector = word_vectors.mean(axis=0)\n",
    "    return average_vector"
   ]
  },
  {
   "cell_type": "markdown",
   "source": [
    "## Combine Dataframes"
   ],
   "metadata": {
    "collapsed": false
   },
   "id": "c08d1871ed18c86d"
  },
  {
   "cell_type": "code",
   "execution_count": 2,
   "outputs": [],
   "source": [
    "df_path1 = '../data/Bookshelves_1_df.csv'\n",
    "df1 = grab_df_data(df_path1)\n",
    "df1['img_path'] = df1['crop_idx'].apply(lambda x: f\"{crop_path}Bookshelves_1.jpg_{x[0]}_{x[1]}.jpg\")\n",
    "df1['idx'] = df1.index\n",
    "\n",
    "df_path2 = '../data/Bookshelves_4_df.csv'\n",
    "df2 = grab_df_data(df_path2)\n",
    "df2['img_path'] = df2['crop_idx'].apply(lambda x: f\"{crop_path}Bookshelves_4.jpg_{x[0]}_{x[1]}.jpg\")\n",
    "df2['idx'] = df1['idx'].max() + df2.index\n",
    "\n",
    "df_path3 = '../data/IMG_7940_labelled_df.csv'\n",
    "df3 = grab_df_data(df_path3)\n",
    "df3['img_path'] = df3['crop_idx'].apply(lambda x: f\"{crop_path}IMG_7940.jpeg_{x[0]}_{x[1]}.jpg\")\n",
    "df3['idx'] = df2['idx'].max() + df3.index"
   ],
   "metadata": {
    "collapsed": false,
    "ExecuteTime": {
     "end_time": "2024-05-10T15:40:54.356566600Z",
     "start_time": "2024-05-10T15:40:51.951381800Z"
    }
   },
   "id": "1c340a7d67d07f"
  },
  {
   "cell_type": "code",
   "execution_count": 3,
   "outputs": [
    {
     "data": {
      "text/plain": "           txt                                           vertices  \\\n0          THE       [(83, 360), (85, 402), (69, 403), (67, 361)]   \n1      TIPPING       [(85, 412), (88, 501), (72, 502), (69, 413)]   \n2        POINT       [(89, 511), (92, 578), (76, 579), (73, 512)]   \n3      MALCOLM       [(90, 621), (95, 722), (80, 723), (75, 622)]   \n4     GLADWELL      [(96, 735), (102, 846), (87, 847), (81, 736)]   \n...        ...                                                ...   \n1415    POETRY  [(3870, 560), (3858, 639), (3839, 636), (3851,...   \n1416        OF  [(3877, 517), (3873, 544), (3853, 541), (3857,...   \n1417      BOOK  [(3887, 451), (3879, 504), (3860, 502), (3868,...   \n1418       THE  [(3896, 395), (3890, 436), (3870, 433), (3876,...   \n1419       Son  [(3962, 228), (4030, 228), (4030, 294), (3962,...   \n\n                                               boundBox  \\\n0     {'Width': 18, 'Height': 43, 'Left': 67, 'Top':...   \n1     {'Width': 19, 'Height': 90, 'Left': 69, 'Top':...   \n2     {'Width': 19, 'Height': 68, 'Left': 73, 'Top':...   \n3     {'Width': 20, 'Height': 102, 'Left': 75, 'Top'...   \n4     {'Width': 21, 'Height': 112, 'Left': 81, 'Top'...   \n...                                                 ...   \n1415  {'Width': 31, 'Height': 82, 'Left': 3839, 'Top...   \n1416  {'Width': 24, 'Height': 30, 'Left': 3853, 'Top...   \n1417  {'Width': 27, 'Height': 56, 'Left': 3860, 'Top...   \n1418  {'Width': 26, 'Height': 44, 'Left': 3870, 'Top...   \n1419  {'Width': 68, 'Height': 66, 'Left': 3962, 'Top...   \n\n                                slopes       font    word_len   direction  \\\n0         (-21.0, 0.062, -21.0, 0.062)  16.031220   42.047592    vertical   \n1     (-29.667, 0.062, -29.667, 0.062)  16.031220   89.050547    vertical   \n2     (-22.333, 0.062, -22.333, 0.062)  16.031220   67.067131    vertical   \n3         (-20.2, 0.067, -20.2, 0.067)  15.033296  101.123687    vertical   \n4         (-18.5, 0.067, -18.5, 0.067)  15.033296  111.162044    vertical   \n...                                ...        ...         ...         ...   \n1415    (6.583, -0.158, 6.583, -0.158)  19.235384   79.906195    vertical   \n1416        (6.75, -0.15, 6.75, -0.15)  20.223748   27.294688    vertical   \n1417     (6.625, -0.105, 6.75, -0.158)  19.170179   54.094875    vertical   \n1418      (6.833, -0.15, 6.833, -0.15)  20.223748   41.436699    vertical   \n1419       (-0.0, 1000.0, 0.0, 1000.0)  66.000000   68.000000  horizontal   \n\n          center_point  Label  \\\n0        (76.0, 381.5)      1   \n1        (78.5, 457.0)      1   \n2        (82.5, 545.0)      1   \n3        (85.0, 672.0)      1   \n4        (91.5, 791.0)      1   \n...                ...    ...   \n1415   (3854.5, 598.0)      1   \n1416   (3865.0, 529.0)      1   \n1417  (3873.5, 476.25)      1   \n1418   (3883.0, 414.0)      1   \n1419   (3996.0, 261.0)      0   \n\n                                               img_path   idx  \n0     ./docs/crop_pics/google/Bookshelves_1.jpg_0_0.jpg     0  \n1     ./docs/crop_pics/google/Bookshelves_1.jpg_0_0.jpg     1  \n2     ./docs/crop_pics/google/Bookshelves_1.jpg_0_0.jpg     2  \n3     ./docs/crop_pics/google/Bookshelves_1.jpg_0_0.jpg     3  \n4     ./docs/crop_pics/google/Bookshelves_1.jpg_0_0.jpg     4  \n...                                                 ...   ...  \n1415      ./docs/crop_pics/google/IMG_7940.jpeg_0_0.jpg  1413  \n1416      ./docs/crop_pics/google/IMG_7940.jpeg_0_0.jpg  1414  \n1417      ./docs/crop_pics/google/IMG_7940.jpeg_0_0.jpg  1415  \n1418      ./docs/crop_pics/google/IMG_7940.jpeg_0_0.jpg  1416  \n1419      ./docs/crop_pics/google/IMG_7940.jpeg_0_0.jpg  1417  \n\n[1420 rows x 11 columns]",
      "text/html": "<div>\n<style scoped>\n    .dataframe tbody tr th:only-of-type {\n        vertical-align: middle;\n    }\n\n    .dataframe tbody tr th {\n        vertical-align: top;\n    }\n\n    .dataframe thead th {\n        text-align: right;\n    }\n</style>\n<table border=\"1\" class=\"dataframe\">\n  <thead>\n    <tr style=\"text-align: right;\">\n      <th></th>\n      <th>txt</th>\n      <th>vertices</th>\n      <th>boundBox</th>\n      <th>slopes</th>\n      <th>font</th>\n      <th>word_len</th>\n      <th>direction</th>\n      <th>center_point</th>\n      <th>Label</th>\n      <th>img_path</th>\n      <th>idx</th>\n    </tr>\n  </thead>\n  <tbody>\n    <tr>\n      <th>0</th>\n      <td>THE</td>\n      <td>[(83, 360), (85, 402), (69, 403), (67, 361)]</td>\n      <td>{'Width': 18, 'Height': 43, 'Left': 67, 'Top':...</td>\n      <td>(-21.0, 0.062, -21.0, 0.062)</td>\n      <td>16.031220</td>\n      <td>42.047592</td>\n      <td>vertical</td>\n      <td>(76.0, 381.5)</td>\n      <td>1</td>\n      <td>./docs/crop_pics/google/Bookshelves_1.jpg_0_0.jpg</td>\n      <td>0</td>\n    </tr>\n    <tr>\n      <th>1</th>\n      <td>TIPPING</td>\n      <td>[(85, 412), (88, 501), (72, 502), (69, 413)]</td>\n      <td>{'Width': 19, 'Height': 90, 'Left': 69, 'Top':...</td>\n      <td>(-29.667, 0.062, -29.667, 0.062)</td>\n      <td>16.031220</td>\n      <td>89.050547</td>\n      <td>vertical</td>\n      <td>(78.5, 457.0)</td>\n      <td>1</td>\n      <td>./docs/crop_pics/google/Bookshelves_1.jpg_0_0.jpg</td>\n      <td>1</td>\n    </tr>\n    <tr>\n      <th>2</th>\n      <td>POINT</td>\n      <td>[(89, 511), (92, 578), (76, 579), (73, 512)]</td>\n      <td>{'Width': 19, 'Height': 68, 'Left': 73, 'Top':...</td>\n      <td>(-22.333, 0.062, -22.333, 0.062)</td>\n      <td>16.031220</td>\n      <td>67.067131</td>\n      <td>vertical</td>\n      <td>(82.5, 545.0)</td>\n      <td>1</td>\n      <td>./docs/crop_pics/google/Bookshelves_1.jpg_0_0.jpg</td>\n      <td>2</td>\n    </tr>\n    <tr>\n      <th>3</th>\n      <td>MALCOLM</td>\n      <td>[(90, 621), (95, 722), (80, 723), (75, 622)]</td>\n      <td>{'Width': 20, 'Height': 102, 'Left': 75, 'Top'...</td>\n      <td>(-20.2, 0.067, -20.2, 0.067)</td>\n      <td>15.033296</td>\n      <td>101.123687</td>\n      <td>vertical</td>\n      <td>(85.0, 672.0)</td>\n      <td>1</td>\n      <td>./docs/crop_pics/google/Bookshelves_1.jpg_0_0.jpg</td>\n      <td>3</td>\n    </tr>\n    <tr>\n      <th>4</th>\n      <td>GLADWELL</td>\n      <td>[(96, 735), (102, 846), (87, 847), (81, 736)]</td>\n      <td>{'Width': 21, 'Height': 112, 'Left': 81, 'Top'...</td>\n      <td>(-18.5, 0.067, -18.5, 0.067)</td>\n      <td>15.033296</td>\n      <td>111.162044</td>\n      <td>vertical</td>\n      <td>(91.5, 791.0)</td>\n      <td>1</td>\n      <td>./docs/crop_pics/google/Bookshelves_1.jpg_0_0.jpg</td>\n      <td>4</td>\n    </tr>\n    <tr>\n      <th>...</th>\n      <td>...</td>\n      <td>...</td>\n      <td>...</td>\n      <td>...</td>\n      <td>...</td>\n      <td>...</td>\n      <td>...</td>\n      <td>...</td>\n      <td>...</td>\n      <td>...</td>\n      <td>...</td>\n    </tr>\n    <tr>\n      <th>1415</th>\n      <td>POETRY</td>\n      <td>[(3870, 560), (3858, 639), (3839, 636), (3851,...</td>\n      <td>{'Width': 31, 'Height': 82, 'Left': 3839, 'Top...</td>\n      <td>(6.583, -0.158, 6.583, -0.158)</td>\n      <td>19.235384</td>\n      <td>79.906195</td>\n      <td>vertical</td>\n      <td>(3854.5, 598.0)</td>\n      <td>1</td>\n      <td>./docs/crop_pics/google/IMG_7940.jpeg_0_0.jpg</td>\n      <td>1413</td>\n    </tr>\n    <tr>\n      <th>1416</th>\n      <td>OF</td>\n      <td>[(3877, 517), (3873, 544), (3853, 541), (3857,...</td>\n      <td>{'Width': 24, 'Height': 30, 'Left': 3853, 'Top...</td>\n      <td>(6.75, -0.15, 6.75, -0.15)</td>\n      <td>20.223748</td>\n      <td>27.294688</td>\n      <td>vertical</td>\n      <td>(3865.0, 529.0)</td>\n      <td>1</td>\n      <td>./docs/crop_pics/google/IMG_7940.jpeg_0_0.jpg</td>\n      <td>1414</td>\n    </tr>\n    <tr>\n      <th>1417</th>\n      <td>BOOK</td>\n      <td>[(3887, 451), (3879, 504), (3860, 502), (3868,...</td>\n      <td>{'Width': 27, 'Height': 56, 'Left': 3860, 'Top...</td>\n      <td>(6.625, -0.105, 6.75, -0.158)</td>\n      <td>19.170179</td>\n      <td>54.094875</td>\n      <td>vertical</td>\n      <td>(3873.5, 476.25)</td>\n      <td>1</td>\n      <td>./docs/crop_pics/google/IMG_7940.jpeg_0_0.jpg</td>\n      <td>1415</td>\n    </tr>\n    <tr>\n      <th>1418</th>\n      <td>THE</td>\n      <td>[(3896, 395), (3890, 436), (3870, 433), (3876,...</td>\n      <td>{'Width': 26, 'Height': 44, 'Left': 3870, 'Top...</td>\n      <td>(6.833, -0.15, 6.833, -0.15)</td>\n      <td>20.223748</td>\n      <td>41.436699</td>\n      <td>vertical</td>\n      <td>(3883.0, 414.0)</td>\n      <td>1</td>\n      <td>./docs/crop_pics/google/IMG_7940.jpeg_0_0.jpg</td>\n      <td>1416</td>\n    </tr>\n    <tr>\n      <th>1419</th>\n      <td>Son</td>\n      <td>[(3962, 228), (4030, 228), (4030, 294), (3962,...</td>\n      <td>{'Width': 68, 'Height': 66, 'Left': 3962, 'Top...</td>\n      <td>(-0.0, 1000.0, 0.0, 1000.0)</td>\n      <td>66.000000</td>\n      <td>68.000000</td>\n      <td>horizontal</td>\n      <td>(3996.0, 261.0)</td>\n      <td>0</td>\n      <td>./docs/crop_pics/google/IMG_7940.jpeg_0_0.jpg</td>\n      <td>1417</td>\n    </tr>\n  </tbody>\n</table>\n<p>1420 rows × 11 columns</p>\n</div>"
     },
     "execution_count": 3,
     "metadata": {},
     "output_type": "execute_result"
    }
   ],
   "source": [
    "df = pd.concat([df1, df2, df3], ignore_index=True)\n",
    "df = df.drop(columns=['confidence', 'crop_idx', 'Left', 'Top'])\n",
    "df"
   ],
   "metadata": {
    "collapsed": false,
    "ExecuteTime": {
     "end_time": "2024-05-10T15:40:54.424082800Z",
     "start_time": "2024-05-10T15:40:54.357566400Z"
    }
   },
   "id": "25d0bcd346e84274"
  },
  {
   "cell_type": "markdown",
   "source": [
    "## Prepare Train, Validation, Test Data"
   ],
   "metadata": {
    "collapsed": false
   },
   "id": "68e6ecbbde991c7e"
  },
  {
   "cell_type": "code",
   "execution_count": 4,
   "outputs": [],
   "source": [
    "one_df = df[df['Label'] == 1]\n",
    "zero_df = df[df['Label'] == 0]"
   ],
   "metadata": {
    "collapsed": false,
    "ExecuteTime": {
     "end_time": "2024-05-10T15:40:54.439864Z",
     "start_time": "2024-05-10T15:40:54.423083800Z"
    }
   },
   "id": "27723d7e7617f220"
  },
  {
   "cell_type": "code",
   "execution_count": 5,
   "outputs": [
    {
     "data": {
      "text/plain": "((1101, 11), (319, 11))"
     },
     "execution_count": 5,
     "metadata": {},
     "output_type": "execute_result"
    }
   ],
   "source": [
    "one_df.shape, zero_df.shape"
   ],
   "metadata": {
    "collapsed": false,
    "ExecuteTime": {
     "end_time": "2024-05-10T15:40:54.440864600Z",
     "start_time": "2024-05-10T15:40:54.429765600Z"
    }
   },
   "id": "3b382b2373ca3189"
  },
  {
   "cell_type": "code",
   "execution_count": null,
   "outputs": [],
   "source": [
    "from sklearn.model_selection import train_test_split\n",
    "\n",
    "train_one_df, temp_one_df = train_test_split(one_df, test_size=0.4, random_state=42)\n",
    "valid_one_df, test_one_df = train_test_split(temp_one_df, test_size=0.5, random_state=42)\n",
    "train_zero_df, temp_zero_df = train_test_split(zero_df, test_size=0.4, random_state=42)\n",
    "valid_zero_df, test_zero_df = train_test_split(temp_zero_df, test_size=0.5, random_state=42)"
   ],
   "metadata": {
    "collapsed": false
   },
   "id": "a5804486b53344ed"
  },
  {
   "cell_type": "code",
   "execution_count": 7,
   "outputs": [],
   "source": [
    "rate = train_one_df.shape[0]/train_zero_df.shape[0]\n",
    "df_duplicated = train_zero_df.copy()\n",
    "for i in range(int(rate)-1):\n",
    "    df_duplicated = pd.concat([train_zero_df, df_duplicated], ignore_index=True)\n",
    "\n",
    "selected_rows = train_zero_df.sample(frac=rate % 1, random_state=42)\n",
    "resample_train_zero_df = pd.concat([df_duplicated, selected_rows], ignore_index=True)"
   ],
   "metadata": {
    "collapsed": false,
    "ExecuteTime": {
     "end_time": "2024-05-10T15:40:54.836637700Z",
     "start_time": "2024-05-10T15:40:54.822384900Z"
    }
   },
   "id": "167373f49ede408e"
  },
  {
   "cell_type": "code",
   "execution_count": 10,
   "outputs": [],
   "source": [
    "test_concatenated = pd.concat([test_one_df, test_zero_df], ignore_index=True)\n",
    "test_df = test_concatenated.sample(frac=1, random_state=42).reset_index(drop=True)\n",
    "test_df['type'] = 'test'\n",
    "train_concatenated = pd.concat([train_one_df, resample_train_zero_df], ignore_index=True)\n",
    "train_df = train_concatenated.sample(frac=1, random_state=42).reset_index(drop=True)\n",
    "train_df['type'] = 'train'\n",
    "valid_concatenated = pd.concat([valid_one_df, valid_zero_df], ignore_index=True)\n",
    "valid_df = valid_concatenated.sample(frac=1, random_state=42).reset_index(drop=True)\n",
    "valid_df['type'] = 'valid'"
   ],
   "metadata": {
    "collapsed": false,
    "ExecuteTime": {
     "end_time": "2024-05-10T15:43:52.088450900Z",
     "start_time": "2024-05-10T15:43:52.067804600Z"
    }
   },
   "id": "b14746c81cad77dc"
  },
  {
   "cell_type": "code",
   "execution_count": 11,
   "outputs": [],
   "source": [
    "loc_df = pd.concat([train_df, test_df, valid_df], ignore_index=True)\n",
    "loc_df.to_csv(\"../data/split_df.csv\", index=False, encoding='utf-8')"
   ],
   "metadata": {
    "collapsed": false,
    "ExecuteTime": {
     "end_time": "2024-05-10T15:43:52.705710100Z",
     "start_time": "2024-05-10T15:43:52.690711800Z"
    }
   },
   "id": "be61b50c72ba5440"
  },
  {
   "cell_type": "markdown",
   "source": [
    "### Prepare Location Normalized Data"
   ],
   "metadata": {
    "collapsed": false
   },
   "id": "7ff2b4108f6393a4"
  },
  {
   "cell_type": "code",
   "execution_count": 28,
   "outputs": [],
   "source": [
    "def preprocess_df(df, scaler):\n",
    "    norm_df = normalize_df(df)\n",
    "    norm_df['idx'] = norm_df['idx'].astype(int)\n",
    "    norm_df['txt_len'] = scaler.transform(norm_df[['txt_len']])\n",
    "    norm_df = norm_df.apply(row_feature_eng, axis=1)\n",
    "\n",
    "    return norm_df"
   ],
   "metadata": {
    "collapsed": false,
    "ExecuteTime": {
     "end_time": "2024-05-10T16:10:57.639037500Z",
     "start_time": "2024-05-10T16:10:57.601042Z"
    }
   },
   "id": "f0581e1849a494e1"
  },
  {
   "cell_type": "code",
   "execution_count": 34,
   "outputs": [
    {
     "name": "stdout",
     "output_type": "stream",
     "text": [
      "                    idx   txt_len  direction     angle  norm_font  \\\n",
      "idx            1.000000  0.032832  -0.464815 -0.002766  -0.212899   \n",
      "txt_len        0.032832  1.000000  -0.011267  0.023884  -0.058580   \n",
      "direction     -0.464815 -0.011267   1.000000 -0.196827   0.344612   \n",
      "angle         -0.002766  0.023884  -0.196827  1.000000  -0.151389   \n",
      "norm_font     -0.212899 -0.058580   0.344612 -0.151389   1.000000   \n",
      "norm_word_len -0.169521  0.458119   0.292167 -0.176659   0.592977   \n",
      "norm_center_x  0.151497 -0.046100  -0.069950 -0.074528  -0.030026   \n",
      "norm_center_y -0.006257 -0.113302  -0.228474  0.097196  -0.214788   \n",
      "Label         -0.113693  0.230164   0.521621 -0.006135   0.194715   \n",
      "\n",
      "               norm_word_len  norm_center_x  norm_center_y     Label  \n",
      "idx                -0.169521       0.151497      -0.006257 -0.113693  \n",
      "txt_len             0.458119      -0.046100      -0.113302  0.230164  \n",
      "direction           0.292167      -0.069950      -0.228474  0.521621  \n",
      "angle              -0.176659      -0.074528       0.097196 -0.006135  \n",
      "norm_font           0.592977      -0.030026      -0.214788  0.194715  \n",
      "norm_word_len       1.000000      -0.033506      -0.230964  0.249600  \n",
      "norm_center_x      -0.033506       1.000000      -0.051678 -0.095948  \n",
      "norm_center_y      -0.230964      -0.051678       1.000000 -0.267327  \n",
      "Label               0.249600      -0.095948      -0.267327  1.000000  \n"
     ]
    },
    {
     "data": {
      "text/plain": "<Figure size 1000x800 with 2 Axes>",
      "image/png": "[encoded data removed]"
     },
     "metadata": {},
     "output_type": "display_data"
    }
   ],
   "source": [
    "import seaborn as sns\n",
    "import matplotlib.pyplot as plt\n",
    "\n",
    "correlation_matrix = loc_df.corr()\n",
    "print(correlation_matrix)\n",
    "\n",
    "plt.figure(figsize=(10, 8))\n",
    "sns.heatmap(correlation_matrix, annot=True, fmt=\".2f\", cmap='coolwarm', square=True, linewidths=.5)\n",
    "\n",
    "plt.title('Correlation Matrix')\n",
    "plt.show()"
   ],
   "metadata": {
    "collapsed": false,
    "ExecuteTime": {
     "end_time": "2024-05-10T22:49:11.215819900Z",
     "start_time": "2024-05-10T22:49:10.366285400Z"
    }
   },
   "id": "c74283102d78585c"
  },
  {
   "cell_type": "markdown",
   "source": [
    "### Prepare Text Vector Normalized Data"
   ],
   "metadata": {
    "collapsed": false
   },
   "id": "1aa5c317d3ec02"
  },
  {
   "cell_type": "code",
   "execution_count": 35,
   "outputs": [],
   "source": [
    "from gensim.models import KeyedVectors\n",
    "\n",
    "model = KeyedVectors.load_word2vec_format('../GoogleNews-vectors-negative300.bin', binary=True)"
   ],
   "metadata": {
    "collapsed": false,
    "ExecuteTime": {
     "end_time": "2024-05-10T22:50:04.741898700Z",
     "start_time": "2024-05-10T22:49:35.021039600Z"
    }
   },
   "id": "bd2a3cc555e26584"
  },
  {
   "cell_type": "code",
   "execution_count": 38,
   "outputs": [],
   "source": [
    "def calc_text_vector(df, is_cross_valid=False):\n",
    "    vector_df = pd.DataFrame()\n",
    "    if not is_cross_valid:\n",
    "        vector_df['type'] = df['type']\n",
    "        vector_df['label'] = df['Label']\n",
    "    vector_df['txt_vector'] = df['txt'].apply(lambda x: text_to_vector(x, model))\n",
    "    vector_df['idx'] = df['idx']\n",
    "    vectors = pd.DataFrame(vector_df['txt_vector'].tolist(), index=vector_df.index)\n",
    "    vectors.columns = [f'vector_{i}' for i in range(vectors.shape[1])]\n",
    "    vector_lst_df = pd.concat([vector_df.drop('txt_vector', axis=1), vectors], axis=1)\n",
    "    \n",
    "    return vector_lst_df"
   ],
   "metadata": {
    "collapsed": false,
    "ExecuteTime": {
     "end_time": "2024-05-10T22:50:14.870795700Z",
     "start_time": "2024-05-10T22:50:14.853282800Z"
    }
   },
   "id": "23b166e29ef805b2"
  },
  {
   "cell_type": "code",
   "execution_count": 39,
   "outputs": [],
   "source": [
    "norm_vec_train_df = calc_text_vector(train_df)\n",
    "norm_vec_test_df = calc_text_vector(test_df)\n",
    "norm_vec_valid_df = calc_text_vector(valid_df)"
   ],
   "metadata": {
    "collapsed": false,
    "ExecuteTime": {
     "end_time": "2024-05-10T22:50:21.492753500Z",
     "start_time": "2024-05-10T22:50:15.255506100Z"
    }
   },
   "id": "fb45eca24e04da6"
  },
  {
   "cell_type": "code",
   "execution_count": 33,
   "outputs": [],
   "source": [
    "vec_df = pd.concat([norm_vec_train_df, norm_vec_test_df, norm_vec_valid_df], ignore_index=True)\n",
    "vec_df.to_csv(\"../data/digit_data/vec_df.csv\", index=False, encoding='utf-8')"
   ],
   "metadata": {
    "collapsed": false,
    "ExecuteTime": {
     "end_time": "2024-05-09T00:34:48.785213400Z",
     "start_time": "2024-05-09T00:34:48.173767600Z"
    }
   },
   "id": "b8880b3fb3814cea"
  },
  {
   "cell_type": "markdown",
   "source": [
    "## Prepare Cross Validation Data"
   ],
   "metadata": {
    "collapsed": false
   },
   "id": "3a378ae1bfd7eb87"
  },
  {
   "cell_type": "markdown",
   "source": [
    "### Split Data"
   ],
   "metadata": {
    "collapsed": false
   },
   "id": "ee4e3e947843753e"
  },
  {
   "cell_type": "code",
   "execution_count": null,
   "outputs": [],
   "source": [
    "train_one_df, test_one_df = train_test_split(one_df, test_size=0.2, random_state=42)\n",
    "train_zero_df, test_zero_df = train_test_split(zero_df, test_size=0.2, random_state=42)"
   ],
   "metadata": {
    "collapsed": false
   },
   "id": "30e3be24bf5554f3"
  },
  {
   "cell_type": "code",
   "execution_count": null,
   "outputs": [],
   "source": [
    "rate = train_one_df.shape[0]/train_zero_df.shape[0]\n",
    "df_duplicated = train_zero_df.copy()\n",
    "for i in range(int(rate)-1):\n",
    "    df_duplicated = pd.concat([train_zero_df, df_duplicated], ignore_index=True)\n",
    "\n",
    "selected_rows = train_zero_df.sample(frac=rate % 1, random_state=42)\n",
    "resample_train_zero_df = pd.concat([df_duplicated, selected_rows], ignore_index=True)"
   ],
   "metadata": {
    "collapsed": false
   },
   "id": "bc66c29b6c7acb5"
  },
  {
   "cell_type": "code",
   "execution_count": null,
   "outputs": [],
   "source": [
    "test_concatenated = pd.concat([test_one_df, test_zero_df], ignore_index=True)\n",
    "test_df = test_concatenated.sample(frac=1, random_state=42).reset_index(drop=True)\n",
    "\n",
    "train_concatenated = pd.concat([train_one_df, resample_train_zero_df], ignore_index=True)\n",
    "train_df = train_concatenated.sample(frac=1, random_state=42).reset_index(drop=True)"
   ],
   "metadata": {
    "collapsed": false
   },
   "id": "bc0395ca23f50134"
  },
  {
   "cell_type": "markdown",
   "source": [
    "### Store Test Data"
   ],
   "metadata": {
    "collapsed": false
   },
   "id": "b0ace2ed00051075"
  },
  {
   "cell_type": "code",
   "execution_count": null,
   "outputs": [],
   "source": [
    "test_df.to_csv(\"../data/cross_valid/test_df.csv\", index=False, encoding='utf-8')"
   ],
   "metadata": {
    "collapsed": false
   },
   "id": "9c71d971eb5da39"
  },
  {
   "cell_type": "markdown",
   "source": [
    "### Store Train and Validation Data"
   ],
   "metadata": {
    "collapsed": false
   },
   "id": "175585dc5dc628c"
  },
  {
   "cell_type": "code",
   "execution_count": null,
   "outputs": [],
   "source": [
    "from sklearn.model_selection import StratifiedKFold\n",
    "\n",
    "X = train_df.drop(columns=['Label'])\n",
    "y = train_df['Label']\n",
    "\n",
    "skf = StratifiedKFold(n_splits=5)\n",
    "counter = 0\n",
    "for train_idx, valid_idx in skf.split(X, y):\n",
    "    counter += 1\n",
    "    x_train, x_valid = X.iloc[train_idx], X.iloc[valid_idx]\n",
    "    y_train, y_valid = y.iloc[train_idx], y.iloc[valid_idx]\n",
    "\n",
    "    folder = '../data/cross_valid/k' + str(counter) + '/'\n",
    "\n",
    "    x_train.to_csv(folder + 'x_train.csv', index=False, encoding='utf-8')\n",
    "    x_valid.to_csv(folder + 'x_valid.csv', index=False, encoding='utf-8')\n",
    "    y_train.to_csv(folder + 'y_train.csv', index=False, encoding='utf-8')\n",
    "    y_valid.to_csv(folder + 'y_valid.csv', index=False, encoding='utf-8')"
   ],
   "metadata": {
    "collapsed": false
   },
   "id": "f53e208461e160c5"
  },
  {
   "cell_type": "markdown",
   "source": [
    "### Prepare Location Normalized Data"
   ],
   "metadata": {
    "collapsed": false
   },
   "id": "785d4c4a768edd8f"
  },
  {
   "cell_type": "code",
   "execution_count": null,
   "outputs": [],
   "source": [
    "norm_df = normalize_df(X, True)"
   ],
   "metadata": {
    "collapsed": false
   },
   "id": "865779828711f33d"
  },
  {
   "cell_type": "code",
   "execution_count": null,
   "outputs": [],
   "source": [
    "scaler = MinMaxScaler(feature_range=(0, 1))\n",
    "scaler.fit(norm_df[['txt_len']])\n",
    "\n",
    "for i in range(1, 6):\n",
    "    folder = '../data/cross_valid/k' + str(i) + '/'\n",
    "    x_train = grab_df_data(folder + 'x_train.csv')\n",
    "    x_valid = grab_df_data(folder + 'x_valid.csv')\n",
    "    y_train = grab_df_data(folder + 'y_train.csv')\n",
    "    y_valid = grab_df_data(folder + 'y_valid.csv')\n",
    "\n",
    "    norm_loc_x_train = preprocess_df(x_train, scaler)\n",
    "    norm_loc_x_valid = preprocess_df(x_valid, scaler)\n",
    "\n",
    "    norm_loc_x_train.to_csv(folder + 'loc_x_train.csv', index=False, encoding='utf-8')\n",
    "    norm_loc_x_valid.to_csv(folder + 'loc_x_valid.csv', index=False, encoding='utf-8')\n",
    "\n",
    "dump(scaler, './min_max_scaler.joblib')"
   ],
   "metadata": {
    "collapsed": false
   },
   "id": "ddd8fa2cc622ab50"
  },
  {
   "cell_type": "markdown",
   "source": [
    "### Prepare Text Vector Normalized Data"
   ],
   "metadata": {
    "collapsed": false
   },
   "id": "54e074fd577a0a41"
  },
  {
   "cell_type": "code",
   "execution_count": null,
   "outputs": [],
   "source": [
    "for i in range(1, 6):\n",
    "    folder = '../data/cross_valid/k' + str(i) + '/'\n",
    "    x_train = grab_df_data(folder + 'x_train.csv')\n",
    "    x_valid = grab_df_data(folder + 'x_valid.csv')\n",
    "    y_train = grab_df_data(folder + 'y_train.csv')\n",
    "    y_valid = grab_df_data(folder + 'y_valid.csv')\n",
    "\n",
    "    norm_vec_x_train = calc_text_vector(x_train)\n",
    "    norm_vec_x_valid = calc_text_vector(x_valid)\n",
    "\n",
    "    norm_vec_x_train.to_csv(folder + 'vec_x_train.csv', index=False, encoding='utf-8')\n",
    "    norm_vec_x_valid.to_csv(folder + 'vec_x_valid.csv', index=False, encoding='utf-8')"
   ],
   "metadata": {
    "collapsed": false
   },
   "id": "e688beea9c9d342"
  },
  {
   "cell_type": "markdown",
   "source": [
    "### Prepare Test Location and Vector Data"
   ],
   "metadata": {
    "collapsed": false
   },
   "id": "5ba7666639ef8464"
  },
  {
   "cell_type": "code",
   "execution_count": 40,
   "outputs": [],
   "source": [
    "x_test = test_df.drop(columns=['Label'])\n",
    "y_test = test_df['Label']\n",
    "\n",
    "norm_loc_x_test = preprocess_df(x_test, scaler)\n",
    "norm_vec_x_test = calc_text_vector(x_test)\n",
    "\n",
    "y_test.to_csv('../data/cross_valid/y_test.csv', index=False, encoding='utf-8')\n",
    "norm_loc_x_test.to_csv('../data/cross_valid/loc_x_test.csv', index=False, encoding='utf-8')\n",
    "norm_vec_x_test.to_csv('../data/cross_valid/vec_x_test.csv', index=False, encoding='utf-8')"
   ],
   "metadata": {
    "collapsed": false,
    "ExecuteTime": {
     "end_time": "2024-05-10T23:02:02.952646300Z",
     "start_time": "2024-05-10T23:01:54.105677600Z"
    }
   },
   "id": "493567b66d9b352"
  },
  {
   "cell_type": "markdown",
   "source": [],
   "metadata": {
    "collapsed": false
   },
   "id": "e6112fb1d16af8a4"
  }
 ],
 "metadata": {
  "kernelspec": {
   "display_name": "Python 3",
   "language": "python",
   "name": "python3"
  },
  "language_info": {
   "codemirror_mode": {
    "name": "ipython",
    "version": 2
   },
   "file_extension": ".py",
   "mimetype": "text/x-python",
   "name": "python",
   "nbconvert_exporter": "python",
   "pygments_lexer": "ipython2",
   "version": "2.7.6"
  }
 },
 "nbformat": 4,
 "nbformat_minor": 5
}
