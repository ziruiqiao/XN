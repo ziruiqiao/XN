{
 "cells": [
  {
   "cell_type": "code",
   "execution_count": null,
   "outputs": [],
   "source": [
    "from sklearn.model_selection import cross_val_score\n",
    "from sklearn.metrics import confusion_matrix, precision_score, recall_score\n",
    "from sklearn.ensemble import RandomForestClassifier\n",
    "from ActivePyTools.grab_data import eval_object_columns\n",
    "from sklearn.model_selection import train_test_split\n",
    "from imblearn.over_sampling import SMOTE\n",
    "import numpy as np\n",
    "import pandas as pd\n",
    "import chardet"
   ],
   "metadata": {
    "collapsed": false
   },
   "id": "e9120b3403470282"
  },
  {
   "cell_type": "code",
   "execution_count": null,
   "outputs": [],
   "source": [
    "def grab_df_data(df_path):\n",
    "    with open(df_path, 'rb') as file:\n",
    "        encoding = chardet.detect(file.read())['encoding']\n",
    "\n",
    "    temp_df = pd.read_csv(df_path, encoding=encoding)\n",
    "    df = eval_object_columns(temp_df)\n",
    "    return df\n",
    "\n",
    "norm_df = grab_df_data('./data/combined_norm_df.csv')\n",
    "norm_df['label'] = norm_df['label'].astype(int)\n",
    "text_vec = grab_df_data('./data/text_vector.csv')"
   ],
   "metadata": {
    "collapsed": false
   },
   "id": "91fce1b12ea336da"
  },
  {
   "cell_type": "code",
   "execution_count": null,
   "outputs": [],
   "source": [
    "X = norm_df.drop(columns=['label'])\n",
    "y = norm_df['label']\n",
    "\n",
    "X_train_val, X_test, y_train_val, y_test = train_test_split(X, y, test_size=0.2, random_state=42)\n",
    "X_train, X_val, y_train, y_val = train_test_split(X_train_val, y_train_val, test_size=0.2, random_state=42)\n",
    "smote = SMOTE(random_state=42)\n",
    "X_resampled, y_resampled = smote.fit_resample(X_train, y_train)"
   ],
   "metadata": {
    "collapsed": false
   },
   "id": "c8be85adea5f8c15"
  },
  {
   "cell_type": "code",
   "execution_count": null,
   "id": "initial_id",
   "metadata": {
    "collapsed": true
   },
   "outputs": [],
   "source": [
    "scores = []\n",
    "precisions, recalls,specificities = [], [], []\n",
    "\n",
    "for n in np.arange(10, 1000, 10):\n",
    "    clf = RandomForestClassifier(n_estimators=n)  # max_iter may be set higher if convergence issues occur\n",
    "\n",
    "    clf.fit(X_resampled, y_resampled)\n",
    "    score = cross_val_score(clf, X, y, cv=5)\n",
    "    scores.append(score.mean())\n",
    "\n",
    "    y_pred = clf.predict(X_test)\n",
    "    confusion_matrix(y_test, y_pred)\n",
    "\n",
    "    cm1 = confusion_matrix(y_test, y_pred)\n",
    "    precision1 = precision_score(y_test, y_pred)\n",
    "    recall1 = recall_score(y_test, y_pred)\n",
    "    TN1 = cm1[0, 0]\n",
    "    FP1 = cm1[0, 1]\n",
    "    specificity1 = TN1 / (TN1 + FP1)\n",
    "    precisions.append(precision1)\n",
    "    recalls.append(recall1)\n",
    "    specificities.append(specificity1)"
   ]
  },
  {
   "cell_type": "code",
   "execution_count": null,
   "outputs": [],
   "source": [
    "import matplotlib.pyplot as plt\n",
    "\n",
    "rang = np.arange(10, 1000, 10)\n",
    "\n",
    "# Plot the data\n",
    "plt.figure(figsize=(10, 6))  # Set the figure size\n",
    "plt.plot(rang, scores, label='RF Scores')\n",
    "plt.plot(rang, precisions, label='precisions')\n",
    "plt.plot(rang, recalls, label='recalls')\n",
    "plt.plot(rang, specificities, label='specificities')\n",
    "\n",
    "# Adding title and labels\n",
    "plt.title('Line Plot of scores')\n",
    "plt.xlabel('X values (10 to 300')\n",
    "plt.ylabel('Y values')\n",
    "\n",
    "# Add a legend\n",
    "plt.legend()\n",
    "\n",
    "# Show the plot\n",
    "plt.grid(True)  # Optional: Add grid for better readability\n",
    "plt.show()"
   ],
   "metadata": {
    "collapsed": false
   },
   "id": "3026eb72cf988248"
  }
 ],
 "metadata": {
  "kernelspec": {
   "display_name": "Python 3",
   "language": "python",
   "name": "python3"
  },
  "language_info": {
   "codemirror_mode": {
    "name": "ipython",
    "version": 2
   },
   "file_extension": ".py",
   "mimetype": "text/x-python",
   "name": "python",
   "nbconvert_exporter": "python",
   "pygments_lexer": "ipython2",
   "version": "2.7.6"
  }
 },
 "nbformat": 4,
 "nbformat_minor": 5
}
