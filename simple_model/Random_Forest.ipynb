{
 "cells": [
  {
   "cell_type": "code",
   "execution_count": 1,
   "outputs": [],
   "source": [
    "from sklearn.model_selection import cross_val_score\n",
    "from sklearn.ensemble import RandomForestClassifier\n",
    "from sklearn.linear_model import LogisticRegression\n",
    "import numpy as np\n",
    "import matplotlib.pyplot as plt\n",
    "import xgboost as xgb"
   ],
   "metadata": {
    "collapsed": false,
    "ExecuteTime": {
     "end_time": "2024-05-09T02:43:35.397824500Z",
     "start_time": "2024-05-09T02:43:35.085770Z"
    }
   },
   "id": "e9120b3403470282"
  },
  {
   "cell_type": "code",
   "execution_count": 2,
   "outputs": [],
   "source": [
    "from model_utils import *\n",
    "loc_df, X_loc_train, y_loc_train, X_loc_valid, y_loc_valid, X_loc_test, y_loc_test = load_loc_data('../')\n",
    "vec_df, X_vec_train, y_vec_train, X_vec_valid, y_vec_valid, X_vec_test, y_vec_test = load_vec_data('../')"
   ],
   "metadata": {
    "collapsed": false,
    "ExecuteTime": {
     "end_time": "2024-05-09T02:43:36.102926100Z",
     "start_time": "2024-05-09T02:43:35.399827100Z"
    }
   },
   "id": "79c5126120d3178c"
  },
  {
   "cell_type": "code",
   "execution_count": 3,
   "outputs": [],
   "source": [
    "loc_clf = RandomForestClassifier(n_estimators=60)\n",
    "loc_clf.fit(X_loc_train, y_loc_train);"
   ],
   "metadata": {
    "collapsed": false,
    "ExecuteTime": {
     "end_time": "2024-05-09T02:03:02.179196Z",
     "start_time": "2024-05-09T02:03:02.035387500Z"
    }
   },
   "id": "4ea9be65a20f371f"
  },
  {
   "cell_type": "code",
   "execution_count": 11,
   "outputs": [],
   "source": [
    "vec_clf = RandomForestClassifier(n_estimators=60)\n",
    "vec_clf.fit(X_vec_train, y_vec_train);"
   ],
   "metadata": {
    "collapsed": false,
    "ExecuteTime": {
     "end_time": "2024-05-09T02:05:15.392327400Z",
     "start_time": "2024-05-09T02:05:14.968777800Z"
    }
   },
   "id": "f3333b1fe6bfea81"
  },
  {
   "cell_type": "code",
   "execution_count": 15,
   "outputs": [],
   "source": [
    "val_preds1 = loc_clf.predict_proba(X_loc_train)[:, 1]\n",
    "val_preds2 = vec_clf.predict_proba(X_vec_train)[:, 1]\n",
    "\n",
    "stacked_features = np.column_stack((val_preds1, val_preds2))\n",
    "\n",
    "\n",
    "meta_model = LogisticRegression()\n",
    "meta_model.fit(stacked_features, y_loc_train);"
   ],
   "metadata": {
    "collapsed": false,
    "ExecuteTime": {
     "end_time": "2024-05-09T02:16:14.978007300Z",
     "start_time": "2024-05-09T02:16:14.832165Z"
    }
   },
   "id": "ac2a41e30e2660eb"
  },
  {
   "cell_type": "code",
   "execution_count": 16,
   "outputs": [
    {
     "name": "stdout",
     "output_type": "stream",
     "text": [
      "CM: \n",
      "[[ 28  36]\n",
      " [  7 214]]\n",
      "Precision: 0.86\n",
      "Recall: 0.97\n",
      "Specificity: 0.44\n",
      "Accuracy: 0.85\n"
     ]
    }
   ],
   "source": [
    "test_preds1 = loc_clf.predict_proba(X_loc_test)[:, 1]\n",
    "test_preds2 = vec_clf.predict_proba(X_vec_test)[:, 1]\n",
    "test_x  = np.column_stack((test_preds1, test_preds2))\n",
    "\n",
    "test_pred = meta_model.predict(test_x)\n",
    "\n",
    "accuracy = accuracy_score(y_loc_test, test_pred)\n",
    "cm = confusion_matrix(y_loc_test, test_pred)\n",
    "precision = precision_score(y_loc_test, test_pred)\n",
    "recall = recall_score(y_loc_test, test_pred)\n",
    "\n",
    "TN = cm[0, 0]\n",
    "FP = cm[0, 1]\n",
    "specificity = TN / (TN + FP)\n",
    "\n",
    "print(f\"CM: \\n{cm}\")\n",
    "print(f'Precision: {precision:.2f}')\n",
    "print(f'Recall: {recall:.2f}')\n",
    "print(f'Specificity: {specificity:.2f}')\n",
    "print(f'Accuracy: {accuracy:.2f}')"
   ],
   "metadata": {
    "collapsed": false,
    "ExecuteTime": {
     "end_time": "2024-05-09T02:16:17.603898300Z",
     "start_time": "2024-05-09T02:16:17.582459700Z"
    }
   },
   "id": "23afe6166e128aae"
  },
  {
   "cell_type": "code",
   "execution_count": 19,
   "outputs": [],
   "source": [
    "loc_model = xgb.XGBClassifier(objective='multi:softprob', num_class=2, eval_metric=\"mlogloss\")\n",
    "loc_model.fit(X_loc_train, y_loc_train);"
   ],
   "metadata": {
    "collapsed": false,
    "ExecuteTime": {
     "end_time": "2024-05-09T02:17:23.541187100Z",
     "start_time": "2024-05-09T02:17:23.374117800Z"
    }
   },
   "id": "a2e148c71f54db27"
  },
  {
   "cell_type": "code",
   "execution_count": 20,
   "outputs": [],
   "source": [
    "vec_model = xgb.XGBClassifier(objective='multi:softprob', num_class=2, eval_metric=\"mlogloss\")\n",
    "vec_model.fit(X_vec_train, y_vec_train);"
   ],
   "metadata": {
    "collapsed": false,
    "ExecuteTime": {
     "end_time": "2024-05-09T02:17:44.424363600Z",
     "start_time": "2024-05-09T02:17:43.440192400Z"
    }
   },
   "id": "8e2d258b8522efec"
  },
  {
   "cell_type": "code",
   "execution_count": 23,
   "outputs": [],
   "source": [
    "val_preds1 = loc_model.predict_proba(X_loc_train)[:, 1]\n",
    "val_preds2 = vec_model.predict_proba(X_vec_train)[:, 1]\n",
    "\n",
    "stacked_features = np.column_stack((val_preds1, val_preds2))\n",
    "\n",
    "meta_model = xgb.XGBClassifier(objective='multi:softprob', num_class=2, eval_metric=\"mlogloss\")\n",
    "meta_model.fit(stacked_features, y_loc_train);"
   ],
   "metadata": {
    "collapsed": false,
    "ExecuteTime": {
     "end_time": "2024-05-09T02:19:13.560809Z",
     "start_time": "2024-05-09T02:19:13.481073500Z"
    }
   },
   "id": "c4c13af661b4a107"
  },
  {
   "cell_type": "code",
   "execution_count": 25,
   "outputs": [],
   "source": [
    "test_preds1 = loc_model.predict_proba(X_loc_test)[:, 1]\n",
    "test_preds2 = vec_model.predict_proba(X_vec_test)[:, 1]\n",
    "test_x  = np.column_stack((test_preds1, test_preds2))\n",
    "\n",
    "test_pred = meta_model.predict(test_x)\n"
   ],
   "metadata": {
    "collapsed": false,
    "ExecuteTime": {
     "end_time": "2024-05-09T02:20:03.593637400Z",
     "start_time": "2024-05-09T02:20:03.568328100Z"
    }
   },
   "id": "f86392478c8c5262"
  },
  {
   "cell_type": "code",
   "execution_count": 40,
   "outputs": [
    {
     "name": "stdout",
     "output_type": "stream",
     "text": [
      "CM: \n",
      "[[ 36  28]\n",
      " [ 14 207]]\n",
      "Precision: 0.88\n",
      "Recall: 0.94\n",
      "Specificity: 0.56\n",
      "Accuracy: 0.85\n"
     ]
    }
   ],
   "source": [
    "accuracy = accuracy_score(y_loc_test, test_pred[:, 1])\n",
    "cm = confusion_matrix(y_loc_test, test_pred[:, 1])\n",
    "precision = precision_score(y_loc_test, test_pred[:, 1])\n",
    "recall = recall_score(y_loc_test, test_pred[:, 1])\n",
    "\n",
    "TN = cm[0, 0]\n",
    "FP = cm[0, 1]\n",
    "specificity = TN / (TN + FP)\n",
    "\n",
    "print(f\"CM: \\n{cm}\")\n",
    "print(f'Precision: {precision:.2f}')\n",
    "print(f'Recall: {recall:.2f}')\n",
    "print(f'Specificity: {specificity:.2f}')\n",
    "print(f'Accuracy: {accuracy:.2f}')"
   ],
   "metadata": {
    "collapsed": false,
    "ExecuteTime": {
     "end_time": "2024-05-09T02:24:40.308248600Z",
     "start_time": "2024-05-09T02:24:40.288161200Z"
    }
   },
   "id": "baf1ce0879a96901"
  },
  {
   "cell_type": "code",
   "execution_count": 3,
   "outputs": [],
   "source": [
    "x_train = pd.concat([X_loc_train, X_vec_train], axis=1)\n",
    "x_valid = pd.concat([X_loc_valid, X_vec_valid], axis=1)\n",
    "x_test = pd.concat([X_loc_test, X_vec_test], axis=1)"
   ],
   "metadata": {
    "collapsed": false,
    "ExecuteTime": {
     "end_time": "2024-05-09T02:43:38.795218200Z",
     "start_time": "2024-05-09T02:43:38.786250Z"
    }
   },
   "id": "89b796c50d2b1bac"
  },
  {
   "cell_type": "code",
   "execution_count": 7,
   "outputs": [
    {
     "data": {
      "text/plain": "64"
     },
     "execution_count": 7,
     "metadata": {},
     "output_type": "execute_result"
    }
   ],
   "source": [
    "y_loc_test.value_counts().get(0, 0)"
   ],
   "metadata": {
    "collapsed": false,
    "ExecuteTime": {
     "end_time": "2024-05-09T02:43:55.107979300Z",
     "start_time": "2024-05-09T02:43:55.074929Z"
    }
   },
   "id": "38d92b910b812648"
  },
  {
   "cell_type": "code",
   "execution_count": 5,
   "outputs": [],
   "source": [
    "model1 = xgb.XGBClassifier(objective='multi:softprob', num_class=2, eval_metric=\"mlogloss\")\n",
    "model1.fit(x_train, y_loc_train);"
   ],
   "metadata": {
    "collapsed": false,
    "ExecuteTime": {
     "end_time": "2024-05-09T02:43:42.567439600Z",
     "start_time": "2024-05-09T02:43:41.646632400Z"
    }
   },
   "id": "a910e0950a3fa180"
  },
  {
   "cell_type": "code",
   "execution_count": 6,
   "outputs": [
    {
     "name": "stdout",
     "output_type": "stream",
     "text": [
      "CM: \n",
      "[[ 39  25]\n",
      " [ 18 202]]\n",
      "Precision: 0.89\n",
      "Recall: 0.92\n",
      "Specificity: 0.61\n",
      "Accuracy: 0.85\n",
      "CM: \n",
      "[[ 33  31]\n",
      " [  9 212]]\n",
      "Precision: 0.87\n",
      "Recall: 0.96\n",
      "Specificity: 0.52\n",
      "Accuracy: 0.86\n"
     ]
    }
   ],
   "source": [
    "preds_valid = model1.predict(x_valid)\n",
    "preds_test = model1.predict(x_test)\n",
    "\n",
    "apply_metric(y_loc_valid, preds_valid[:, 1], enable_print=True)\n",
    "apply_metric(y_loc_test, preds_test[:, 1], enable_print=True);"
   ],
   "metadata": {
    "collapsed": false,
    "ExecuteTime": {
     "end_time": "2024-05-09T02:43:43.950889500Z",
     "start_time": "2024-05-09T02:43:43.895610700Z"
    }
   },
   "id": "3f3306a89c649f6c"
  },
  {
   "cell_type": "code",
   "execution_count": 8,
   "outputs": [],
   "source": [
    "model2 = LogisticRegression(max_iter=10000)\n",
    "model2.fit(x_train, y_loc_train);"
   ],
   "metadata": {
    "collapsed": false,
    "ExecuteTime": {
     "end_time": "2024-05-09T02:44:01.100639Z",
     "start_time": "2024-05-09T02:44:00.932449Z"
    }
   },
   "id": "c8fa294ae9fde38"
  },
  {
   "cell_type": "code",
   "execution_count": 9,
   "outputs": [
    {
     "name": "stdout",
     "output_type": "stream",
     "text": [
      "CM: \n",
      "[[ 44  20]\n",
      " [ 31 189]]\n",
      "Precision: 0.90\n",
      "Recall: 0.86\n",
      "Specificity: 0.69\n",
      "Accuracy: 0.82\n",
      "CM: \n",
      "[[ 42  22]\n",
      " [ 22 199]]\n",
      "Precision: 0.90\n",
      "Recall: 0.90\n",
      "Specificity: 0.66\n",
      "Accuracy: 0.85\n"
     ]
    }
   ],
   "source": [
    "preds_valid = model2.predict(x_valid)\n",
    "preds_test = model2.predict(x_test)\n",
    "\n",
    "apply_metric(y_loc_valid, preds_valid, enable_print=True)\n",
    "apply_metric(y_loc_test, preds_test, enable_print=True);"
   ],
   "metadata": {
    "collapsed": false,
    "ExecuteTime": {
     "end_time": "2024-05-09T02:44:02.240133600Z",
     "start_time": "2024-05-09T02:44:02.200235Z"
    }
   },
   "id": "f95bab125ce66f35"
  },
  {
   "cell_type": "code",
   "execution_count": 8,
   "outputs": [],
   "source": [
    "precisions_1, recalls_1, specificities_1 = [], [], []\n",
    "precisions_2, recalls_2, specificities_2 = [], [], []\n",
    "rang = np.arange(0.1, 0.91, 0.01)\n",
    "\n",
    "for th in rang:\n",
    "    test_probs = loc_clf.predict_proba(X_loc_test)[:, 1]\n",
    "    test_pred = (test_probs >= th).astype(int)\n",
    "    prec1, recal1, spec1, _ = apply_metric(test_pred, y_loc_test)\n",
    "    valid_probs = loc_clf.predict_proba(X_loc_valid)[:, 1]\n",
    "    valid_pred = (valid_probs >= th).astype(int)\n",
    "    prec2, recal2, spec2, _ = apply_metric(valid_pred, y_loc_valid)\n",
    "    precisions_1.append(prec1)\n",
    "    recalls_1.append(recal1)\n",
    "    specificities_1.append(spec1)\n",
    "    precisions_2.append(prec2)\n",
    "    recalls_2.append(recal2)\n",
    "    specificities_2.append(spec2)"
   ],
   "metadata": {
    "collapsed": false,
    "ExecuteTime": {
     "end_time": "2024-05-09T02:04:14.043830800Z",
     "start_time": "2024-05-09T02:04:12.749218700Z"
    }
   },
   "id": "3a32392d05de2bc6"
  },
  {
   "cell_type": "code",
   "execution_count": 9,
   "outputs": [
    {
     "data": {
      "text/plain": "<Figure size 1000x600 with 1 Axes>",
      "image/png": "[encoded data removed]"
     },
     "metadata": {},
     "output_type": "display_data"
    }
   ],
   "source": [
    "plt.figure(figsize=(10, 6))\n",
    "plt.plot(rang, specificities_1, label='specificities')\n",
    "plt.plot(rang, precisions_1, label='precisions')\n",
    "plt.plot(rang, recalls_1, label='recalls')\n",
    "\n",
    "plt.title('Line Plot of Test')\n",
    "plt.xlabel('X values')\n",
    "plt.ylabel('Y values')\n",
    "\n",
    "plt.legend()\n",
    "\n",
    "plt.grid(True)\n",
    "plt.show()"
   ],
   "metadata": {
    "collapsed": false,
    "ExecuteTime": {
     "end_time": "2024-05-09T02:04:14.946868Z",
     "start_time": "2024-05-09T02:04:14.593675200Z"
    }
   },
   "id": "bb25df264db70e69"
  },
  {
   "cell_type": "code",
   "execution_count": 10,
   "outputs": [
    {
     "data": {
      "text/plain": "<Figure size 1000x600 with 1 Axes>",
      "image/png": "[encoded data removed]"
     },
     "metadata": {},
     "output_type": "display_data"
    }
   ],
   "source": [
    "plt.figure(figsize=(10, 6))\n",
    "plt.plot(rang, specificities_2, label='specificities')\n",
    "plt.plot(rang, precisions_2, label='precisions')\n",
    "plt.plot(rang, recalls_2, label='recalls')\n",
    "\n",
    "plt.title('Line Plot of Test')\n",
    "plt.xlabel('X values')\n",
    "plt.ylabel('Y values')\n",
    "\n",
    "plt.legend()\n",
    "\n",
    "plt.grid(True)\n",
    "plt.show()"
   ],
   "metadata": {
    "collapsed": false,
    "ExecuteTime": {
     "end_time": "2024-05-09T02:04:34.975672900Z",
     "start_time": "2024-05-09T02:04:34.738377800Z"
    }
   },
   "id": "381525de5ad5cffd"
  },
  {
   "cell_type": "code",
   "execution_count": null,
   "id": "initial_id",
   "metadata": {
    "collapsed": true
   },
   "outputs": [],
   "source": [
    "scores = []\n",
    "precisions, recalls,specificities = [], [], []\n",
    "\n",
    "for n in np.arange(10, 1000, 10):\n",
    "    clf = RandomForestClassifier(n_estimators=n)  # max_iter may be set higher if convergence issues occur\n",
    "\n",
    "    clf.fit(X_resampled, y_resampled)\n",
    "    score = cross_val_score(clf, X, y, cv=5)\n",
    "    scores.append(score.mean())\n",
    "\n",
    "    y_pred = clf.predict(X_test)\n",
    "    confusion_matrix(y_test, y_pred)\n",
    "\n",
    "    cm1 = confusion_matrix(y_test, y_pred)\n",
    "    precision1 = precision_score(y_test, y_pred)\n",
    "    recall1 = recall_score(y_test, y_pred)\n",
    "    TN1 = cm1[0, 0]\n",
    "    FP1 = cm1[0, 1]\n",
    "    specificity1 = TN1 / (TN1 + FP1)\n",
    "    precisions.append(precision1)\n",
    "    recalls.append(recall1)\n",
    "    specificities.append(specificity1)"
   ]
  },
  {
   "cell_type": "code",
   "execution_count": null,
   "outputs": [],
   "source": [
    "import matplotlib.pyplot as plt\n",
    "\n",
    "rang = np.arange(10, 1000, 10)\n",
    "\n",
    "# Plot the data\n",
    "plt.figure(figsize=(10, 6))  # Set the figure size\n",
    "plt.plot(rang, scores, label='RF Scores')\n",
    "plt.plot(rang, precisions, label='precisions')\n",
    "plt.plot(rang, recalls, label='recalls')\n",
    "plt.plot(rang, specificities, label='specificities')\n",
    "\n",
    "# Adding title and labels\n",
    "plt.title('Line Plot of scores')\n",
    "plt.xlabel('X values (10 to 300')\n",
    "plt.ylabel('Y values')\n",
    "\n",
    "# Add a legend\n",
    "plt.legend()\n",
    "\n",
    "# Show the plot\n",
    "plt.grid(True)  # Optional: Add grid for better readability\n",
    "plt.show()"
   ],
   "metadata": {
    "collapsed": false
   },
   "id": "3026eb72cf988248"
  }
 ],
 "metadata": {
  "kernelspec": {
   "display_name": "Python 3",
   "language": "python",
   "name": "python3"
  },
  "language_info": {
   "codemirror_mode": {
    "name": "ipython",
    "version": 2
   },
   "file_extension": ".py",
   "mimetype": "text/x-python",
   "name": "python",
   "nbconvert_exporter": "python",
   "pygments_lexer": "ipython2",
   "version": "2.7.6"
  }
 },
 "nbformat": 4,
 "nbformat_minor": 5
}
