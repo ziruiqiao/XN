{
 "cells": [
  {
   "cell_type": "code",
   "execution_count": 1,
   "id": "initial_id",
   "metadata": {
    "collapsed": true,
    "ExecuteTime": {
     "end_time": "2024-05-11T02:25:13.734885600Z",
     "start_time": "2024-05-11T02:25:12.765229100Z"
    }
   },
   "outputs": [],
   "source": [
    "import pandas as pd\n",
    "from sklearn.ensemble import RandomForestClassifier\n",
    "from sklearn.linear_model import LogisticRegression\n",
    "import numpy as np\n",
    "import xgboost as xgb\n",
    "from sklearn.svm import SVC\n",
    "\n",
    "from model_utils import *\n",
    "loc_df, X_loc_train, y_loc_train, X_loc_valid, y_loc_valid, X_loc_test, y_loc_test = load_loc_data('../')\n",
    "vec_df, X_vec_train, y_vec_train, X_vec_valid, y_vec_valid, X_vec_test, y_vec_test = load_vec_data('../')"
   ]
  },
  {
   "cell_type": "code",
   "execution_count": 2,
   "outputs": [],
   "source": [
    "def try_thresholds(model, X, y, rang):\n",
    "    precisions, recalls, specificities = [], [], []\n",
    "    \n",
    "    for th in rang:\n",
    "        test_probs = model.predict_proba(X)[:, 1]\n",
    "        test_pred = (test_probs >= th).astype(int)\n",
    "        prec, recal, spec, _ = apply_metric(y, test_pred, False)\n",
    "        precisions.append(prec)\n",
    "        recalls.append(recal)\n",
    "        specificities.append(spec)\n",
    "        \n",
    "    return precisions, recalls, specificities\n",
    "        \n",
    "\n",
    "def find_highest_spec(precisions, recalls, specficities, threshold, enable_print=False):\n",
    "    highest_value = 0\n",
    "    highest_idx = 0\n",
    "    \n",
    "    for idx, (val1, val2, val3) in enumerate(zip(precisions, recalls, specficities)):\n",
    "        if val1 >= threshold and val2 >= threshold:\n",
    "            if val3 > highest_value:\n",
    "                highest_value = val3\n",
    "                highest_idx = idx\n",
    "    if enable_print:\n",
    "        print(\"TEST DATASET\")\n",
    "        print(f\"id = {highest_idx}\")\n",
    "        print(f'Precision: {precisions[highest_idx]:.2f}')\n",
    "        print(f'Recall: {recalls[highest_idx]:.2f}')\n",
    "        print(f'Specificity: {specficities[highest_idx]:.2f}')\n",
    "    \n",
    "    return precisions[highest_idx], recalls[highest_idx], specficities[highest_idx]\n",
    "\n",
    "def valid_and_test(model, rang, threshold=0.8, type='loc', enable_print=False):\n",
    "    if type == 'loc':\n",
    "        X_test = X_loc_test\n",
    "        X_valid = X_loc_valid\n",
    "        y_test = y_loc_test\n",
    "        y_valid = y_loc_valid\n",
    "    else:\n",
    "        X_test = X_vec_test\n",
    "        X_valid = X_vec_valid\n",
    "        y_test = y_vec_test\n",
    "        y_valid = y_vec_valid\n",
    "    test_prec, test_reca, test_spec = try_thresholds(model, X_test, y_test, rang)\n",
    "    if enable_print:\n",
    "        print(\"\\nTEST DATASET\")\n",
    "    test_performance = find_highest_spec(test_prec, test_reca, test_spec, threshold, enable_print=enable_print)\n",
    "    valid_prec, valid_reca, valid_spec = try_thresholds(model, X_valid, y_valid, rang)\n",
    "    if enable_print:\n",
    "        print(\"\\nVALID DATASET\")\n",
    "    valid_performance = find_highest_spec(valid_prec, valid_reca, valid_spec, threshold, enable_print=enable_print)\n",
    "    return test_performance, valid_performance\n"
   ],
   "metadata": {
    "collapsed": false,
    "ExecuteTime": {
     "end_time": "2024-05-11T02:25:13.753245500Z",
     "start_time": "2024-05-11T02:25:13.741887100Z"
    }
   },
   "id": "8316bf5c6ea12dc9"
  },
  {
   "cell_type": "code",
   "execution_count": 3,
   "outputs": [],
   "source": [
    "loc_rfc = RandomForestClassifier(n_estimators=60)\n",
    "loc_rfc.fit(X_loc_train, y_loc_train)\n",
    "loc_lrm = LogisticRegression(max_iter=10000)\n",
    "loc_lrm.fit(X_loc_train, y_loc_train)\n",
    "loc_xgb = xgb.XGBClassifier(objective='binary:logistic', eval_metric=\"logloss\")\n",
    "loc_xgb.fit(X_loc_train, y_loc_train)\n",
    "loc_svm = SVC(kernel='linear', probability=True, random_state=42)\n",
    "loc_svm.fit(X_loc_train, y_loc_train);"
   ],
   "metadata": {
    "collapsed": false,
    "ExecuteTime": {
     "end_time": "2024-05-11T02:25:14.745592500Z",
     "start_time": "2024-05-11T02:25:13.748242900Z"
    }
   },
   "id": "c41e191f4026c9dd"
  },
  {
   "cell_type": "code",
   "execution_count": 4,
   "outputs": [],
   "source": [
    "vec_rfc = RandomForestClassifier(n_estimators=60)\n",
    "vec_rfc.fit(X_vec_train, y_vec_train)\n",
    "vec_lrm = LogisticRegression(max_iter=10000)\n",
    "vec_lrm.fit(X_vec_train, y_vec_train)\n",
    "vec_xgb = xgb.XGBClassifier(objective='binary:logistic', eval_metric=\"logloss\")\n",
    "vec_xgb.fit(X_vec_train, y_vec_train)\n",
    "vec_svm = SVC(kernel='linear', probability=True, random_state=42)\n",
    "vec_svm.fit(X_vec_train, y_vec_train);"
   ],
   "metadata": {
    "collapsed": false,
    "ExecuteTime": {
     "end_time": "2024-05-11T02:25:16.878617Z",
     "start_time": "2024-05-11T02:25:14.732578900Z"
    }
   },
   "id": "3188bb421b73f5b"
  },
  {
   "cell_type": "code",
   "execution_count": 5,
   "outputs": [],
   "source": [
    "iter_rang = np.arange(0.1, 0.99, 0.01)"
   ],
   "metadata": {
    "collapsed": false,
    "ExecuteTime": {
     "end_time": "2024-05-11T02:25:16.881661400Z",
     "start_time": "2024-05-11T02:25:16.877726700Z"
    }
   },
   "id": "d069020405866795"
  },
  {
   "cell_type": "code",
   "execution_count": 6,
   "outputs": [],
   "source": [
    "def load_to_df(dict):\n",
    "    columns = pd.MultiIndex.from_product(\n",
    "        [['Test', 'Validation'], ['Precision', 'Recall', 'Specificity']],\n",
    "        names=['Dataset', 'Metric']\n",
    "    )\n",
    "\n",
    "    data = []\n",
    "    for model, metrics in dict.items():\n",
    "        row = list(metrics[0] + metrics[1])  # Flatten the tuple of tuples\n",
    "        data.append(row)\n",
    "    \n",
    "    df = pd.DataFrame(data, index=dict.keys(), columns=columns)\n",
    "    return df"
   ],
   "metadata": {
    "collapsed": false,
    "ExecuteTime": {
     "end_time": "2024-05-11T02:25:16.898961700Z",
     "start_time": "2024-05-11T02:25:16.883657900Z"
    }
   },
   "id": "4ea947e6d9324e97"
  },
  {
   "cell_type": "code",
   "execution_count": 7,
   "outputs": [],
   "source": [
    "performance_dict = {}\n",
    "\n",
    "performance_dict['Random Forest'] = valid_and_test(loc_rfc, iter_rang)\n",
    "performance_dict['Logistic Regression'] = valid_and_test(loc_lrm, iter_rang)\n",
    "performance_dict['XGBoost'] = valid_and_test(loc_xgb, iter_rang)\n",
    "performance_dict['SVM'] = valid_and_test(loc_svm, iter_rang)\n",
    "\n",
    "loc_08 = load_to_df(performance_dict)\n",
    "\n",
    "performance_dict = {}\n",
    "\n",
    "performance_dict['Random Forest'] = valid_and_test(vec_rfc, iter_rang, type='vec')\n",
    "performance_dict['Logistic Regression'] = valid_and_test(vec_lrm, iter_rang, type='vec')\n",
    "performance_dict['XGBoost'] = valid_and_test(vec_xgb, iter_rang, type='vec')\n",
    "performance_dict['SVM'] = valid_and_test(vec_svm, iter_rang, type='vec')\n",
    "\n",
    "vec_08 = load_to_df(performance_dict)"
   ],
   "metadata": {
    "collapsed": false,
    "ExecuteTime": {
     "end_time": "2024-05-11T02:25:36.962031400Z",
     "start_time": "2024-05-11T02:25:16.894962300Z"
    }
   },
   "id": "5bbff7aea9fce192"
  },
  {
   "cell_type": "code",
   "execution_count": 8,
   "outputs": [
    {
     "data": {
      "text/plain": "Dataset                  Test                       Validation            \\\nMetric              Precision    Recall Specificity  Precision    Recall   \nRandom Forest        0.884615  0.832579    0.625000   0.917949  0.813636   \nLogistic Regression  0.883495  0.823529    0.625000   0.907692  0.804545   \nXGBoost              0.902913  0.841629    0.687500   0.889447  0.804545   \nSVM                  0.886700  0.814480    0.640625   0.897959  0.800000   \n\nDataset                          \nMetric              Specificity  \nRandom Forest           0.75000  \nLogistic Regression     0.71875  \nXGBoost                 0.65625  \nSVM                     0.68750  ",
      "text/html": "<div>\n<style scoped>\n    .dataframe tbody tr th:only-of-type {\n        vertical-align: middle;\n    }\n\n    .dataframe tbody tr th {\n        vertical-align: top;\n    }\n\n    .dataframe thead tr th {\n        text-align: left;\n    }\n</style>\n<table border=\"1\" class=\"dataframe\">\n  <thead>\n    <tr>\n      <th>Dataset</th>\n      <th colspan=\"3\" halign=\"left\">Test</th>\n      <th colspan=\"3\" halign=\"left\">Validation</th>\n    </tr>\n    <tr>\n      <th>Metric</th>\n      <th>Precision</th>\n      <th>Recall</th>\n      <th>Specificity</th>\n      <th>Precision</th>\n      <th>Recall</th>\n      <th>Specificity</th>\n    </tr>\n  </thead>\n  <tbody>\n    <tr>\n      <th>Random Forest</th>\n      <td>0.884615</td>\n      <td>0.832579</td>\n      <td>0.625000</td>\n      <td>0.917949</td>\n      <td>0.813636</td>\n      <td>0.75000</td>\n    </tr>\n    <tr>\n      <th>Logistic Regression</th>\n      <td>0.883495</td>\n      <td>0.823529</td>\n      <td>0.625000</td>\n      <td>0.907692</td>\n      <td>0.804545</td>\n      <td>0.71875</td>\n    </tr>\n    <tr>\n      <th>XGBoost</th>\n      <td>0.902913</td>\n      <td>0.841629</td>\n      <td>0.687500</td>\n      <td>0.889447</td>\n      <td>0.804545</td>\n      <td>0.65625</td>\n    </tr>\n    <tr>\n      <th>SVM</th>\n      <td>0.886700</td>\n      <td>0.814480</td>\n      <td>0.640625</td>\n      <td>0.897959</td>\n      <td>0.800000</td>\n      <td>0.68750</td>\n    </tr>\n  </tbody>\n</table>\n</div>"
     },
     "execution_count": 8,
     "metadata": {},
     "output_type": "execute_result"
    }
   ],
   "source": [
    "loc_08"
   ],
   "metadata": {
    "collapsed": false,
    "ExecuteTime": {
     "end_time": "2024-05-11T02:25:36.978999900Z",
     "start_time": "2024-05-11T02:25:36.963032800Z"
    }
   },
   "id": "e34e81577dddbbd6"
  },
  {
   "cell_type": "code",
   "execution_count": 9,
   "outputs": [
    {
     "data": {
      "text/plain": "Dataset                  Test                       Validation            \\\nMetric              Precision    Recall Specificity  Precision    Recall   \nRandom Forest        0.868932  0.809955    0.578125   0.774194  0.981818   \nLogistic Regression  0.832685  0.968326    0.328125   0.817829  0.959091   \nXGBoost              0.898990  0.805430    0.687500   0.815385  0.963636   \nSVM                  0.806084  0.959276    0.203125   0.800000  0.963636   \n\nDataset                          \nMetric              Specificity  \nRandom Forest          0.015625  \nLogistic Regression    0.265625  \nXGBoost                0.250000  \nSVM                    0.171875  ",
      "text/html": "<div>\n<style scoped>\n    .dataframe tbody tr th:only-of-type {\n        vertical-align: middle;\n    }\n\n    .dataframe tbody tr th {\n        vertical-align: top;\n    }\n\n    .dataframe thead tr th {\n        text-align: left;\n    }\n</style>\n<table border=\"1\" class=\"dataframe\">\n  <thead>\n    <tr>\n      <th>Dataset</th>\n      <th colspan=\"3\" halign=\"left\">Test</th>\n      <th colspan=\"3\" halign=\"left\">Validation</th>\n    </tr>\n    <tr>\n      <th>Metric</th>\n      <th>Precision</th>\n      <th>Recall</th>\n      <th>Specificity</th>\n      <th>Precision</th>\n      <th>Recall</th>\n      <th>Specificity</th>\n    </tr>\n  </thead>\n  <tbody>\n    <tr>\n      <th>Random Forest</th>\n      <td>0.868932</td>\n      <td>0.809955</td>\n      <td>0.578125</td>\n      <td>0.774194</td>\n      <td>0.981818</td>\n      <td>0.015625</td>\n    </tr>\n    <tr>\n      <th>Logistic Regression</th>\n      <td>0.832685</td>\n      <td>0.968326</td>\n      <td>0.328125</td>\n      <td>0.817829</td>\n      <td>0.959091</td>\n      <td>0.265625</td>\n    </tr>\n    <tr>\n      <th>XGBoost</th>\n      <td>0.898990</td>\n      <td>0.805430</td>\n      <td>0.687500</td>\n      <td>0.815385</td>\n      <td>0.963636</td>\n      <td>0.250000</td>\n    </tr>\n    <tr>\n      <th>SVM</th>\n      <td>0.806084</td>\n      <td>0.959276</td>\n      <td>0.203125</td>\n      <td>0.800000</td>\n      <td>0.963636</td>\n      <td>0.171875</td>\n    </tr>\n  </tbody>\n</table>\n</div>"
     },
     "execution_count": 9,
     "metadata": {},
     "output_type": "execute_result"
    }
   ],
   "source": [
    "vec_08"
   ],
   "metadata": {
    "collapsed": false,
    "ExecuteTime": {
     "end_time": "2024-05-11T02:25:37.006344200Z",
     "start_time": "2024-05-11T02:25:36.980001600Z"
    }
   },
   "id": "2f5fd458d4142722"
  },
  {
   "cell_type": "code",
   "execution_count": 10,
   "outputs": [],
   "source": [
    "th = 0.9\n",
    "performance_dict = {}\n",
    "\n",
    "performance_dict['Random Forest'] = valid_and_test(loc_rfc, iter_rang, threshold=th)\n",
    "performance_dict['Logistic Regression'] = valid_and_test(loc_lrm, iter_rang, threshold=th)\n",
    "performance_dict['XGBoost'] = valid_and_test(loc_xgb, iter_rang, threshold=th)\n",
    "performance_dict['SVM'] = valid_and_test(loc_svm, iter_rang, threshold=th)\n",
    "\n",
    "loc_09 = load_to_df(performance_dict)\n",
    "\n",
    "performance_dict = {}\n",
    "\n",
    "performance_dict['Random Forest'] = valid_and_test(vec_rfc, iter_rang, type='vec', threshold=th)\n",
    "performance_dict['Logistic Regression'] = valid_and_test(vec_lrm, iter_rang, type='vec', threshold=th)\n",
    "performance_dict['XGBoost'] = valid_and_test(vec_xgb, iter_rang, type='vec', threshold=th)\n",
    "performance_dict['SVM'] = valid_and_test(vec_svm, iter_rang, type='vec', threshold=th)\n",
    "\n",
    "vec_09 = load_to_df(performance_dict)"
   ],
   "metadata": {
    "collapsed": false,
    "ExecuteTime": {
     "end_time": "2024-05-11T02:25:57.058629500Z",
     "start_time": "2024-05-11T02:25:36.995341700Z"
    }
   },
   "id": "e5426f5fa1787f51"
  },
  {
   "cell_type": "code",
   "execution_count": 11,
   "outputs": [
    {
     "data": {
      "text/plain": "Dataset                  Test                       Validation            \\\nMetric              Precision    Recall Specificity  Precision    Recall   \nRandom Forest        0.803636  1.000000     0.15625   0.802920  1.000000   \nLogistic Regression  0.838462  0.986425     0.34375   0.816794  0.972727   \nXGBoost              0.844358  0.981900     0.37500   0.856000  0.972727   \nSVM                  0.785714  0.995475     0.06250   0.814126  0.995455   \n\nDataset                          \nMetric              Specificity  \nRandom Forest           0.15625  \nLogistic Regression     0.25000  \nXGBoost                 0.43750  \nSVM                     0.21875  ",
      "text/html": "<div>\n<style scoped>\n    .dataframe tbody tr th:only-of-type {\n        vertical-align: middle;\n    }\n\n    .dataframe tbody tr th {\n        vertical-align: top;\n    }\n\n    .dataframe thead tr th {\n        text-align: left;\n    }\n</style>\n<table border=\"1\" class=\"dataframe\">\n  <thead>\n    <tr>\n      <th>Dataset</th>\n      <th colspan=\"3\" halign=\"left\">Test</th>\n      <th colspan=\"3\" halign=\"left\">Validation</th>\n    </tr>\n    <tr>\n      <th>Metric</th>\n      <th>Precision</th>\n      <th>Recall</th>\n      <th>Specificity</th>\n      <th>Precision</th>\n      <th>Recall</th>\n      <th>Specificity</th>\n    </tr>\n  </thead>\n  <tbody>\n    <tr>\n      <th>Random Forest</th>\n      <td>0.803636</td>\n      <td>1.000000</td>\n      <td>0.15625</td>\n      <td>0.802920</td>\n      <td>1.000000</td>\n      <td>0.15625</td>\n    </tr>\n    <tr>\n      <th>Logistic Regression</th>\n      <td>0.838462</td>\n      <td>0.986425</td>\n      <td>0.34375</td>\n      <td>0.816794</td>\n      <td>0.972727</td>\n      <td>0.25000</td>\n    </tr>\n    <tr>\n      <th>XGBoost</th>\n      <td>0.844358</td>\n      <td>0.981900</td>\n      <td>0.37500</td>\n      <td>0.856000</td>\n      <td>0.972727</td>\n      <td>0.43750</td>\n    </tr>\n    <tr>\n      <th>SVM</th>\n      <td>0.785714</td>\n      <td>0.995475</td>\n      <td>0.06250</td>\n      <td>0.814126</td>\n      <td>0.995455</td>\n      <td>0.21875</td>\n    </tr>\n  </tbody>\n</table>\n</div>"
     },
     "execution_count": 11,
     "metadata": {},
     "output_type": "execute_result"
    }
   ],
   "source": [
    "loc_09"
   ],
   "metadata": {
    "collapsed": false,
    "ExecuteTime": {
     "end_time": "2024-05-11T02:25:57.086953300Z",
     "start_time": "2024-05-11T02:25:57.059630Z"
    }
   },
   "id": "852bd256fd24e5a2"
  },
  {
   "cell_type": "code",
   "execution_count": 12,
   "outputs": [
    {
     "data": {
      "text/plain": "Dataset                  Test                       Validation            \\\nMetric              Precision    Recall Specificity  Precision    Recall   \nRandom Forest        0.790614  0.990950    0.093750   0.774194  0.981818   \nLogistic Regression  0.811111  0.990950    0.203125   0.788321  0.981818   \nXGBoost              0.801471  0.986425    0.156250   0.796296  0.977273   \nSVM                  0.795620  0.986425    0.125000   0.783088  0.968182   \n\nDataset                          \nMetric              Specificity  \nRandom Forest          0.015625  \nLogistic Regression    0.093750  \nXGBoost                0.140625  \nSVM                    0.078125  ",
      "text/html": "<div>\n<style scoped>\n    .dataframe tbody tr th:only-of-type {\n        vertical-align: middle;\n    }\n\n    .dataframe tbody tr th {\n        vertical-align: top;\n    }\n\n    .dataframe thead tr th {\n        text-align: left;\n    }\n</style>\n<table border=\"1\" class=\"dataframe\">\n  <thead>\n    <tr>\n      <th>Dataset</th>\n      <th colspan=\"3\" halign=\"left\">Test</th>\n      <th colspan=\"3\" halign=\"left\">Validation</th>\n    </tr>\n    <tr>\n      <th>Metric</th>\n      <th>Precision</th>\n      <th>Recall</th>\n      <th>Specificity</th>\n      <th>Precision</th>\n      <th>Recall</th>\n      <th>Specificity</th>\n    </tr>\n  </thead>\n  <tbody>\n    <tr>\n      <th>Random Forest</th>\n      <td>0.790614</td>\n      <td>0.990950</td>\n      <td>0.093750</td>\n      <td>0.774194</td>\n      <td>0.981818</td>\n      <td>0.015625</td>\n    </tr>\n    <tr>\n      <th>Logistic Regression</th>\n      <td>0.811111</td>\n      <td>0.990950</td>\n      <td>0.203125</td>\n      <td>0.788321</td>\n      <td>0.981818</td>\n      <td>0.093750</td>\n    </tr>\n    <tr>\n      <th>XGBoost</th>\n      <td>0.801471</td>\n      <td>0.986425</td>\n      <td>0.156250</td>\n      <td>0.796296</td>\n      <td>0.977273</td>\n      <td>0.140625</td>\n    </tr>\n    <tr>\n      <th>SVM</th>\n      <td>0.795620</td>\n      <td>0.986425</td>\n      <td>0.125000</td>\n      <td>0.783088</td>\n      <td>0.968182</td>\n      <td>0.078125</td>\n    </tr>\n  </tbody>\n</table>\n</div>"
     },
     "execution_count": 12,
     "metadata": {},
     "output_type": "execute_result"
    }
   ],
   "source": [
    "vec_09"
   ],
   "metadata": {
    "collapsed": false,
    "ExecuteTime": {
     "end_time": "2024-05-11T02:25:57.087952900Z",
     "start_time": "2024-05-11T02:25:57.070954700Z"
    }
   },
   "id": "d79e2b525450156"
  },
  {
   "cell_type": "code",
   "execution_count": 13,
   "outputs": [],
   "source": [
    "th = 0.75\n",
    "performance_dict = {}\n",
    "\n",
    "performance_dict['Random Forest'] = valid_and_test(loc_rfc, iter_rang, threshold=th)\n",
    "performance_dict['Logistic Regression'] = valid_and_test(loc_lrm, iter_rang, threshold=th)\n",
    "performance_dict['XGBoost'] = valid_and_test(loc_xgb, iter_rang, threshold=th)\n",
    "performance_dict['SVM'] = valid_and_test(loc_svm, iter_rang, threshold=th)\n",
    "\n",
    "loc_075 = load_to_df(performance_dict)\n",
    "\n",
    "performance_dict = {}\n",
    "\n",
    "performance_dict['Random Forest'] = valid_and_test(vec_rfc, iter_rang, type='vec', threshold=th)\n",
    "performance_dict['Logistic Regression'] = valid_and_test(vec_lrm, iter_rang, type='vec', threshold=th)\n",
    "performance_dict['XGBoost'] = valid_and_test(vec_xgb, iter_rang, type='vec', threshold=th)\n",
    "performance_dict['SVM'] = valid_and_test(vec_svm, iter_rang, type='vec', threshold=th)\n",
    "\n",
    "vec_075 = load_to_df(performance_dict)"
   ],
   "metadata": {
    "collapsed": false,
    "ExecuteTime": {
     "end_time": "2024-05-11T02:26:16.909806700Z",
     "start_time": "2024-05-11T02:25:57.082951800Z"
    }
   },
   "id": "238f6b557d1ee1c3"
  },
  {
   "cell_type": "code",
   "execution_count": 14,
   "outputs": [
    {
     "data": {
      "text/plain": "Dataset                  Test                       Validation            \\\nMetric              Precision    Recall Specificity  Precision    Recall   \nRandom Forest        0.889474  0.764706    0.671875   0.923077  0.763636   \nLogistic Regression  0.882653  0.782805    0.640625   0.918919  0.772727   \nXGBoost              0.917582  0.755656    0.765625   0.893617  0.763636   \nSVM                  0.891753  0.782805    0.671875   0.902174  0.754545   \n\nDataset                          \nMetric              Specificity  \nRandom Forest          0.781250  \nLogistic Regression    0.765625  \nXGBoost                0.687500  \nSVM                    0.718750  ",
      "text/html": "<div>\n<style scoped>\n    .dataframe tbody tr th:only-of-type {\n        vertical-align: middle;\n    }\n\n    .dataframe tbody tr th {\n        vertical-align: top;\n    }\n\n    .dataframe thead tr th {\n        text-align: left;\n    }\n</style>\n<table border=\"1\" class=\"dataframe\">\n  <thead>\n    <tr>\n      <th>Dataset</th>\n      <th colspan=\"3\" halign=\"left\">Test</th>\n      <th colspan=\"3\" halign=\"left\">Validation</th>\n    </tr>\n    <tr>\n      <th>Metric</th>\n      <th>Precision</th>\n      <th>Recall</th>\n      <th>Specificity</th>\n      <th>Precision</th>\n      <th>Recall</th>\n      <th>Specificity</th>\n    </tr>\n  </thead>\n  <tbody>\n    <tr>\n      <th>Random Forest</th>\n      <td>0.889474</td>\n      <td>0.764706</td>\n      <td>0.671875</td>\n      <td>0.923077</td>\n      <td>0.763636</td>\n      <td>0.781250</td>\n    </tr>\n    <tr>\n      <th>Logistic Regression</th>\n      <td>0.882653</td>\n      <td>0.782805</td>\n      <td>0.640625</td>\n      <td>0.918919</td>\n      <td>0.772727</td>\n      <td>0.765625</td>\n    </tr>\n    <tr>\n      <th>XGBoost</th>\n      <td>0.917582</td>\n      <td>0.755656</td>\n      <td>0.765625</td>\n      <td>0.893617</td>\n      <td>0.763636</td>\n      <td>0.687500</td>\n    </tr>\n    <tr>\n      <th>SVM</th>\n      <td>0.891753</td>\n      <td>0.782805</td>\n      <td>0.671875</td>\n      <td>0.902174</td>\n      <td>0.754545</td>\n      <td>0.718750</td>\n    </tr>\n  </tbody>\n</table>\n</div>"
     },
     "execution_count": 14,
     "metadata": {},
     "output_type": "execute_result"
    }
   ],
   "source": [
    "loc_075"
   ],
   "metadata": {
    "collapsed": false,
    "ExecuteTime": {
     "end_time": "2024-05-11T02:26:16.948179700Z",
     "start_time": "2024-05-11T02:26:16.917818300Z"
    }
   },
   "id": "eadf26334a57433e"
  },
  {
   "cell_type": "code",
   "execution_count": 15,
   "outputs": [
    {
     "data": {
      "text/plain": "Dataset                  Test                       Validation            \\\nMetric              Precision    Recall Specificity  Precision    Recall   \nRandom Forest        0.933702  0.764706     0.81250   0.922222  0.754545   \nLogistic Regression  0.922222  0.751131     0.78125   0.897849  0.759091   \nXGBoost              0.943182  0.751131     0.84375   0.906593  0.750000   \nSVM                  0.922652  0.755656     0.78125   0.887097  0.750000   \n\nDataset                          \nMetric              Specificity  \nRandom Forest          0.781250  \nLogistic Regression    0.703125  \nXGBoost                0.734375  \nSVM                    0.671875  ",
      "text/html": "<div>\n<style scoped>\n    .dataframe tbody tr th:only-of-type {\n        vertical-align: middle;\n    }\n\n    .dataframe tbody tr th {\n        vertical-align: top;\n    }\n\n    .dataframe thead tr th {\n        text-align: left;\n    }\n</style>\n<table border=\"1\" class=\"dataframe\">\n  <thead>\n    <tr>\n      <th>Dataset</th>\n      <th colspan=\"3\" halign=\"left\">Test</th>\n      <th colspan=\"3\" halign=\"left\">Validation</th>\n    </tr>\n    <tr>\n      <th>Metric</th>\n      <th>Precision</th>\n      <th>Recall</th>\n      <th>Specificity</th>\n      <th>Precision</th>\n      <th>Recall</th>\n      <th>Specificity</th>\n    </tr>\n  </thead>\n  <tbody>\n    <tr>\n      <th>Random Forest</th>\n      <td>0.933702</td>\n      <td>0.764706</td>\n      <td>0.81250</td>\n      <td>0.922222</td>\n      <td>0.754545</td>\n      <td>0.781250</td>\n    </tr>\n    <tr>\n      <th>Logistic Regression</th>\n      <td>0.922222</td>\n      <td>0.751131</td>\n      <td>0.78125</td>\n      <td>0.897849</td>\n      <td>0.759091</td>\n      <td>0.703125</td>\n    </tr>\n    <tr>\n      <th>XGBoost</th>\n      <td>0.943182</td>\n      <td>0.751131</td>\n      <td>0.84375</td>\n      <td>0.906593</td>\n      <td>0.750000</td>\n      <td>0.734375</td>\n    </tr>\n    <tr>\n      <th>SVM</th>\n      <td>0.922652</td>\n      <td>0.755656</td>\n      <td>0.78125</td>\n      <td>0.887097</td>\n      <td>0.750000</td>\n      <td>0.671875</td>\n    </tr>\n  </tbody>\n</table>\n</div>"
     },
     "execution_count": 15,
     "metadata": {},
     "output_type": "execute_result"
    }
   ],
   "source": [
    "vec_075"
   ],
   "metadata": {
    "collapsed": false,
    "ExecuteTime": {
     "end_time": "2024-05-11T02:26:16.949180300Z",
     "start_time": "2024-05-11T02:26:16.921266900Z"
    }
   },
   "id": "3938699b1e16326e"
  },
  {
   "cell_type": "code",
   "execution_count": 16,
   "outputs": [],
   "source": [
    "th = 0.85\n",
    "performance_dict = {}\n",
    "\n",
    "performance_dict['Random Forest'] = valid_and_test(loc_rfc, iter_rang, threshold=th)\n",
    "performance_dict['Logistic Regression'] = valid_and_test(loc_lrm, iter_rang, threshold=th)\n",
    "performance_dict['XGBoost'] = valid_and_test(loc_xgb, iter_rang, threshold=th)\n",
    "performance_dict['SVM'] = valid_and_test(loc_svm, iter_rang, threshold=th)\n",
    "\n",
    "loc_085 = load_to_df(performance_dict)\n",
    "\n",
    "performance_dict = {}\n",
    "\n",
    "performance_dict['Random Forest'] = valid_and_test(vec_rfc, iter_rang, type='vec', threshold=th)\n",
    "performance_dict['Logistic Regression'] = valid_and_test(vec_lrm, iter_rang, type='vec', threshold=th)\n",
    "performance_dict['XGBoost'] = valid_and_test(vec_xgb, iter_rang, type='vec', threshold=th)\n",
    "performance_dict['SVM'] = valid_and_test(vec_svm, iter_rang, type='vec', threshold=th)\n",
    "\n",
    "vec_085 = load_to_df(performance_dict)"
   ],
   "metadata": {
    "collapsed": false,
    "ExecuteTime": {
     "end_time": "2024-05-11T02:26:36.912272600Z",
     "start_time": "2024-05-11T02:26:16.936179800Z"
    }
   },
   "id": "385b38e8203cb5a2"
  },
  {
   "cell_type": "code",
   "execution_count": 17,
   "outputs": [
    {
     "data": {
      "text/plain": "Dataset                  Test                       Validation            \\\nMetric              Precision    Recall Specificity  Precision    Recall   \nRandom Forest        0.882353  0.882353    0.593750   0.885845  0.881818   \nLogistic Regression  0.883721  0.859729    0.609375   0.896714  0.868182   \nXGBoost              0.899083  0.886878    0.656250   0.891509  0.859091   \nSVM                  0.880734  0.868778    0.593750   0.880531  0.904545   \n\nDataset                          \nMetric              Specificity  \nRandom Forest          0.609375  \nLogistic Regression    0.656250  \nXGBoost                0.640625  \nSVM                    0.578125  ",
      "text/html": "<div>\n<style scoped>\n    .dataframe tbody tr th:only-of-type {\n        vertical-align: middle;\n    }\n\n    .dataframe tbody tr th {\n        vertical-align: top;\n    }\n\n    .dataframe thead tr th {\n        text-align: left;\n    }\n</style>\n<table border=\"1\" class=\"dataframe\">\n  <thead>\n    <tr>\n      <th>Dataset</th>\n      <th colspan=\"3\" halign=\"left\">Test</th>\n      <th colspan=\"3\" halign=\"left\">Validation</th>\n    </tr>\n    <tr>\n      <th>Metric</th>\n      <th>Precision</th>\n      <th>Recall</th>\n      <th>Specificity</th>\n      <th>Precision</th>\n      <th>Recall</th>\n      <th>Specificity</th>\n    </tr>\n  </thead>\n  <tbody>\n    <tr>\n      <th>Random Forest</th>\n      <td>0.882353</td>\n      <td>0.882353</td>\n      <td>0.593750</td>\n      <td>0.885845</td>\n      <td>0.881818</td>\n      <td>0.609375</td>\n    </tr>\n    <tr>\n      <th>Logistic Regression</th>\n      <td>0.883721</td>\n      <td>0.859729</td>\n      <td>0.609375</td>\n      <td>0.896714</td>\n      <td>0.868182</td>\n      <td>0.656250</td>\n    </tr>\n    <tr>\n      <th>XGBoost</th>\n      <td>0.899083</td>\n      <td>0.886878</td>\n      <td>0.656250</td>\n      <td>0.891509</td>\n      <td>0.859091</td>\n      <td>0.640625</td>\n    </tr>\n    <tr>\n      <th>SVM</th>\n      <td>0.880734</td>\n      <td>0.868778</td>\n      <td>0.593750</td>\n      <td>0.880531</td>\n      <td>0.904545</td>\n      <td>0.578125</td>\n    </tr>\n  </tbody>\n</table>\n</div>"
     },
     "execution_count": 17,
     "metadata": {},
     "output_type": "execute_result"
    }
   ],
   "source": [
    "loc_085"
   ],
   "metadata": {
    "collapsed": false,
    "ExecuteTime": {
     "end_time": "2024-05-11T02:26:36.939890500Z",
     "start_time": "2024-05-11T02:26:36.913276700Z"
    }
   },
   "id": "da7741535e1f5acd"
  },
  {
   "cell_type": "code",
   "execution_count": 18,
   "outputs": [
    {
     "data": {
      "text/plain": "Dataset                  Test                       Validation            \\\nMetric              Precision    Recall Specificity  Precision    Recall   \nRandom Forest        0.790614  0.990950    0.093750   0.774194  0.981818   \nLogistic Regression  0.811111  0.990950    0.203125   0.788321  0.981818   \nXGBoost              0.801471  0.986425    0.156250   0.796296  0.977273   \nSVM                  0.795620  0.986425    0.125000   0.783088  0.968182   \n\nDataset                          \nMetric              Specificity  \nRandom Forest          0.015625  \nLogistic Regression    0.093750  \nXGBoost                0.140625  \nSVM                    0.078125  ",
      "text/html": "<div>\n<style scoped>\n    .dataframe tbody tr th:only-of-type {\n        vertical-align: middle;\n    }\n\n    .dataframe tbody tr th {\n        vertical-align: top;\n    }\n\n    .dataframe thead tr th {\n        text-align: left;\n    }\n</style>\n<table border=\"1\" class=\"dataframe\">\n  <thead>\n    <tr>\n      <th>Dataset</th>\n      <th colspan=\"3\" halign=\"left\">Test</th>\n      <th colspan=\"3\" halign=\"left\">Validation</th>\n    </tr>\n    <tr>\n      <th>Metric</th>\n      <th>Precision</th>\n      <th>Recall</th>\n      <th>Specificity</th>\n      <th>Precision</th>\n      <th>Recall</th>\n      <th>Specificity</th>\n    </tr>\n  </thead>\n  <tbody>\n    <tr>\n      <th>Random Forest</th>\n      <td>0.790614</td>\n      <td>0.990950</td>\n      <td>0.093750</td>\n      <td>0.774194</td>\n      <td>0.981818</td>\n      <td>0.015625</td>\n    </tr>\n    <tr>\n      <th>Logistic Regression</th>\n      <td>0.811111</td>\n      <td>0.990950</td>\n      <td>0.203125</td>\n      <td>0.788321</td>\n      <td>0.981818</td>\n      <td>0.093750</td>\n    </tr>\n    <tr>\n      <th>XGBoost</th>\n      <td>0.801471</td>\n      <td>0.986425</td>\n      <td>0.156250</td>\n      <td>0.796296</td>\n      <td>0.977273</td>\n      <td>0.140625</td>\n    </tr>\n    <tr>\n      <th>SVM</th>\n      <td>0.795620</td>\n      <td>0.986425</td>\n      <td>0.125000</td>\n      <td>0.783088</td>\n      <td>0.968182</td>\n      <td>0.078125</td>\n    </tr>\n  </tbody>\n</table>\n</div>"
     },
     "execution_count": 18,
     "metadata": {},
     "output_type": "execute_result"
    }
   ],
   "source": [
    "vec_085"
   ],
   "metadata": {
    "collapsed": false,
    "ExecuteTime": {
     "end_time": "2024-05-11T02:26:36.973284600Z",
     "start_time": "2024-05-11T02:26:36.925887Z"
    }
   },
   "id": "1838308881abb4ee"
  },
  {
   "cell_type": "code",
   "execution_count": 31,
   "outputs": [
    {
     "name": "stdout",
     "output_type": "stream",
     "text": [
      "CM: \n",
      "[[ 34  30]\n",
      " [ 12 209]]\n",
      "Precision: 0.87\n",
      "Recall: 0.95\n",
      "Specificity: 0.53\n",
      "Accuracy: 0.85\n",
      "CM: \n",
      "[[ 36  28]\n",
      " [ 12 208]]\n",
      "Precision: 0.88\n",
      "Recall: 0.95\n",
      "Specificity: 0.56\n",
      "Accuracy: 0.86\n"
     ]
    },
    {
     "data": {
      "text/plain": "(0.8813559322033898,\n 0.9454545454545454,\n 0.5625,\n array([[ 36,  28],\n        [ 12, 208]], dtype=int64))"
     },
     "execution_count": 31,
     "metadata": {},
     "output_type": "execute_result"
    }
   ],
   "source": [
    "val_preds1 = loc_lrm.predict_proba(X_loc_train)[:, 1]\n",
    "val_preds2 = vec_xgb.predict_proba(X_vec_train)[:, 1]\n",
    "val_preds3 = loc_xgb.predict_proba(X_loc_train)[:, 1]\n",
    "val_preds4 = vec_lrm.predict_proba(X_vec_train)[:, 1]\n",
    "\n",
    "stacked_features = np.column_stack((val_preds1, val_preds2, val_preds3, val_preds4))\n",
    "\n",
    "meta_model = LogisticRegression()\n",
    "meta_model.fit(stacked_features, y_loc_train);\n",
    "\n",
    "test_preds1 = loc_lrm.predict_proba(X_loc_test)[:, 1]\n",
    "test_preds2 = vec_xgb.predict_proba(X_vec_test)[:, 1]\n",
    "test_preds3 = loc_xgb.predict_proba(X_loc_test)[:, 1]\n",
    "test_preds4 = vec_lrm.predict_proba(X_vec_test)[:, 1]\n",
    "test_x  = np.column_stack((test_preds1, test_preds2, test_preds3, test_preds4))\n",
    "\n",
    "test_pred = meta_model.predict(test_x)\n",
    "\n",
    "apply_metric(y_loc_test, test_pred)\n",
    "\n",
    "valid_preds1 = loc_lrm.predict_proba(X_loc_valid)[:, 1]\n",
    "valid_preds2 = vec_xgb.predict_proba(X_vec_valid)[:, 1]\n",
    "valid_preds3 = loc_xgb.predict_proba(X_loc_valid)[:, 1]\n",
    "valid_preds4 = vec_lrm.predict_proba(X_vec_valid)[:, 1]\n",
    "valid_x  = np.column_stack((valid_preds1, valid_preds2, valid_preds3, valid_preds4))\n",
    "\n",
    "valid_pred = meta_model.predict(valid_x)\n",
    "\n",
    "apply_metric(y_loc_valid, valid_pred)"
   ],
   "metadata": {
    "collapsed": false,
    "ExecuteTime": {
     "end_time": "2024-05-11T03:11:56.404452300Z",
     "start_time": "2024-05-11T03:11:56.300457100Z"
    }
   },
   "id": "57c587e2c46e3e01"
  },
  {
   "cell_type": "code",
   "execution_count": 32,
   "outputs": [
    {
     "name": "stdout",
     "output_type": "stream",
     "text": [
      "CM: \n",
      "[[ 46  18]\n",
      " [ 34 187]]\n",
      "Precision: 0.91\n",
      "Recall: 0.85\n",
      "Specificity: 0.72\n",
      "Accuracy: 0.82\n",
      "CM: \n",
      "[[ 47  17]\n",
      " [ 45 175]]\n",
      "Precision: 0.91\n",
      "Recall: 0.80\n",
      "Specificity: 0.73\n",
      "Accuracy: 0.78\n"
     ]
    },
    {
     "data": {
      "text/plain": "(0.9114583333333334,\n 0.7954545454545454,\n 0.734375,\n array([[ 47,  17],\n        [ 45, 175]], dtype=int64))"
     },
     "execution_count": 32,
     "metadata": {},
     "output_type": "execute_result"
    }
   ],
   "source": [
    "val_preds1 = loc_lrm.predict_proba(X_loc_train)[:, 1]\n",
    "val_preds2 = vec_lrm.predict_proba(X_vec_train)[:, 1]\n",
    "\n",
    "stacked_features = np.column_stack((val_preds1, val_preds2))\n",
    "\n",
    "meta_model = LogisticRegression()\n",
    "meta_model.fit(stacked_features, y_loc_train);\n",
    "\n",
    "test_preds1 = loc_lrm.predict_proba(X_loc_test)[:, 1]\n",
    "test_preds2 = vec_lrm.predict_proba(X_vec_test)[:, 1]\n",
    "test_x  = np.column_stack((test_preds1, test_preds2))\n",
    "\n",
    "test_pred = meta_model.predict(test_x)\n",
    "\n",
    "apply_metric(y_loc_test, test_pred)\n",
    "\n",
    "valid_preds1 = loc_lrm.predict_proba(X_loc_valid)[:, 1]\n",
    "valid_preds2 = vec_lrm.predict_proba(X_vec_valid)[:, 1]\n",
    "valid_x  = np.column_stack((valid_preds1, valid_preds2))\n",
    "\n",
    "valid_pred = meta_model.predict(valid_x)\n",
    "\n",
    "apply_metric(y_loc_valid, valid_pred)"
   ],
   "metadata": {
    "collapsed": false,
    "ExecuteTime": {
     "end_time": "2024-05-11T03:12:42.255960800Z",
     "start_time": "2024-05-11T03:12:42.198635100Z"
    }
   },
   "id": "d70495d247faa1b6"
  },
  {
   "cell_type": "code",
   "execution_count": 33,
   "outputs": [
    {
     "name": "stdout",
     "output_type": "stream",
     "text": [
      "CM: \n",
      "[[ 35  29]\n",
      " [ 12 209]]\n",
      "Precision: 0.88\n",
      "Recall: 0.95\n",
      "Specificity: 0.55\n",
      "Accuracy: 0.86\n",
      "CM: \n",
      "[[ 35  29]\n",
      " [ 12 208]]\n",
      "Precision: 0.88\n",
      "Recall: 0.95\n",
      "Specificity: 0.55\n",
      "Accuracy: 0.86\n"
     ]
    },
    {
     "data": {
      "text/plain": "(0.8776371308016878,\n 0.9454545454545454,\n 0.546875,\n array([[ 35,  29],\n        [ 12, 208]], dtype=int64))"
     },
     "execution_count": 33,
     "metadata": {},
     "output_type": "execute_result"
    }
   ],
   "source": [
    "val_preds1 = loc_xgb.predict_proba(X_loc_train)[:, 1]\n",
    "val_preds2 = vec_xgb.predict_proba(X_vec_train)[:, 1]\n",
    "\n",
    "stacked_features = np.column_stack((val_preds1, val_preds2))\n",
    "\n",
    "meta_model = LogisticRegression()\n",
    "meta_model.fit(stacked_features, y_loc_train);\n",
    "\n",
    "test_preds1 = loc_xgb.predict_proba(X_loc_test)[:, 1]\n",
    "test_preds2 = vec_xgb.predict_proba(X_vec_test)[:, 1]\n",
    "test_x  = np.column_stack((test_preds1, test_preds2))\n",
    "\n",
    "test_pred = meta_model.predict(test_x)\n",
    "\n",
    "apply_metric(y_loc_test, test_pred)\n",
    "\n",
    "valid_preds1 = loc_xgb.predict_proba(X_loc_valid)[:, 1]\n",
    "valid_preds2 = vec_xgb.predict_proba(X_vec_valid)[:, 1]\n",
    "valid_x  = np.column_stack((valid_preds1, valid_preds2))\n",
    "\n",
    "valid_pred = meta_model.predict(valid_x)\n",
    "\n",
    "apply_metric(y_loc_valid, valid_pred)"
   ],
   "metadata": {
    "collapsed": false,
    "ExecuteTime": {
     "end_time": "2024-05-11T03:13:20.642188300Z",
     "start_time": "2024-05-11T03:13:20.552190500Z"
    }
   },
   "id": "30805c09b2c1ee3b"
  },
  {
   "cell_type": "code",
   "execution_count": 36,
   "outputs": [
    {
     "name": "stdout",
     "output_type": "stream",
     "text": [
      "CM: \n",
      "[[ 37  27]\n",
      " [ 26 195]]\n",
      "Precision: 0.88\n",
      "Recall: 0.88\n",
      "Specificity: 0.58\n",
      "Accuracy: 0.81\n",
      "CM: \n",
      "[[ 42  22]\n",
      " [ 35 185]]\n",
      "Precision: 0.89\n",
      "Recall: 0.84\n",
      "Specificity: 0.66\n",
      "Accuracy: 0.80\n"
     ]
    },
    {
     "data": {
      "text/plain": "(0.893719806763285,\n 0.8409090909090909,\n 0.65625,\n array([[ 42,  22],\n        [ 35, 185]], dtype=int64))"
     },
     "execution_count": 36,
     "metadata": {},
     "output_type": "execute_result"
    }
   ],
   "source": [
    "\n",
    "val_preds1 = loc_lrm.predict_proba(X_loc_train)[:, 1]\n",
    "val_preds2 = vec_xgb.predict_proba(X_vec_train)[:, 1]\n",
    "\n",
    "stacked_features = np.column_stack((val_preds1, val_preds2))\n",
    "\n",
    "meta_model = LogisticRegression()\n",
    "meta_model.fit(stacked_features, y_loc_train)\n",
    "\n",
    "test_preds1 = loc_lrm.predict_proba(X_loc_test)[:, 1]\n",
    "test_preds2 = vec_xgb.predict_proba(X_vec_test)[:, 1]\n",
    "test_x = np.column_stack((test_preds1, test_preds2))\n",
    "\n",
    "test_pred = meta_model.predict(test_x)\n",
    "\n",
    "apply_metric(y_loc_test, test_pred)\n",
    "\n",
    "valid_preds1 = loc_lrm.predict_proba(X_loc_valid)[:, 1]\n",
    "valid_preds2 = vec_xgb.predict_proba(X_vec_valid)[:, 1]\n",
    "valid_x = np.column_stack((valid_preds1, valid_preds2))\n",
    "\n",
    "valid_pred = meta_model.predict(valid_x)\n",
    "\n",
    "apply_metric(y_loc_valid, valid_pred)"
   ],
   "metadata": {
    "collapsed": false,
    "ExecuteTime": {
     "end_time": "2024-05-11T03:14:50.025998200Z",
     "start_time": "2024-05-11T03:14:49.952152100Z"
    }
   },
   "id": "43bea833ae5efa88"
  },
  {
   "cell_type": "code",
   "execution_count": 37,
   "outputs": [
    {
     "name": "stdout",
     "output_type": "stream",
     "text": [
      "CM: \n",
      "[[ 36  28]\n",
      " [ 14 207]]\n",
      "Precision: 0.88\n",
      "Recall: 0.94\n",
      "Specificity: 0.56\n",
      "Accuracy: 0.85\n",
      "CM: \n",
      "[[ 36  28]\n",
      " [ 17 203]]\n",
      "Precision: 0.88\n",
      "Recall: 0.92\n",
      "Specificity: 0.56\n",
      "Accuracy: 0.84\n"
     ]
    },
    {
     "data": {
      "text/plain": "(0.8787878787878788,\n 0.9227272727272727,\n 0.5625,\n array([[ 36,  28],\n        [ 17, 203]], dtype=int64))"
     },
     "execution_count": 37,
     "metadata": {},
     "output_type": "execute_result"
    }
   ],
   "source": [
    "\n",
    "val_preds1 = loc_xgb.predict_proba(X_loc_train)[:, 1]\n",
    "val_preds2 = vec_lrm.predict_proba(X_vec_train)[:, 1]\n",
    "\n",
    "stacked_features = np.column_stack((val_preds1, val_preds2))\n",
    "\n",
    "meta_model = LogisticRegression()\n",
    "meta_model.fit(stacked_features, y_loc_train)\n",
    "\n",
    "test_preds1 = loc_xgb.predict_proba(X_loc_test)[:, 1]\n",
    "test_preds2 = vec_lrm.predict_proba(X_vec_test)[:, 1]\n",
    "test_x = np.column_stack((test_preds1, test_preds2))\n",
    "\n",
    "test_pred = meta_model.predict(test_x)\n",
    "\n",
    "apply_metric(y_loc_test, test_pred)\n",
    "\n",
    "valid_preds1 = loc_xgb.predict_proba(X_loc_valid)[:, 1]\n",
    "valid_preds2 = vec_lrm.predict_proba(X_vec_valid)[:, 1]\n",
    "valid_x = np.column_stack((valid_preds1, valid_preds2))\n",
    "\n",
    "valid_pred = meta_model.predict(valid_x)\n",
    "\n",
    "apply_metric(y_loc_valid, valid_pred)"
   ],
   "metadata": {
    "collapsed": false,
    "ExecuteTime": {
     "end_time": "2024-05-11T03:14:50.889999200Z",
     "start_time": "2024-05-11T03:14:50.840000900Z"
    }
   },
   "id": "1430b4b6fe83831b"
  },
  {
   "cell_type": "code",
   "execution_count": null,
   "outputs": [],
   "source": [],
   "metadata": {
    "collapsed": false
   },
   "id": "2a5d5b2b9ed0699"
  }
 ],
 "metadata": {
  "kernelspec": {
   "display_name": "Python 3",
   "language": "python",
   "name": "python3"
  },
  "language_info": {
   "codemirror_mode": {
    "name": "ipython",
    "version": 2
   },
   "file_extension": ".py",
   "mimetype": "text/x-python",
   "name": "python",
   "nbconvert_exporter": "python",
   "pygments_lexer": "ipython2",
   "version": "2.7.6"
  }
 },
 "nbformat": 4,
 "nbformat_minor": 5
}
