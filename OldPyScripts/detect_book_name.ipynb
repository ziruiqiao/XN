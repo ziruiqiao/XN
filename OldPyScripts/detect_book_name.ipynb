{
 "cells": [
  {
   "cell_type": "code",
   "execution_count": 2,
   "outputs": [
    {
     "name": "stderr",
     "output_type": "stream",
     "text": [
      "Combined Progress: 100%|██████████| 1500/1500 [00:16<00:00, 93.54it/s]\n"
     ]
    }
   ],
   "source": [
    "from tqdm import tqdm\n",
    "import time  # Added for simulating some code execution time\n",
    "\n",
    "total_iterations = 30 * 50\n",
    "\n",
    "# Create a tqdm progress bar\n",
    "with tqdm(total=total_iterations, desc=\"Combined Progress\") as pbar:\n",
    "    for x in range(30):\n",
    "        for y in range(50):\n",
    "            # Simulate some code execution time\n",
    "            time.sleep(0.01)\n",
    "            # some code ...\n",
    "\n",
    "            # Update the progress bar by one step\n",
    "            pbar.update(1)"
   ],
   "metadata": {
    "collapsed": false,
    "ExecuteTime": {
     "end_time": "2024-03-20T06:31:12.717987800Z",
     "start_time": "2024-03-20T06:30:56.614509400Z"
    }
   },
   "id": "9d0b33f82810c373"
  },
  {
   "cell_type": "code",
   "execution_count": 5,
   "id": "initial_id",
   "metadata": {
    "collapsed": true,
    "ExecuteTime": {
     "end_time": "2024-03-13T17:09:44.679121700Z",
     "start_time": "2024-03-13T17:09:42.877370Z"
    }
   },
   "outputs": [],
   "source": [
    "import matplotlib.patches as patches\n",
    "import boto3\n",
    "import json\n",
    "\n",
    "import constants as c\n",
    "from crop_functions import *\n",
    "from analyze_book_name_functions import *"
   ]
  },
  {
   "cell_type": "markdown",
   "source": [
    "# Prepare Request"
   ],
   "metadata": {
    "collapsed": false
   },
   "id": "8b3de2e306b039d5"
  },
  {
   "cell_type": "code",
   "execution_count": 14,
   "outputs": [],
   "source": [
    "with open('credentials.json') as f:\n",
    "    credentials = json.load(f)\n",
    "\n",
    "aws_access_key_id = credentials['aws_access_key_id']\n",
    "aws_secret_access_key = credentials['aws_secret_access_key']\n",
    "rekognition = boto3.client(\n",
    "    'rekognition',\n",
    "    region_name='us-east-1',\n",
    "    aws_access_key_id=aws_access_key_id,\n",
    "    aws_secret_access_key=aws_secret_access_key\n",
    ")\n",
    "client = vision.ImageAnnotatorClient()"
   ],
   "metadata": {
    "collapsed": false,
    "ExecuteTime": {
     "end_time": "2024-03-13T17:10:17.653607700Z",
     "start_time": "2024-03-13T17:10:15.873167200Z"
    }
   },
   "id": "883152968824e948"
  },
  {
   "cell_type": "markdown",
   "source": [
    "# Prepare Confusion Matrix Functions"
   ],
   "metadata": {
    "collapsed": false
   },
   "id": "6d35d1947540cf4c"
  },
  {
   "cell_type": "code",
   "execution_count": 7,
   "outputs": [],
   "source": [
    "def ensure_string(value):\n",
    "    if isinstance(value, str):\n",
    "        return value\n",
    "    else:\n",
    "        return str(value)\n",
    "\n",
    "def define_confusion_matrix(actual, predicted):\n",
    "    TP = FP = FN = 0\n",
    "    matched_actual = []\n",
    "    actual_copy = actual.copy()\n",
    "    fp_lst = []\n",
    "    fn_lst = []\n",
    "\n",
    "    print(f\"Number of True Book Names: {len(actual)}\")\n",
    "    print(f\"Number of Detected Book Name: {len(predicted)}\")\n",
    "    for p in predicted:\n",
    "        match_found = False\n",
    "        for a in actual:\n",
    "            if ensure_string(a).lower() == ensure_string(p).lower():\n",
    "                if a in actual_copy:\n",
    "                    actual_copy.remove(a)\n",
    "                    matched_actual.append(a)\n",
    "                    TP += 1\n",
    "                    match_found = True\n",
    "                    break\n",
    "                else:\n",
    "                    continue\n",
    "\n",
    "        if not match_found:\n",
    "            FP += 1\n",
    "            fp_lst.append(p)\n",
    "\n",
    "    # Check for False Negatives\n",
    "    matched_actual_copy = matched_actual.copy()\n",
    "    for a in actual:\n",
    "        if a not in matched_actual_copy:\n",
    "            FN += 1\n",
    "            fn_lst.append(a)\n",
    "        else:\n",
    "            matched_actual_copy.remove(a)\n",
    "\n",
    "\n",
    "    print(f\"{'Matched by both':<20} {TP:<20}\")\n",
    "    print(f\"{'Only by OCR':<20} {FP:<20}\")\n",
    "    print(f\"{'Only by Human':<20} {FN:<20}\")\n",
    "    print()\n",
    "\n",
    "    return fp_lst, fn_lst, TP"
   ],
   "metadata": {
    "collapsed": false,
    "ExecuteTime": {
     "end_time": "2024-03-13T17:09:54.306396500Z",
     "start_time": "2024-03-13T17:09:54.297663800Z"
    }
   },
   "id": "e9ce0c77eb9fcd9"
  },
  {
   "cell_type": "markdown",
   "source": [
    "# Prepare True Data"
   ],
   "metadata": {
    "collapsed": false
   },
   "id": "41b3f6d78e38b4b5"
  },
  {
   "cell_type": "code",
   "execution_count": 8,
   "outputs": [],
   "source": [
    "def collect_names(shelf: pd.DataFrame):\n",
    "    names = []\n",
    "    for index, row in shelf.iterrows():\n",
    "        book_name = row['Book Name']\n",
    "        author_name = row['Author Name']\n",
    "        temp_name = ''\n",
    "        if not pd.isna(book_name):\n",
    "            temp_name += book_name\n",
    "        if not pd.isna(author_name):\n",
    "            temp_name += ' ' + author_name\n",
    "        if temp_name != '':\n",
    "            names.append(temp_name)\n",
    "    splits = []\n",
    "    for string in names:\n",
    "        splits.extend(ensure_string(string).split())\n",
    "    return splits, names\n",
    "\n",
    "file_path1 = 'bookshelves_data.xlsx'\n",
    "file_path2 = 'bookshelves_data_round2.xlsx'\n",
    "\n",
    "all_sheets_df = pd.read_excel(file_path2, sheet_name=None)\n",
    "# shelf_1 = all_sheets_df['Bookshelves_1']\n",
    "# shelf_4 = all_sheets_df['Bookshelves_4']\n",
    "# shelf_5 = all_sheets_df['Bookshelves_5']\n",
    "shelf_6 = all_sheets_df['Bookshelves_6']\n",
    "shelf_7 = all_sheets_df['Bookshelves_7']\n",
    "shelf_8 = all_sheets_df['Bookshelves_8']\n",
    "# actual_names_1_split, actual_names_1 = collect_names(shelf_1)\n",
    "# actual_names_4_split, actual_names_4 = collect_names(shelf_4)\n",
    "# actual_names_5_split, actual_names_5 = collect_names(shelf_5)\n",
    "actual_names_6_split, actual_names_6 = collect_names(shelf_6)\n",
    "actual_names_7_split, actual_names_7 = collect_names(shelf_7)\n",
    "actual_names_8_split, actual_names_8 = collect_names(shelf_8)"
   ],
   "metadata": {
    "collapsed": false,
    "ExecuteTime": {
     "end_time": "2024-03-13T17:09:56.267369400Z",
     "start_time": "2024-03-13T17:09:56.209080900Z"
    }
   },
   "id": "e603d37655ef3fe7"
  },
  {
   "cell_type": "markdown",
   "source": [
    "# Show Text in Pics Functions"
   ],
   "metadata": {
    "collapsed": false
   },
   "id": "c51c2aad0aa3ebb"
  },
  {
   "cell_type": "code",
   "execution_count": 9,
   "outputs": [],
   "source": [
    "def get_rect(coord):\n",
    "    return {\n",
    "        'x': coord['Left'],\n",
    "        'y': coord['Top'],\n",
    "        'width': coord['Width'],\n",
    "        'height': coord['Height']\n",
    "    }\n",
    "\n",
    "def get_text_data(text):\n",
    "    coord = text.boundBox\n",
    "    return get_rect(coord)\n",
    "\n",
    "def draw_rectangle(rectangle, color='white'):\n",
    "    rect = patches.Rectangle((rectangle['x'],\n",
    "                              rectangle['y']),\n",
    "                             rectangle['width'],\n",
    "                             rectangle['height'],\n",
    "                             linewidth=1,\n",
    "                             edgecolor=color, facecolor='none')\n",
    "    return rect\n",
    "\n",
    "def plot_text_detected(im, df):\n",
    "    if df is not None:\n",
    "        all_text_rects = [draw_rectangle(get_text_data(annotation), color='blue')\n",
    "                      for annotation in df.itertuples()]\n",
    "    else:\n",
    "        all_text_rects = []\n",
    "    \n",
    "    fix,ax = plt.subplots(figsize=(12, 8))\n",
    "    ax.imshow(im)\n",
    "    \n",
    "    for rect in all_text_rects:\n",
    "        ax.add_patch(rect)\n",
    "    \n",
    "    plt.show()"
   ],
   "metadata": {
    "collapsed": false,
    "ExecuteTime": {
     "end_time": "2024-03-13T17:09:59.431706100Z",
     "start_time": "2024-03-13T17:09:59.416544200Z"
    }
   },
   "id": "b8661dfec6fb5e15"
  },
  {
   "cell_type": "markdown",
   "source": [
    "# Run Test"
   ],
   "metadata": {
    "collapsed": false
   },
   "id": "9e9952a4ddb384c2"
  },
  {
   "cell_type": "code",
   "execution_count": 32,
   "outputs": [
    {
     "name": "stdout",
     "output_type": "stream",
     "text": [
      "========================================================\n",
      "No need to be cropped\n",
      "========================================================\n"
     ]
    }
   ],
   "source": [
    "# img_paths = ['./pics/IMG_1548.JPG', './pics/IMG_1545.JPG', './pics/IMG_1544.JPG']\n",
    "img_paths = ['./pics/IMG_7940.jpeg'] #, './pics/IMG_7941.jpeg', './pics/IMG_7942.jpeg']\n",
    "actual_names = [[actual_names_6_split, actual_names_6]]\n",
    "    #, [actual_names_7_split, actual_names_7], [actual_names_8_split, actual_names_8]]\n",
    "cropped_pics = []\n",
    "for idx, path in enumerate(img_paths):\n",
    "    im, cropped_img = crop_image(path)\n",
    "    cropped_pics.append((cropped_img, im))\n",
    "    # for idx2, lst in enumerate(cropped_img):\n",
    "    #     for idx3, image in enumerate(lst):\n",
    "    #         plot_text_detected(image, None)"
   ],
   "metadata": {
    "collapsed": false,
    "ExecuteTime": {
     "end_time": "2024-03-13T19:29:38.775390100Z",
     "start_time": "2024-03-13T19:29:38.602447500Z"
    }
   },
   "id": "bec6211421dac318"
  },
  {
   "cell_type": "code",
   "execution_count": 26,
   "outputs": [],
   "source": [
    "def collect_book_names(img, api, select_ocr, use_line):\n",
    "    if select_ocr == 'google':\n",
    "        words, lines = get_google_response(img, api)\n",
    "        text = lines if use_line else words\n",
    "        allText, text_df = google_extract_text_and_position(text, img)\n",
    "    elif select_ocr == 'amazon':\n",
    "        words, lines = get_amazon_response(img, api)\n",
    "        text = lines if use_line else words\n",
    "        allText, text_df = amazon_extract_text_and_position(text, img)\n",
    "    else:\n",
    "        print(\"=========================\")\n",
    "        print(\"Invalid API\")\n",
    "        print(\"=========================\")\n",
    "        return None, None\n",
    "\n",
    "    text_df = analyze_text_location(text_df, img)\n",
    "    return text_df\n",
    "\n",
    "def get_data(img_paths, actual_names, cropped_pics, api, api_provider, useline):\n",
    "    print('=========================================================')\n",
    "    print(f'{api_provider.upper()} OCR with {\"line\" if useline else \"word\"}: \\n')\n",
    "    half_way_data = {}\n",
    "    for idx, (crops, ori_img) in enumerate(cropped_pics):\n",
    "        path = img_paths[idx]\n",
    "        img_name = path.split(\"/\")[-1]\n",
    "    \n",
    "        # predict_names = set()\n",
    "        # detected_texts = set()\n",
    "        half_way_data[idx] = {}\n",
    "        for idx2, lst in enumerate(crops):\n",
    "            half_way_data[idx][idx2] = {}\n",
    "            for idx3, image in enumerate(lst):\n",
    "                cv2.imwrite(f'./temp_pics/{img_name}_{idx2}_{idx3}.jpg', image)\n",
    "                text_df = collect_book_names(image, api, api_provider, useline)\n",
    "                half_way_data[idx][idx2][idx3] = text_df\n",
    "                # predict_names.update(book_names)\n",
    "                # for value in text_df.itertuples():\n",
    "                #     detected_texts.add(value.txt)\n",
    "    \n",
    "                # plot_text_detected(image, text_df)\n",
    "        # print(f\"{img_paths[idx]} Detected Line Confusion Matrix:\")\n",
    "        # fp1, fn1 = define_confusion_matrix(actual_names[idx][0], list(detected_texts))\n",
    "        # print(f\"Detected but not in Actual: {fp}\\n\")\n",
    "        # print(f\"In Actual but not Detected: {fn}\")\n",
    "        # print(f\"{img_paths[idx]} Book Name Confusion Matrix:\")\n",
    "        # fp2, fn2 = define_confusion_matrix(actual_names[idx][1], list(predict_names))\n",
    "        # print(f\"Detected but not in Actual: {fp}\\n\")\n",
    "        # print(f\"In Actual but not Detected: {fn}\")\n",
    "        # print('=========================================================')\n",
    "    return half_way_data\n",
    "        "
   ],
   "metadata": {
    "collapsed": false,
    "ExecuteTime": {
     "end_time": "2024-03-13T17:46:38.060931100Z",
     "start_time": "2024-03-13T17:46:38.052653Z"
    }
   },
   "id": "60e5fba39f7dd132"
  },
  {
   "cell_type": "code",
   "execution_count": 27,
   "outputs": [
    {
     "name": "stdout",
     "output_type": "stream",
     "text": [
      "=========================================================\n",
      "GOOGLE OCR with word: \n"
     ]
    }
   ],
   "source": [
    "# check_accuracy(client, 'google', True)\n",
    "half_way_data = get_data(img_paths, actual_names, cropped_pics, client, 'google', False)\n",
    "# check_accuracy(img_paths, actual_names, cropped_pics, rekognition, 'amazon', True)\n",
    "# check_accuracy(img_paths, actual_names, cropped_pics, rekognition, 'amazon', False)"
   ],
   "metadata": {
    "collapsed": false,
    "ExecuteTime": {
     "end_time": "2024-03-13T17:46:55.111690900Z",
     "start_time": "2024-03-13T17:46:39.048936Z"
    }
   },
   "id": "5f2be59081fb6fa0"
  },
  {
   "cell_type": "code",
   "execution_count": 18,
   "outputs": [],
   "source": [
    "import re\n",
    "\n",
    "def normalize(text):\n",
    "    return re.sub(r'[^a-z0-9\\s]', '', str(text).lower())\n",
    "\n",
    "\n",
    "# Function to calculate match percentage\n",
    "def calculate_match_percentage(book_author, string_list):\n",
    "    # Normalize the book/author name\n",
    "    normalized_book_author = set(normalize(book_author).split())\n",
    "    # Normalize the strings in the string list\n",
    "    normalized_string_list = [normalize(s) for s in string_list]\n",
    "\n",
    "    # Calculate the number of matching words\n",
    "    matches = sum(1 for word in normalized_string_list if word in normalized_book_author)\n",
    "    detected_matches = sum(1 for word in normalized_book_author if word in normalized_string_list)\n",
    "\n",
    "    # Calculate match percentage\n",
    "    if len(normalized_book_author) == 0:  # Prevent division by zero\n",
    "        return 0\n",
    "    match_percentage1 = (matches / len(normalized_book_author)) * 100\n",
    "    match_percentage2 = (detected_matches / len(normalized_string_list)) * 100\n",
    "    return match_percentage1, match_percentage2\n",
    "\n",
    "\n",
    "def highest_match(book_names, str_list):\n",
    "    highest_match_percentages = [(-1, -1)] * len(book_names)  # Start with -1 to indicate no match\n",
    "    highest_match_str = [-1] * len(book_names)\n",
    "    names = [-1] * len(book_names)\n",
    "    str_list_used = [False] * len(str_list)\n",
    "\n",
    "    # Compare each book/author name with each string list\n",
    "    for i in range(len(book_names)):\n",
    "\n",
    "        book_author = book_names[i]\n",
    "        for j, string_list in enumerate(str_list):\n",
    "            if str_list_used[j]:\n",
    "                continue\n",
    "\n",
    "            match_percentage = calculate_match_percentage(book_author, string_list)\n",
    "            if match_percentage[0] > highest_match_percentages[i][0]:\n",
    "                highest_match_percentages[i] = match_percentage\n",
    "                highest_match_str[i] = string_list\n",
    "                names[i] = book_author\n",
    "\n",
    "                if match_percentage[0] >= match_threshold and match_percentage[1] >= match_threshold:\n",
    "                    str_list_used[j] = True\n",
    "\n",
    "    highest_match_percentages = [percent for percent in highest_match_percentages if percent != -1]\n",
    "    highest_match_str = [idx for idx in highest_match_str if idx != -1]\n",
    "    names = [n for n in names if n != -1]\n",
    "    combined_list = list(zip(names, highest_match_str, highest_match_percentages))\n",
    "    return combined_list"
   ],
   "metadata": {
    "collapsed": false,
    "ExecuteTime": {
     "end_time": "2024-03-13T17:10:40.092151500Z",
     "start_time": "2024-03-13T17:10:40.085752600Z"
    }
   },
   "id": "8933b5e0dc556cce"
  },
  {
   "cell_type": "code",
   "execution_count": 15,
   "outputs": [],
   "source": [],
   "metadata": {
    "collapsed": false,
    "ExecuteTime": {
     "start_time": "2024-03-13T17:10:24.268487700Z"
    }
   },
   "id": "137030a1b2db7bf8"
  },
  {
   "cell_type": "code",
   "execution_count": 28,
   "outputs": [],
   "source": [
    "def distance_relative_wh2(point1, point2, width, height, slope, xdt, ydt):\n",
    "    x_diff = point2[0] - point1[0]\n",
    "    y_diff = point2[1] - point1[1]\n",
    "    if slope == 0:\n",
    "        slope = 0.0001\n",
    "    theta = math.atan(-1/slope)\n",
    "    sin_theta = math.sin(theta)\n",
    "    cos_theta = math.cos(theta)\n",
    "    rotated_x_diff = x_diff * cos_theta + y_diff * sin_theta\n",
    "    rotated_y_diff = y_diff * cos_theta - x_diff * sin_theta\n",
    "\n",
    "    perpen_diff = rotated_x_diff / (width * xdt)\n",
    "    parall_diff = rotated_y_diff / (height * ydt)\n",
    "\n",
    "    dist = sqrt(perpen_diff ** 2 + parall_diff ** 2)\n",
    "    # if rotated_y_diff > 0:\n",
    "    #     return -dist\n",
    "    return dist\n",
    "\n",
    "\n",
    "def update_distance2(element2, element1, df_all, xdt, ydt):\n",
    "    # Assuming width and height are known or calculated previously\n",
    "    # You may need to adjust the logic to calculate or retrieve width and height\n",
    "    point1 = element1[2]\n",
    "    point2 = element2[2]\n",
    "    t1 = df_all.iloc[element1[0]]\n",
    "    t1_slope = t1['slopes']\n",
    "    t1_direction = t1['direction']\n",
    "    if \"vertical\" == t1_direction:\n",
    "        slope = t1_slope[0]\n",
    "    elif \"horizontal\" == t1_direction:\n",
    "        slope = t1_slope[1]\n",
    "    else:\n",
    "        slope = 0\n",
    "    return distance_relative_wh2(point1, point2, t1.width, t1.height, slope, xdt, ydt)\n",
    "\n",
    "\n",
    "def combine_elements2(data_dict, df_all, xdt, ydt):\n",
    "    keys_to_remove = set()\n",
    "    data = data_dict.copy()\n",
    "    for key1 in data:\n",
    "        point1 = data[key1][0]\n",
    "        for key2 in data:\n",
    "            if key1 < key2 and key1 not in keys_to_remove:\n",
    "                set1 = set([item[0] for item in data[key1]])\n",
    "                set2 = set([item[0] for item in data[key2]])\n",
    "\n",
    "                shared_elements = set1 & set2\n",
    "                if shared_elements:\n",
    "                    # Combine lists and update elements\n",
    "                    # print(f\"{key1}: {key2}\")\n",
    "                    combined_list = [item for item in data[key2] if item[0] not in [i[0] for i in data[key1]]]\n",
    "\n",
    "                    # Update elements that are newly added from the smaller key's list\n",
    "                    for index, item in enumerate(combined_list):\n",
    "                        if item[0] not in shared_elements and item[0] != point1[0]:\n",
    "                            # Update the 4th element using the update_distance function\n",
    "                            # Assume point1, width, height, and slope are defined elsewhere\n",
    "                            temp_lst = list(item)\n",
    "                            updated_dist = update_distance2(item, point1, df_all, xdt, ydt)\n",
    "                            if len(temp_lst) == 4:\n",
    "                                temp_lst[3] = updated_dist\n",
    "                            else:\n",
    "                                temp_lst.append(updated_dist)\n",
    "                            combined_list[index] = tuple(temp_lst)\n",
    "\n",
    "                    combined_list = data[key1] + combined_list\n",
    "\n",
    "                    # Deduplicate the combined list based on the first element of each tuple\n",
    "                    unique_combined_list = []\n",
    "                    seen = set()\n",
    "                    for item in combined_list:\n",
    "                        if item[0] not in seen:\n",
    "                            unique_combined_list.append(item)\n",
    "                            seen.add(item[0])\n",
    "\n",
    "                    data[key1] = unique_combined_list\n",
    "                    keys_to_remove.add(key2)\n",
    "\n",
    "    # Remove keys\n",
    "    for key in keys_to_remove:\n",
    "        del data[key]\n",
    "\n",
    "    return data\n",
    "\n",
    "\n",
    "def group_related_text2(texts, xdt, ydt):\n",
    "    related_text = {}\n",
    "    for t1_idx, t1 in texts.iterrows():\n",
    "        if t1['confidence'] <= CONFIDENCE_THRESHOLD:\n",
    "            continue\n",
    "        related_text[t1_idx] = []\n",
    "        related_text[t1_idx].append((t1_idx, t1['txt'], t1.mid_point))\n",
    "        for t2_idx, t2 in texts.iterrows():\n",
    "            if t2['confidence'] <= CONFIDENCE_THRESHOLD or t1_idx == t2_idx:\n",
    "                continue\n",
    "            t1_slope = t1['slopes']\n",
    "            t1_direction = t1['direction']\n",
    "            t1_polygon = t1['vertices']\n",
    "            v_slope = -200 if t1_slope[0] == 0 else -1/t1_slope[0]\n",
    "            slope = min(abs(v_slope), abs(t1_slope[1]))\n",
    "            if \"vertical\" == t1_direction:\n",
    "                slope1 = -1 / slope if slope != 0 else -200\n",
    "            elif \"horizontal\" == t1_direction:\n",
    "                slope1 = slope\n",
    "            else:\n",
    "                print(\"===========================\")\n",
    "                print(\"l1 Invalid Direction\")\n",
    "                print(\"===========================\")\n",
    "                break\n",
    "            distance = distance_relative_wh2(t1.mid_point, t2.mid_point, t1.width, t1.height, slope1, xdt, ydt)\n",
    "            # inter_points = check_points(t2_polygon, slope1, p1, p2, img)\n",
    "            if distance < 1: # or inter_points >= 2:\n",
    "                content = (t2_idx, t2['txt'], t2.mid_point, distance)\n",
    "                if content not in related_text[t1_idx]:\n",
    "                    related_text[t1_idx].append(content)\n",
    "    return related_text\n",
    "\n",
    "\n",
    "def remove_duplicates2(original_data):\n",
    "    data = original_data.copy()\n",
    "    duplicate_data_key = []\n",
    "    k1_duplicate = False\n",
    "\n",
    "    for k1, value_list in data.items():\n",
    "        k1_words = [item[1] for item in value_list]\n",
    "        for k2, value_list2 in data.items():\n",
    "            if k2 <= k1:\n",
    "                continue\n",
    "            k2_words = [item[1] for item in value_list2]\n",
    "\n",
    "            set2 = set(k2_words)\n",
    "            set1 = set(k1_words)\n",
    "            if set2.issubset(set1):\n",
    "                duplicate_data_key.append(k2)\n",
    "            elif set1.issubset(set2):\n",
    "                duplicate_data_key.append(k1)\n",
    "                break\n",
    "\n",
    "    for k in duplicate_data_key:\n",
    "        data.pop(k, None)\n",
    "\n",
    "    return data\n",
    "\n",
    "match_threshold = 80\n",
    "\n",
    "def group_text(filtered_data, text_df, xdt, ydt):\n",
    "    data = combine_elements2(filtered_data, text_df, xdt, ydt)\n",
    "    name_lst = [[e[1] for e in v] for k, v in data.items()]\n",
    "    return name_lst\n",
    "\n",
    "\n",
    "def test_hyperparameter(xdt, ydt):\n",
    "    text_dict = {}\n",
    "    tp_list = []\n",
    "    actual_name = [[actual_names_6_split, actual_names_6]]#, [actual_names_7_split, actual_names_7], [actual_names_8_split, actual_names_8]]\n",
    "    for k1, v1 in half_way_data.items():\n",
    "        text_dict[k1] = pd.DataFrame()\n",
    "        detected_texts = []\n",
    "        total_true_match = 0\n",
    "        total_false_neg = len(actual_name[k1][1])\n",
    "        total_false_pos = 0\n",
    "        total_positive = len(actual_name[k1][1])\n",
    "        for k2, v2 in v1.items():\n",
    "            for k3, v3 in v2.items():\n",
    "                text_df = v3\n",
    "                related_text = group_related_text2(text_df, xdt, ydt)\n",
    "                filtered_data = remove_duplicates2(related_text)\n",
    "                book_names = group_text(filtered_data, text_df, xdt, ydt)\n",
    "                for value in text_df.itertuples():\n",
    "                    detected_texts.append(value.txt)\n",
    "                if len(text_df) > 0:\n",
    "                    text_df['crop_idx'] = [(k2, k3)] * len(text_df)\n",
    "                    text_df['Left'] = text_df['boundBox'].apply(lambda x: x['Left'])\n",
    "                    text_df['Top'] = text_df['boundBox'].apply(lambda x: x['Top'])\n",
    "                    df_sorted = text_df.sort_values(by=['Left', 'Top'])\n",
    "                    text_dict[k1] = pd.concat([text_dict[k1], df_sorted], ignore_index=True)\n",
    "\n",
    "                    hm_lst = highest_match(actual_name[k1][1], book_names)\n",
    "                    temp_book_names = actual_name[k1][1].copy()\n",
    "                    temp_hm_lst = hm_lst.copy()\n",
    "                    temp_grouped_names = book_names.copy()\n",
    "                    for hm in hm_lst:\n",
    "                        # print(hm)\n",
    "                        if hm[0] in temp_book_names and hm[2][0] >= match_threshold and hm[2][1] >= match_threshold:\n",
    "                            if hm[1] in temp_grouped_names:\n",
    "                                temp_book_names.remove(hm[0])\n",
    "                                temp_grouped_names.remove(hm[1])\n",
    "                                temp_hm_lst.remove(hm)\n",
    "                    true_match = len(actual_name[k1][1]) - len(temp_book_names)\n",
    "                    actual_name[k1][1] = temp_book_names\n",
    "                    false_positive = len(temp_grouped_names)\n",
    "                    total_true_match += true_match\n",
    "                    total_false_neg -= true_match\n",
    "                    total_false_pos += false_positive\n",
    "    \n",
    "        # print(f\"{img_paths[k1]} Book Name Group Larger than {match_threshold}%:\")\n",
    "        # print(f\"{'Matched by both':<20} {total_true_match:<20}\")\n",
    "        # print(f\"{'Only by OCR':<20} {total_false_pos:<20}\")\n",
    "        # print(f\"{'Only by Human':<20} {total_false_neg:<20}\")\n",
    "        # print('=========================================================')\n",
    "        tp_list.append(total_true_match)\n",
    "    return tp_list, text_dict\n",
    "\n",
    "# tp_lst, txt_dict = test_hyperparameter(0.5, 2)"
   ],
   "metadata": {
    "collapsed": false,
    "ExecuteTime": {
     "end_time": "2024-03-13T17:47:04.155432200Z",
     "start_time": "2024-03-13T17:47:04.146642200Z"
    }
   },
   "id": "502ad6a0afdc2267"
  },
  {
   "cell_type": "code",
   "execution_count": 38,
   "outputs": [
    {
     "name": "stderr",
     "output_type": "stream",
     "text": [
      "Processing xt:   0%|          | 0/13 [00:00<?, ?it/s]\n",
      "Processing yt:   0%|          | 0/9 [00:00<?, ?it/s]\u001B[A\n",
      "Processing yt:  11%|█         | 1/9 [00:45<06:00, 45.01s/it]\u001B[A\n",
      "Processing yt:  22%|██▏       | 2/9 [01:30<05:17, 45.42s/it]\u001B[A\n",
      "Processing yt:  33%|███▎      | 3/9 [02:15<04:31, 45.32s/it]\u001B[A\n",
      "Processing yt:  44%|████▍     | 4/9 [02:59<03:43, 44.74s/it]\u001B[A\n",
      "Processing yt:  56%|█████▌    | 5/9 [03:43<02:57, 44.46s/it]\u001B[A\n",
      "Processing yt:  67%|██████▋   | 6/9 [04:27<02:12, 44.15s/it]\u001B[A\n",
      "Processing yt:  78%|███████▊  | 7/9 [05:10<01:27, 43.99s/it]\u001B[A\n",
      "Processing yt:  89%|████████▉ | 8/9 [05:54<00:43, 43.96s/it]\u001B[A\n",
      "Processing yt: 100%|██████████| 9/9 [06:38<00:00, 44.29s/it]\u001B[A\n",
      "Processing xt:   8%|▊         | 1/13 [06:38<1:19:42, 398.57s/it]\n",
      "Processing yt:   0%|          | 0/9 [00:00<?, ?it/s]\u001B[A\n",
      "Processing yt:  11%|█         | 1/9 [00:44<05:52, 44.00s/it]\u001B[A\n",
      "Processing yt:  22%|██▏       | 2/9 [01:27<05:07, 43.96s/it]\u001B[A\n",
      "Processing yt:  33%|███▎      | 3/9 [02:12<04:24, 44.09s/it]\u001B[A\n",
      "Processing yt:  44%|████▍     | 4/9 [02:55<03:39, 43.83s/it]\u001B[A\n",
      "Processing yt:  56%|█████▌    | 5/9 [03:39<02:55, 43.84s/it]\u001B[A\n",
      "Processing yt:  67%|██████▋   | 6/9 [04:23<02:11, 43.73s/it]\u001B[A\n",
      "Processing yt:  78%|███████▊  | 7/9 [05:06<01:27, 43.65s/it]\u001B[A\n",
      "Processing yt:  89%|████████▉ | 8/9 [05:50<00:43, 43.62s/it]\u001B[A\n",
      "Processing yt: 100%|██████████| 9/9 [06:34<00:00, 43.79s/it]\u001B[A\n",
      "Processing xt:  15%|█▌        | 2/13 [13:12<1:12:35, 395.93s/it]\n",
      "Processing yt:   0%|          | 0/9 [00:00<?, ?it/s]\u001B[A\n",
      "Processing yt:  11%|█         | 1/9 [00:45<06:06, 45.80s/it]\u001B[A\n",
      "Processing yt:  22%|██▏       | 2/9 [01:32<05:24, 46.35s/it]\u001B[A\n",
      "Processing yt:  33%|███▎      | 3/9 [02:18<04:37, 46.32s/it]\u001B[A\n",
      "Processing yt:  44%|████▍     | 4/9 [03:04<03:49, 45.95s/it]\u001B[A\n",
      "Processing yt:  56%|█████▌    | 5/9 [03:48<03:01, 45.30s/it]\u001B[A\n",
      "Processing yt:  67%|██████▋   | 6/9 [04:33<02:15, 45.14s/it]\u001B[A\n",
      "Processing yt:  78%|███████▊  | 7/9 [05:17<01:29, 44.87s/it]\u001B[A\n",
      "Processing yt:  89%|████████▉ | 8/9 [06:01<00:44, 44.73s/it]\u001B[A\n",
      "Processing yt: 100%|██████████| 9/9 [06:45<00:00, 45.02s/it]\u001B[A\n",
      "Processing xt:  23%|██▎       | 3/13 [19:57<1:06:41, 400.15s/it]\n",
      "Processing yt:   0%|          | 0/9 [00:00<?, ?it/s]\u001B[A\n",
      "Processing yt:  11%|█         | 1/9 [00:47<06:17, 47.16s/it]\u001B[A\n",
      "Processing yt:  22%|██▏       | 2/9 [01:31<05:17, 45.42s/it]\u001B[A\n",
      "Processing yt:  33%|███▎      | 3/9 [02:15<04:27, 44.61s/it]\u001B[A\n",
      "Processing yt:  44%|████▍     | 4/9 [02:57<03:39, 43.97s/it]\u001B[A\n",
      "Processing yt:  56%|█████▌    | 5/9 [03:41<02:55, 43.80s/it]\u001B[A\n",
      "Processing yt:  67%|██████▋   | 6/9 [04:24<02:10, 43.66s/it]\u001B[A\n",
      "Processing yt:  78%|███████▊  | 7/9 [05:10<01:28, 44.15s/it]\u001B[A\n",
      "Processing yt:  89%|████████▉ | 8/9 [05:56<00:44, 44.73s/it]\u001B[A\n",
      "Processing yt: 100%|██████████| 9/9 [06:40<00:00, 44.53s/it]\u001B[A\n",
      "Processing xt:  31%|███       | 4/13 [26:38<1:00:03, 400.39s/it]\n",
      "Processing yt:   0%|          | 0/9 [00:00<?, ?it/s]\u001B[A\n",
      "Processing yt:  11%|█         | 1/9 [00:43<05:50, 43.79s/it]\u001B[A\n",
      "Processing yt:  22%|██▏       | 2/9 [01:26<05:03, 43.33s/it]\u001B[A\n",
      "Processing yt:  33%|███▎      | 3/9 [02:10<04:19, 43.30s/it]\u001B[A\n",
      "Processing yt:  44%|████▍     | 4/9 [02:53<03:37, 43.51s/it]\u001B[A\n",
      "Processing yt:  56%|█████▌    | 5/9 [03:37<02:53, 43.46s/it]\u001B[A\n",
      "Processing yt:  67%|██████▋   | 6/9 [04:20<02:10, 43.48s/it]\u001B[A\n",
      "Processing yt:  78%|███████▊  | 7/9 [05:04<01:27, 43.54s/it]\u001B[A\n",
      "Processing yt:  89%|████████▉ | 8/9 [05:47<00:43, 43.52s/it]\u001B[A\n",
      "Processing yt: 100%|██████████| 9/9 [06:31<00:00, 43.53s/it]\u001B[A\n",
      "Processing xt:  38%|███▊      | 5/13 [33:10<52:58, 397.29s/it]  \n",
      "Processing yt:   0%|          | 0/9 [00:00<?, ?it/s]\u001B[A\n",
      "Processing yt:  11%|█         | 1/9 [00:43<05:51, 43.89s/it]\u001B[A\n",
      "Processing yt:  22%|██▏       | 2/9 [01:27<05:04, 43.50s/it]\u001B[A\n",
      "Processing yt:  33%|███▎      | 3/9 [02:10<04:21, 43.54s/it]\u001B[A\n",
      "Processing yt:  44%|████▍     | 4/9 [02:54<03:37, 43.51s/it]\u001B[A\n",
      "Processing yt:  56%|█████▌    | 5/9 [03:37<02:53, 43.44s/it]\u001B[A\n",
      "Processing yt:  67%|██████▋   | 6/9 [04:20<02:10, 43.39s/it]\u001B[A\n",
      "Processing yt:  78%|███████▊  | 7/9 [05:04<01:26, 43.41s/it]\u001B[A\n",
      "Processing yt:  89%|████████▉ | 8/9 [05:48<00:43, 43.58s/it]\u001B[A\n",
      "Processing yt: 100%|██████████| 9/9 [06:31<00:00, 43.49s/it]\u001B[A\n",
      "Processing xt:  46%|████▌     | 6/13 [39:41<46:06, 395.28s/it]\n",
      "Processing yt:   0%|          | 0/9 [00:00<?, ?it/s]\u001B[A\n",
      "Processing yt:  11%|█         | 1/9 [00:43<05:49, 43.73s/it]\u001B[A\n",
      "Processing yt:  22%|██▏       | 2/9 [01:27<05:07, 43.95s/it]\u001B[A\n",
      "Processing yt:  33%|███▎      | 3/9 [02:11<04:22, 43.75s/it]\u001B[A\n",
      "Processing yt:  44%|████▍     | 4/9 [02:56<03:42, 44.47s/it]\u001B[A\n",
      "Processing yt:  56%|█████▌    | 5/9 [03:44<03:02, 45.50s/it]\u001B[A\n",
      "Processing yt:  67%|██████▋   | 6/9 [04:27<02:14, 44.84s/it]\u001B[A\n",
      "Processing yt:  78%|███████▊  | 7/9 [05:11<01:28, 44.32s/it]\u001B[A\n",
      "Processing yt:  89%|████████▉ | 8/9 [05:54<00:44, 44.05s/it]\u001B[A\n",
      "Processing yt: 100%|██████████| 9/9 [06:38<00:00, 44.23s/it]\u001B[A\n",
      "Processing xt:  54%|█████▍    | 7/13 [46:19<39:37, 396.20s/it]\n",
      "Processing yt:   0%|          | 0/9 [00:00<?, ?it/s]\u001B[A\n",
      "Processing yt:  11%|█         | 1/9 [00:43<05:46, 43.34s/it]\u001B[A\n",
      "Processing yt:  22%|██▏       | 2/9 [01:26<05:01, 43.11s/it]\u001B[A\n",
      "Processing yt:  33%|███▎      | 3/9 [02:09<04:18, 43.02s/it]\u001B[A\n",
      "Processing yt:  44%|████▍     | 4/9 [02:52<03:34, 42.94s/it]\u001B[A\n",
      "Processing yt:  56%|█████▌    | 5/9 [03:34<02:51, 42.92s/it]\u001B[A\n",
      "Processing yt:  67%|██████▋   | 6/9 [04:17<02:08, 42.92s/it]\u001B[A\n",
      "Processing yt:  78%|███████▊  | 7/9 [05:00<01:25, 42.91s/it]\u001B[A\n",
      "Processing yt:  89%|████████▉ | 8/9 [05:44<00:43, 43.04s/it]\u001B[A\n",
      "Processing yt: 100%|██████████| 9/9 [06:26<00:00, 42.98s/it]\u001B[A\n",
      "Processing xt:  62%|██████▏   | 8/13 [52:46<32:46, 393.21s/it]\n",
      "Processing yt:   0%|          | 0/9 [00:00<?, ?it/s]\u001B[A\n",
      "Processing yt:  11%|█         | 1/9 [00:42<05:42, 42.86s/it]\u001B[A\n",
      "Processing yt:  22%|██▏       | 2/9 [01:25<04:59, 42.80s/it]\u001B[A\n",
      "Processing yt:  33%|███▎      | 3/9 [02:08<04:17, 42.94s/it]\u001B[A\n",
      "Processing yt:  44%|████▍     | 4/9 [02:51<03:35, 43.01s/it]\u001B[A\n",
      "Processing yt:  56%|█████▌    | 5/9 [03:34<02:51, 42.97s/it]\u001B[A\n",
      "Processing yt:  67%|██████▋   | 6/9 [04:17<02:08, 42.99s/it]\u001B[A\n",
      "Processing yt:  78%|███████▊  | 7/9 [05:00<01:25, 42.89s/it]\u001B[A\n",
      "Processing yt:  89%|████████▉ | 8/9 [05:43<00:42, 42.97s/it]\u001B[A\n",
      "Processing yt: 100%|██████████| 9/9 [06:26<00:00, 42.97s/it]\u001B[A\n",
      "Processing xt:  69%|██████▉   | 9/13 [59:13<26:04, 391.20s/it]\n",
      "Processing yt:   0%|          | 0/9 [00:00<?, ?it/s]\u001B[A\n",
      "Processing yt:  11%|█         | 1/9 [00:43<05:46, 43.37s/it]\u001B[A\n",
      "Processing yt:  22%|██▏       | 2/9 [01:26<05:01, 43.06s/it]\u001B[A\n",
      "Processing yt:  33%|███▎      | 3/9 [02:09<04:18, 43.02s/it]\u001B[A\n",
      "Processing yt:  44%|████▍     | 4/9 [02:52<03:34, 42.98s/it]\u001B[A\n",
      "Processing yt:  56%|█████▌    | 5/9 [03:34<02:51, 42.89s/it]\u001B[A\n",
      "Processing yt:  67%|██████▋   | 6/9 [04:17<02:08, 42.85s/it]\u001B[A\n",
      "Processing yt:  78%|███████▊  | 7/9 [05:00<01:25, 42.84s/it]\u001B[A\n",
      "Processing yt:  89%|████████▉ | 8/9 [05:43<00:42, 42.80s/it]\u001B[A\n",
      "Processing yt: 100%|██████████| 9/9 [06:25<00:00, 42.89s/it]\u001B[A\n",
      "Processing xt:  77%|███████▋  | 10/13 [1:05:39<19:28, 389.59s/it]\n",
      "Processing yt:   0%|          | 0/9 [00:00<?, ?it/s]\u001B[A\n",
      "Processing yt:  11%|█         | 1/9 [00:42<05:43, 42.95s/it]\u001B[A\n",
      "Processing yt:  22%|██▏       | 2/9 [01:25<04:59, 42.83s/it]\u001B[A\n",
      "Processing yt:  33%|███▎      | 3/9 [02:08<04:17, 42.87s/it]\u001B[A\n",
      "Processing yt:  44%|████▍     | 4/9 [02:51<03:34, 42.87s/it]\u001B[A\n",
      "Processing yt:  56%|█████▌    | 5/9 [03:34<02:51, 42.91s/it]\u001B[A\n",
      "Processing yt:  67%|██████▋   | 6/9 [04:17<02:08, 42.95s/it]\u001B[A\n",
      "Processing yt:  78%|███████▊  | 7/9 [05:00<01:25, 42.91s/it]\u001B[A\n",
      "Processing yt:  89%|████████▉ | 8/9 [05:43<00:42, 42.87s/it]\u001B[A\n",
      "Processing yt: 100%|██████████| 9/9 [06:26<00:00, 42.90s/it]\u001B[A\n",
      "Processing xt:  85%|████████▍ | 11/13 [1:12:05<12:57, 388.51s/it]\n",
      "Processing yt:   0%|          | 0/9 [00:00<?, ?it/s]\u001B[A\n",
      "Processing yt:  11%|█         | 1/9 [00:42<05:43, 42.97s/it]\u001B[A\n",
      "Processing yt:  22%|██▏       | 2/9 [01:26<05:02, 43.28s/it]\u001B[A\n",
      "Processing yt:  33%|███▎      | 3/9 [02:10<04:22, 43.81s/it]\u001B[A\n",
      "Processing yt:  44%|████▍     | 4/9 [02:55<03:40, 44.07s/it]\u001B[A\n",
      "Processing yt:  56%|█████▌    | 5/9 [03:39<02:55, 43.96s/it]\u001B[A\n",
      "Processing yt:  67%|██████▋   | 6/9 [04:23<02:11, 43.95s/it]\u001B[A\n",
      "Processing yt:  78%|███████▊  | 7/9 [05:06<01:27, 43.69s/it]\u001B[A\n",
      "Processing yt:  89%|████████▉ | 8/9 [05:49<00:43, 43.56s/it]\u001B[A\n",
      "Processing yt: 100%|██████████| 9/9 [06:32<00:00, 43.64s/it]\u001B[A\n",
      "Processing xt:  92%|█████████▏| 12/13 [1:18:38<06:29, 389.81s/it]\n",
      "Processing yt:   0%|          | 0/9 [00:00<?, ?it/s]\u001B[A\n",
      "Processing yt:  11%|█         | 1/9 [00:43<05:47, 43.38s/it]\u001B[A\n",
      "Processing yt:  22%|██▏       | 2/9 [01:27<05:05, 43.67s/it]\u001B[A\n",
      "Processing yt:  33%|███▎      | 3/9 [02:10<04:21, 43.57s/it]\u001B[A\n",
      "Processing yt:  44%|████▍     | 4/9 [02:54<03:38, 43.69s/it]\u001B[A\n",
      "Processing yt:  56%|█████▌    | 5/9 [03:39<02:56, 44.04s/it]\u001B[A\n",
      "Processing yt:  67%|██████▋   | 6/9 [04:22<02:11, 43.93s/it]\u001B[A\n",
      "Processing yt:  78%|███████▊  | 7/9 [05:07<01:28, 44.03s/it]\u001B[A\n",
      "Processing yt:  89%|████████▉ | 8/9 [05:53<00:44, 44.85s/it]\u001B[A\n",
      "Processing yt: 100%|██████████| 9/9 [06:39<00:00, 44.41s/it]\u001B[A\n",
      "Processing xt: 100%|██████████| 13/13 [1:25:17<00:00, 393.69s/it]\n"
     ]
    }
   ],
   "source": [
    "from tqdm import tqdm\n",
    "\n",
    "lst = []\n",
    "threshold_lst = []\n",
    "txt_dicts = []\n",
    "for xt in tqdm(range(8, 21), desc='Processing xt'):\n",
    "    xt = xt / 10\n",
    "    for yt in tqdm(range(2, 11), desc='Processing yt'):\n",
    "        yt = yt / 2\n",
    "        tp_lst, txt_dict = test_hyperparameter(xt, yt)\n",
    "        lst.append(tp_lst)\n",
    "        txt_dicts.append(txt_dict)\n",
    "        threshold_lst.append((xt, yt))\n",
    "\n",
    "# import concurrent.futures\n",
    "# \n",
    "# def process_parameters(xt, yt):\n",
    "#     xt = xt / 10\n",
    "#     yt = yt / 2\n",
    "#     tp_lst, txt_dict = test_hyperparameter(xt, yt)\n",
    "#     return tp_lst, txt_dict, (xt, yt)\n",
    "# \n",
    "# # Prepare input parameters for processing\n",
    "# parameters = [(xt, yt) for xt in range(1, 20) for yt in range(2, 16)]\n",
    "# \n",
    "# # Using ThreadPoolExecutor to parallelize the process\n",
    "# with concurrent.futures.ThreadPoolExecutor() as executor:\n",
    "#     results = list(tqdm(executor.map(lambda p: process_parameters(*p), parameters), total=len(parameters)))\n",
    "# \n",
    "# # Unpacking results\n",
    "# lst, txt_dicts, threshold_lst = zip(*results)"
   ],
   "metadata": {
    "collapsed": false,
    "ExecuteTime": {
     "end_time": "2024-03-13T21:08:14.678580800Z",
     "start_time": "2024-03-13T19:42:56.682465100Z"
    }
   },
   "id": "542a45ad242411ee"
  },
  {
   "cell_type": "code",
   "execution_count": 35,
   "outputs": [
    {
     "data": {
      "text/plain": "<Figure size 2000x1200 with 1 Axes>",
      "image/png": "[encoded data removed]"
     },
     "metadata": {},
     "output_type": "display_data"
    }
   ],
   "source": [
    "def plot_tp(np_arr, img_name, formatted_labels):\n",
    "    plt.figure(figsize=(20, 12))\n",
    "    plt.plot(np_arr, marker='o', linestyle='-', color='b')\n",
    "    plt.title(f'Line Plot for {img_name}')\n",
    "    plt.xlabel('Category')\n",
    "    plt.ylabel('Value')\n",
    "    plt.xticks(ticks=range(len(formatted_labels)), labels=formatted_labels, rotation=90, fontsize=5)\n",
    "    plt.grid(True)\n",
    "    plt.show()\n",
    "\n",
    "np_arr = np.array(lst)\n",
    "formatted_labels = [f'{tup[0]}/{tup[1]}' for tup in threshold_lst]\n",
    "\n",
    "for i in range(len(img_paths)):\n",
    "    element_np = np_arr[:, i]\n",
    "    plot_tp(element_np, img_paths[i], formatted_labels)\n",
    "    "
   ],
   "metadata": {
    "collapsed": false,
    "ExecuteTime": {
     "end_time": "2024-03-13T19:30:08.832703600Z",
     "start_time": "2024-03-13T19:30:08.103078700Z"
    }
   },
   "id": "5cf3a6633c226485"
  },
  {
   "cell_type": "code",
   "execution_count": 39,
   "outputs": [
    {
     "data": {
      "text/plain": "<Figure size 2000x1200 with 1 Axes>",
      "image/png": "[encoded data removed]"
     },
     "metadata": {},
     "output_type": "display_data"
    }
   ],
   "source": [
    "def plot_tp(np_arr, img_name, formatted_labels):\n",
    "    plt.figure(figsize=(20, 12))\n",
    "    plt.plot(np_arr, marker='o', linestyle='-', color='b')\n",
    "    plt.title(f'Line Plot for {img_name}')\n",
    "    plt.xlabel('Category')\n",
    "    plt.ylabel('Value')\n",
    "    plt.xticks(ticks=range(len(formatted_labels)), labels=formatted_labels, rotation=90, fontsize=5)\n",
    "    plt.grid(True)\n",
    "    plt.show()\n",
    "\n",
    "np_arr = np.array(lst)\n",
    "formatted_labels = [f'{tup[0]}/{tup[1]}' for tup in threshold_lst]\n",
    "\n",
    "for i in range(len(img_paths)):\n",
    "    element_np = np_arr[:, i]\n",
    "    plot_tp(element_np, img_paths[i], formatted_labels)"
   ],
   "metadata": {
    "collapsed": false,
    "ExecuteTime": {
     "end_time": "2024-03-13T22:27:45.142016400Z",
     "start_time": "2024-03-13T22:27:43.604445500Z"
    }
   },
   "id": "c67a11cc5b77a14f"
  },
  {
   "cell_type": "markdown",
   "source": [
    "1. Metrics\n",
    "2. Choices of OCR\n",
    "    1. Text\n",
    "    2. Lines\n",
    "    3. Objects\n",
    "3. Text Relating\n",
    "    1. Distance\n",
    "    2. Horizontal distance\n",
    "    3. Weighted Distance\n",
    "4. Text Grouping\n",
    "    1. "
   ],
   "metadata": {
    "collapsed": false
   },
   "id": "efd9aa6abddc6483"
  },
  {
   "cell_type": "code",
   "execution_count": 1,
   "outputs": [
    {
     "ename": "NameError",
     "evalue": "name 'img_paths' is not defined",
     "output_type": "error",
     "traceback": [
      "\u001B[1;31m---------------------------------------------------------------------------\u001B[0m",
      "\u001B[1;31mNameError\u001B[0m                                 Traceback (most recent call last)",
      "Cell \u001B[1;32mIn[1], line 25\u001B[0m\n\u001B[0;32m     18\u001B[0m     plt\u001B[38;5;241m.\u001B[39mshow()\n\u001B[0;32m     20\u001B[0m \u001B[38;5;66;03m# Assuming `np_arr` is a numpy array and `formatted_labels` is a list of labels\u001B[39;00m\n\u001B[0;32m     21\u001B[0m \u001B[38;5;66;03m# And `threshold_lst` is defined somewhere in your code\u001B[39;00m\n\u001B[0;32m     22\u001B[0m \u001B[38;5;66;03m# Example: threshold_lst = [(1, 'A'), (2, 'B'), ...]\u001B[39;00m\n\u001B[0;32m     23\u001B[0m \n\u001B[0;32m     24\u001B[0m \u001B[38;5;66;03m# Splitting data and labels into 3 segments\u001B[39;00m\n\u001B[1;32m---> 25\u001B[0m \u001B[38;5;28;01mfor\u001B[39;00m i \u001B[38;5;129;01min\u001B[39;00m \u001B[38;5;28mrange\u001B[39m(\u001B[38;5;28mlen\u001B[39m(img_paths)):\n\u001B[0;32m     26\u001B[0m     \u001B[38;5;28;01mfor\u001B[39;00m segment_idx \u001B[38;5;129;01min\u001B[39;00m \u001B[38;5;28mrange\u001B[39m(\u001B[38;5;241m3\u001B[39m):\n\u001B[0;32m     27\u001B[0m         segment_length \u001B[38;5;241m=\u001B[39m np_arr\u001B[38;5;241m.\u001B[39mshape[\u001B[38;5;241m0\u001B[39m] \u001B[38;5;241m/\u001B[39m\u001B[38;5;241m/\u001B[39m \u001B[38;5;241m3\u001B[39m\n",
      "\u001B[1;31mNameError\u001B[0m: name 'img_paths' is not defined"
     ]
    }
   ],
   "source": [
    "import numpy as np\n",
    "import matplotlib.pyplot as plt\n",
    "\n",
    "def plot_tp(np_arr, img_name, formatted_labels, segment_idx):\n",
    "    plt.figure(figsize=(20, 12))\n",
    "    plt.plot(np_arr, marker='o', linestyle='-', color='b')\n",
    "    plt.title(f'Line Plot for {img_name} - Part {segment_idx+1}')\n",
    "    plt.xlabel('Category')\n",
    "    plt.ylabel('Value')\n",
    "\n",
    "    # Adjust the ticks to only include the relevant segment\n",
    "    segment_length = len(formatted_labels) // 3\n",
    "    start_idx = segment_idx * segment_length\n",
    "    end_idx = (segment_idx + 1) * segment_length if segment_idx < 2 else len(formatted_labels)\n",
    "\n",
    "    plt.xticks(ticks=range(start_idx, end_idx), labels=formatted_labels[start_idx:end_idx], rotation=90, fontsize=5)\n",
    "    plt.grid(True)\n",
    "    plt.show()\n",
    "\n",
    "# Assuming `np_arr` is a numpy array and `formatted_labels` is a list of labels\n",
    "# And `threshold_lst` is defined somewhere in your code\n",
    "# Example: threshold_lst = [(1, 'A'), (2, 'B'), ...]\n",
    "\n",
    "# Splitting data and labels into 3 segments\n",
    "for i in range(len(img_paths)):\n",
    "    for segment_idx in range(3):\n",
    "        segment_length = np_arr.shape[0] // 3\n",
    "        start_idx = segment_idx * segment_length\n",
    "        end_idx = (segment_idx + 1) * segment_length if segment_idx < 2 else np_arr.shape[0]\n",
    "\n",
    "        # Extract the segment of the numpy array for the current image\n",
    "        element_np = np_arr[start_idx:end_idx, i]\n",
    "\n",
    "        # Plot each segment\n",
    "        plot_tp(element_np, img_paths[i], formatted_labels, segment_idx)"
   ],
   "metadata": {
    "collapsed": false,
    "ExecuteTime": {
     "end_time": "2024-03-19T20:29:16.427067400Z",
     "start_time": "2024-03-19T20:29:15.004623Z"
    }
   },
   "id": "9b541b17fe5a3fcd"
  },
  {
   "cell_type": "code",
   "execution_count": 37,
   "outputs": [
    {
     "data": {
      "text/plain": "37"
     },
     "execution_count": 37,
     "metadata": {},
     "output_type": "execute_result"
    }
   ],
   "source": [
    "len(actual_names_6)"
   ],
   "metadata": {
    "collapsed": false,
    "ExecuteTime": {
     "end_time": "2024-03-13T19:32:52.494001Z",
     "start_time": "2024-03-13T19:32:52.456932400Z"
    }
   },
   "id": "3c23434c70d6f3f9"
  },
  {
   "cell_type": "markdown",
   "source": [
    "# Collect Book Names in Each Cropped Image"
   ],
   "metadata": {
    "collapsed": false
   },
   "id": "d369963683d74b6e"
  },
  {
   "cell_type": "code",
   "execution_count": null,
   "outputs": [],
   "source": [
    "# import time\n",
    "# start_time = time.time()\n",
    "# book_names = []\n",
    "# for lst in cropped_img:\n",
    "#     for img in lst:\n",
    "#         lst = collect_book_names(img, True)\n",
    "#         book_names.append(lst)\n",
    "# end_time = time.time()\n",
    "# \n",
    "# duration = end_time - start_time\n",
    "# print(f\"Time Used {duration} seconds\")\n",
    "\n",
    "# start_time = time.time()\n",
    "# item_lst = []\n",
    "# for idx, lst in enumerate(book_names):\n",
    "#     print(f'=============== {idx} =================')\n",
    "#     items = request_book_info(lst)\n",
    "#     item_lst.append(items)\n",
    "# \n",
    "# end_time = time.time()\n",
    "# \n",
    "# duration = end_time - start_time\n",
    "# print(f\"\\nTime Used {duration} seconds\")"
   ],
   "metadata": {
    "collapsed": false,
    "ExecuteTime": {
     "start_time": "2024-03-13T16:45:38.167252600Z"
    }
   },
   "id": "1861f9b75a0032dc"
  },
  {
   "cell_type": "markdown",
   "source": [
    "# Get Response"
   ],
   "metadata": {
    "collapsed": false
   },
   "id": "dbfb95717c5999aa"
  },
  {
   "cell_type": "code",
   "execution_count": null,
   "outputs": [],
   "source": [
    "# path = './temp_pics/IMG_1548.JPG_0_0.jpg'\n",
    "# \n",
    "# im = np.array(Image.open(path), dtype=np.uint8)\n",
    "# \n",
    "# texts, full_text = get_ocr_json(im)\n",
    "# response_text = get_amazon_response(im, rekognition)"
   ],
   "metadata": {
    "collapsed": false,
    "ExecuteTime": {
     "end_time": "2024-03-13T16:45:38.191261900Z",
     "start_time": "2024-03-13T16:45:38.170249200Z"
    }
   },
   "id": "e19a1a8284559bf9"
  },
  {
   "cell_type": "code",
   "execution_count": null,
   "outputs": [],
   "source": [
    "greys = []\n",
    "lines = []\n",
    "# for idx, path in enumerate(img_paths):\n",
    "path = img_paths[0]\n",
    "img, thresh, resize_rate = get_image_and_grey(path)\n",
    "image_height, image_width = thresh.shape\n",
    "min_line_height = image_height * LINE_HEIGHT_PERCENT\n",
    "min_line_width = image_width * LINE_WIDTH_PERCENT\n",
    "min_rows = round(min_line_height)\n",
    "min_cols = round(min_line_width)\n",
    "print(min_rows)\n",
    "print(min_cols)\n",
    "_, color_lines = check_color_area(thresh, min_rows, min_cols)\n",
    "print(check_shelf_divider(color_lines, thresh.shape))\n",
    "greys.append(thresh)\n",
    "lines.append(color_lines)\n",
    "\n",
    "cropped_img = []\n",
    "min_height = resize_rate/DEFAULT_RESIZE_RATE/LINE_HEIGHT_PERCENT * 2\n",
    "color_area = []\n",
    "\n",
    "for loc in color_lines:\n",
    "    original_area = calculate_original_area(loc[0], loc[1], loc[0] + min_rows, loc[1] + min_cols, 1/resize_rate)\n",
    "    color_area.append(original_area)\n",
    "\n",
    "remain_parts = get_remain_parts(img, color_area, min_height)\n",
    "horizontal_parts = cut_image_horizontally(img, remain_parts)\n",
    "\n",
    "for part in horizontal_parts:\n",
    "    vertical_parts = cut_image_vertically(part)\n",
    "    cropped_img.append(vertical_parts)"
   ],
   "metadata": {
    "collapsed": false,
    "ExecuteTime": {
     "start_time": "2024-03-13T16:45:38.172250100Z"
    }
   },
   "id": "5d9b3f09b029e6b9"
  },
  {
   "cell_type": "code",
   "execution_count": null,
   "outputs": [],
   "source": [
    "img= cropped_img[0][0]\n",
    "words, lines = get_google_response(img, client)\n",
    "text = words\n",
    "allText, text_df = google_extract_text_and_position(text, img)\n",
    "text_df = analyze_text_location(text_df, img)\n",
    "text_df"
   ],
   "metadata": {
    "collapsed": false,
    "ExecuteTime": {
     "start_time": "2024-03-13T16:45:38.174249800Z"
    }
   },
   "id": "2c71ec77064575f5"
  },
  {
   "cell_type": "code",
   "execution_count": null,
   "outputs": [],
   "source": [
    "img2 = img[0:1000, 1500:img.shape[1]]\n",
    "plt.imshow(img2)\n",
    "plt.axis('off')\n",
    "plt.show()"
   ],
   "metadata": {
    "collapsed": false,
    "ExecuteTime": {
     "start_time": "2024-03-13T16:45:38.176249900Z"
    }
   },
   "id": "45b86b8dbf9303e6"
  },
  {
   "cell_type": "code",
   "execution_count": null,
   "outputs": [],
   "source": [
    "# pat = './temp_pics/IMG_1548.JPG_0_0.jpg'\n",
    "# img = cv2.imread(pat)\n",
    "# img = cv2.cvtColor(img, cv2.COLOR_BGR2RGB)\n",
    "\n",
    "def distance_relative_wh(point1, point2, width, height, slope):\n",
    "    x_diff = point2[0] - point1[0]\n",
    "    y_diff = point2[1] - point1[1]\n",
    "    theta = math.atan(-1/slope)\n",
    "    sin = math.sin(theta)\n",
    "    cos = math.cos(theta)\n",
    "    perpen_diff = (x_diff*cos + y_diff*sin) / (width * xdt)\n",
    "    parall_diff = (y_diff*cos - x_diff*sin) / (height * ydt)\n",
    "    return sqrt(perpen_diff ** 2 + parall_diff ** 2)\n",
    "\n",
    "\n",
    "mask = np.zeros_like(img2)\n",
    "ref_point = text_df.iloc[8]\n",
    "mid_point = (ref_point.mid_point[0] - 1500, ref_point.mid_point[1])\n",
    "\n",
    "for y in range(img2.shape[0]):\n",
    "    for x in range(img2.shape[1]):\n",
    "        distance = distance_relative_wh(mid_point, (x, y), ref_point.width, ref_point.height, ref_point.slopes[0])\n",
    "        if distance < 1:\n",
    "            mask[y, x] = [255, 0, 0]  # Set the mask to blue (in RGB) for pixels that pass the distance function\n",
    "\n",
    "result = cv2.addWeighted(img2, 0.7, mask, 0.3, 0)\n",
    "\n",
    "plt.figure(figsize=(10, 10))\n",
    "plt.imshow(result)\n",
    "plt.axis('off')\n",
    "plt.show()"
   ],
   "metadata": {
    "collapsed": false,
    "ExecuteTime": {
     "start_time": "2024-03-13T16:45:38.177250700Z"
    }
   },
   "id": "1f4caade510ce112"
  },
  {
   "cell_type": "code",
   "execution_count": null,
   "outputs": [],
   "source": [
    "fix,ax = plt.subplots(figsize=(12, 8))\n",
    "\n",
    "ax.imshow(img)\n",
    "height, width = img.shape[:2]\n",
    "num_points = 9999\n",
    "\n",
    "ref_point = text_df.iloc[88]\n",
    "\n",
    "x_coords = np.random.randint(0, width, size=num_points)\n",
    "y_coords = np.random.randint(0, height, size=num_points)\n",
    "\n",
    "for x, y in zip(x_coords, y_coords):\n",
    "    distance = distance_relative_wh(ref_point.mid_point, (x, y), ref_point.width, ref_point.height, ref_point.slopes[0])\n",
    "    color = 'blue' if distance < 1 else 'red'\n",
    "    ax.scatter(x, y, color=color, s= 2)\n",
    "plt.axis('off')\n",
    "plt.show()"
   ],
   "metadata": {
    "collapsed": false,
    "ExecuteTime": {
     "start_time": "2024-03-13T16:45:38.179250800Z"
    }
   },
   "id": "b843f404d569bf54"
  },
  {
   "cell_type": "code",
   "execution_count": null,
   "outputs": [],
   "source": [
    "for lst in cropped_img:\n",
    "    for img in lst:\n",
    "        plot_text_detected(img, None)"
   ],
   "metadata": {
    "collapsed": false,
    "ExecuteTime": {
     "start_time": "2024-03-13T16:45:38.180250300Z"
    }
   },
   "id": "6855a8989d19c335"
  },
  {
   "cell_type": "code",
   "execution_count": null,
   "outputs": [],
   "source": [
    "lines"
   ],
   "metadata": {
    "collapsed": false,
    "ExecuteTime": {
     "start_time": "2024-03-13T16:45:38.182250700Z"
    }
   },
   "id": "79741e68b756c1b6"
  },
  {
   "cell_type": "code",
   "execution_count": null,
   "outputs": [],
   "source": [
    "greys[2]"
   ],
   "metadata": {
    "collapsed": false,
    "ExecuteTime": {
     "start_time": "2024-03-13T16:45:38.183250Z"
    }
   },
   "id": "18fc08c02a6c29af"
  },
  {
   "cell_type": "code",
   "execution_count": null,
   "outputs": [],
   "source": [],
   "metadata": {
    "collapsed": false,
    "ExecuteTime": {
     "start_time": "2024-03-13T16:45:38.185250200Z"
    }
   },
   "id": "8ada35f6d3f155d8"
  }
 ],
 "metadata": {
  "kernelspec": {
   "display_name": "Python 3",
   "language": "python",
   "name": "python3"
  },
  "language_info": {
   "codemirror_mode": {
    "name": "ipython",
    "version": 2
   },
   "file_extension": ".py",
   "mimetype": "text/x-python",
   "name": "python",
   "nbconvert_exporter": "python",
   "pygments_lexer": "ipython2",
   "version": "2.7.6"
  }
 },
 "nbformat": 4,
 "nbformat_minor": 5
}
